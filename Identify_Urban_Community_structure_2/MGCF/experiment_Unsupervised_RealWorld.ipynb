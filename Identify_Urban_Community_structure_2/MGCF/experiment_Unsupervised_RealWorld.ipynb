{
 "cells": [
  {
   "cell_type": "code",
   "execution_count": 3,
   "metadata": {},
   "outputs": [],
   "source": [
    "import random\n",
    "import networkx as nx\n",
    "import numpy as np\n",
    "import karateclub\n",
    "from tkinter import _flatten\n",
    "import community\n",
    "import MGCF"
   ]
  },
  {
   "cell_type": "code",
   "execution_count": 5,
   "metadata": {},
   "outputs": [],
   "source": [
    "import pandas as pd"
   ]
  },
  {
   "cell_type": "markdown",
   "metadata": {},
   "source": [
    "### 1~4. Data Generation"
   ]
  },
  {
   "cell_type": "code",
   "execution_count": 1,
   "metadata": {},
   "outputs": [],
   "source": [
    "sample_num = 2000"
   ]
  },
  {
   "cell_type": "code",
   "execution_count": 18,
   "metadata": {},
   "outputs": [],
   "source": [
    "# 构造图节点\n",
    "nodes_list = list(range(sample_num))\n",
    "G1 = nx.Graph()\n",
    "G1.add_nodes_from(nodes_list)\n",
    "\n",
    "# 读取邻接矩阵adjacent\n",
    "# 以工作日(周一)的早高峰时段为例\n",
    "adj_modul = pd.read_csv('../../data/adj/adj_20151109_0002.csv')\n",
    "adj_modul = adj_modul.iloc[:, 1:].values\n",
    "adj_modul = adj_modul[:sample_num:, :sample_num:]\n",
    "adj_modul = adj_modul + adj_modul.T\n",
    "adj_modul = adj_modul - np.diag(adj_modul.diagonal())\n",
    "# for i in range(sample_num):\n",
    "#     if (adj_modul[i]==0).all():\n",
    "#         adj_modul[i, :] = 0.0001\n",
    "#         adj_modul[:, i] = 0.0001\n",
    "    \n",
    "D_12 = np.diag(np.power(np.sum(adj_modul, axis=0)+0.00001, -1/2))\n",
    "adj_modul_norm = np.dot(np.dot(D_12, adj_modul), D_12)\n",
    "\n",
    "for i in range(sample_num):\n",
    "    for j in range(sample_num):\n",
    "        tmp = adj_modul_norm[i, j]\n",
    "        if tmp>0: G1.add_edge(i, j, weight=tmp)"
   ]
  },
  {
   "cell_type": "code",
   "execution_count": 19,
   "metadata": {},
   "outputs": [],
   "source": [
    "adj_reach = pd.read_csv('../../data/adj_reachability/adj_reachability.csv')\n",
    "adj_reach = adj_reach.iloc[::, 1::].values\n",
    "adj_reach = adj_reach[:sample_num:, :sample_num:]\n",
    "adj_reach = adj_reach - np.diag(adj_reach.diagonal())\n",
    "# for i in range(sample_num):\n",
    "#     if (adj_reach[i]==0).all():\n",
    "#         adj_reach[i, :] = 0.0001\n",
    "#         adj_reach[:, i] = 0.0001\n",
    "    \n",
    "G2 = nx.Graph()\n",
    "G2.add_nodes_from(nodes_list)\n",
    "\n",
    "D_12 = np.diag(np.power(np.sum(adj_reach, axis=0)+0.00001, -1/2))\n",
    "adj_reach_norm = np.dot(np.dot(D_12, adj_reach), D_12)\n",
    "\n",
    "for i in range(sample_num):\n",
    "    for j in range(sample_num):\n",
    "        tmp = adj_reach_norm[i, j]\n",
    "        if tmp>0: G2.add_edge(i, j, weight=tmp)"
   ]
  },
  {
   "cell_type": "code",
   "execution_count": 8,
   "metadata": {},
   "outputs": [],
   "source": [
    "feature = pd.read_csv('../../data/features/features_wf_new.csv')\n",
    "feature = feature.iloc[:, 1::].values\n",
    "feature = feature[:sample_num:, :]"
   ]
  },
  {
   "cell_type": "markdown",
   "metadata": {},
   "source": [
    "### 5. Combine Multi-Graph"
   ]
  },
  {
   "cell_type": "code",
   "execution_count": 20,
   "metadata": {},
   "outputs": [],
   "source": [
    "G = nx.Graph()\n",
    "G.add_nodes_from(nodes_list)\n",
    "\n",
    "adj_combine = adj_modul_norm + adj_reach_norm\n",
    "for i in range(sample_num):\n",
    "    if (adj_combine[i]==0).all():\n",
    "        adj_combine[i, :] = 0.0001\n",
    "        adj_combine[:, i] = 0.0001\n",
    "\n",
    "D_12 = np.diag(np.power(np.sum(adj_combine, axis=0)+0.00001, -1/2))\n",
    "adj_combine_norm = np.dot(np.dot(D_12, adj_combine), D_12)\n",
    "\n",
    "for i in range(sample_num):\n",
    "    for j in range(sample_num):\n",
    "        tmp = adj_combine_norm[i, j]\n",
    "        if tmp>0: G.add_edge(i, j, weight=tmp)"
   ]
  },
  {
   "cell_type": "markdown",
   "metadata": {},
   "source": [
    "### 6. for Algorithm Process & Evaluation"
   ]
  },
  {
   "cell_type": "code",
   "execution_count": 29,
   "metadata": {},
   "outputs": [],
   "source": [
    "N = sample_num\n",
    "X = feature\n",
    "M = feature.shape[1]\n",
    "K = 17\n",
    "# omega = 1/K*np.ones(K)\n",
    "beta = 1/M*np.ones(M)"
   ]
  },
  {
   "cell_type": "code",
   "execution_count": 59,
   "metadata": {},
   "outputs": [
    {
     "name": "stdout",
     "output_type": "stream",
     "text": [
      "0.582\n",
      "0.561\n"
     ]
    }
   ],
   "source": [
    "# 1. DANMF\n",
    "\n",
    "model1 = karateclub.DANMF()\n",
    "model1.fit(G)\n",
    "cluster_membership = model1.get_memberships()\n",
    "clusters = cluster_membership\n",
    "labels_pred = list(_flatten(list(clusters.values())))\n",
    "partition = dict(zip(list(range(len(labels_pred))), labels_pred))\n",
    "partition_2 = {}\n",
    "for i in range(len(labels_pred)):\n",
    "    if labels_pred[i] not in partition_2:\n",
    "        partition_2[labels_pred[i]] = [i]\n",
    "    else:\n",
    "        partition_2[labels_pred[i]].append(i)\n",
    "        \n",
    "cn = len(partition_2)\n",
    "U = np.zeros((cn, N))\n",
    "for k, v in partition.items():\n",
    "    U[v, k] = 1\n",
    "    \n",
    "print(round((community.modularity(partition, G1, weight='weight') + community.modularity(partition, G2, weight='weight'))/2, 3))\n",
    "print(round(np.sqrt(np.sum(np.square(np.dot(np.dot(U, X), beta) / np.sum(np.dot(np.dot(U, X), beta))  - np.ones(cn)/cn))), 3))"
   ]
  },
  {
   "cell_type": "code",
   "execution_count": 58,
   "metadata": {},
   "outputs": [
    {
     "name": "stdout",
     "output_type": "stream",
     "text": [
      "-0.0\n",
      "0.706\n"
     ]
    }
   ],
   "source": [
    "# 2. NNSED\n",
    "\n",
    "model1 = karateclub.NNSED(dimensions=K)\n",
    "model1.fit(G)\n",
    "cluster_membership = model1.get_memberships()\n",
    "clusters = cluster_membership\n",
    "labels_pred = list(_flatten(list(clusters.values())))\n",
    "partition = dict(zip(list(range(len(labels_pred))), labels_pred))\n",
    "partition_2 = {}\n",
    "for i in range(len(labels_pred)):\n",
    "    if labels_pred[i] not in partition_2:\n",
    "        partition_2[labels_pred[i]] = [i]\n",
    "    else:\n",
    "        partition_2[labels_pred[i]].append(i)\n",
    "        \n",
    "cn = len(partition_2)\n",
    "U = np.zeros((cn, N))\n",
    "for k, v in partition.items():\n",
    "    U[v, k] = 1\n",
    "    \n",
    "print(round((community.modularity(partition, G1, weight='weight') + community.modularity(partition, G2, weight='weight'))/2, 3))\n",
    "print(round(np.sqrt(np.sum(np.square(np.dot(np.dot(U, X), beta) / np.sum(np.dot(np.dot(U, X), beta))  - np.ones(cn)/cn))), 3))"
   ]
  },
  {
   "cell_type": "code",
   "execution_count": 57,
   "metadata": {},
   "outputs": [
    {
     "name": "stdout",
     "output_type": "stream",
     "text": [
      "0.357\n",
      "0.04\n"
     ]
    }
   ],
   "source": [
    "# 3. MNMF\n",
    "\n",
    "model1 = karateclub.MNMF(clusters=K)\n",
    "model1.fit(G)\n",
    "cluster_membership = model1.get_memberships()\n",
    "clusters = cluster_membership\n",
    "labels_pred = list(_flatten(list(clusters.values())))\n",
    "\n",
    "remap = list(set(labels_pred))\n",
    "for i in range(len(labels_pred)):\n",
    "    labels_pred[i] = remap.index(labels_pred[i])\n",
    "\n",
    "partition = dict(zip(list(range(len(labels_pred))), labels_pred))\n",
    "partition_2 = {}\n",
    "for i in range(len(labels_pred)):\n",
    "    if labels_pred[i] not in partition_2:\n",
    "        partition_2[labels_pred[i]] = [i]\n",
    "    else:\n",
    "        partition_2[labels_pred[i]].append(i)\n",
    "        \n",
    "cn = len(partition_2)\n",
    "U = np.zeros((cn, N))\n",
    "for k, v in partition.items():\n",
    "    U[v, k] = 1\n",
    "    \n",
    "print(round((community.modularity(partition, G1, weight='weight') + community.modularity(partition, G2, weight='weight'))/2, 3))\n",
    "print(round(np.sqrt(np.sum(np.square(np.dot(np.dot(U, X), beta) / np.sum(np.dot(np.dot(U, X), beta))  - np.ones(cn)/cn))), 3))"
   ]
  },
  {
   "cell_type": "code",
   "execution_count": 56,
   "metadata": {},
   "outputs": [
    {
     "name": "stdout",
     "output_type": "stream",
     "text": [
      "0.005\n",
      "0.67\n"
     ]
    }
   ],
   "source": [
    "# 4. BigClam\n",
    "\n",
    "model1 = karateclub.BigClam(dimensions=K)\n",
    "model1.fit(G)\n",
    "cluster_membership = model1.get_memberships()\n",
    "clusters = cluster_membership\n",
    "labels_pred = list(_flatten(list(clusters.values())))\n",
    "\n",
    "remap = list(set(labels_pred))\n",
    "for i in range(len(labels_pred)):\n",
    "    labels_pred[i] = remap.index(labels_pred[i])\n",
    "\n",
    "partition = dict(zip(list(range(len(labels_pred))), labels_pred))\n",
    "partition_2 = {}\n",
    "for i in range(len(labels_pred)):\n",
    "    if labels_pred[i] not in partition_2:\n",
    "        partition_2[labels_pred[i]] = [i]\n",
    "    else:\n",
    "        partition_2[labels_pred[i]].append(i)\n",
    "        \n",
    "cn = len(partition_2)\n",
    "U = np.zeros((cn, N))\n",
    "for k, v in partition.items():\n",
    "    U[v, k] = 1\n",
    "    \n",
    "print(round((community.modularity(partition, G1, weight='weight') + community.modularity(partition, G2, weight='weight'))/2, 3))\n",
    "print(round(np.sqrt(np.sum(np.square(np.dot(np.dot(U, X), beta) / np.sum(np.dot(np.dot(U, X), beta))  - np.ones(cn)/cn))), 3))"
   ]
  },
  {
   "cell_type": "code",
   "execution_count": 55,
   "metadata": {},
   "outputs": [
    {
     "name": "stdout",
     "output_type": "stream",
     "text": [
      "-0.006\n",
      "0.042\n"
     ]
    }
   ],
   "source": [
    "# 5. SNMF\n",
    "\n",
    "model1 = karateclub.SymmNMF(dimensions=K)\n",
    "model1.fit(G)\n",
    "cluster_membership = model1.get_memberships()\n",
    "clusters = cluster_membership\n",
    "labels_pred = list(_flatten(list(clusters.values())))\n",
    "\n",
    "remap = list(set(labels_pred))\n",
    "for i in range(len(labels_pred)):\n",
    "    labels_pred[i] = remap.index(labels_pred[i])\n",
    "\n",
    "partition = dict(zip(list(range(len(labels_pred))), labels_pred))\n",
    "partition_2 = {}\n",
    "for i in range(len(labels_pred)):\n",
    "    if labels_pred[i] not in partition_2:\n",
    "        partition_2[labels_pred[i]] = [i]\n",
    "    else:\n",
    "        partition_2[labels_pred[i]].append(i)\n",
    "        \n",
    "cn = len(partition_2)\n",
    "U = np.zeros((cn, N))\n",
    "for k, v in partition.items():\n",
    "    U[v, k] = 1\n",
    "    \n",
    "print(round((community.modularity(partition, G1, weight='weight') + community.modularity(partition, G2, weight='weight'))/2, 3))\n",
    "print(round(np.sqrt(np.sum(np.square(np.dot(np.dot(U, X), beta) / np.sum(np.dot(np.dot(U, X), beta))  - np.ones(cn)/cn))), 3))"
   ]
  },
  {
   "cell_type": "code",
   "execution_count": 54,
   "metadata": {},
   "outputs": [
    {
     "name": "stdout",
     "output_type": "stream",
     "text": [
      "0.292\n",
      "0.63\n"
     ]
    }
   ],
   "source": [
    "# 6. GEMSEC\n",
    "\n",
    "model1 = karateclub.GEMSEC(dimensions=K)\n",
    "model1.fit(G)\n",
    "cluster_membership = model1.get_memberships()\n",
    "clusters = cluster_membership\n",
    "labels_pred = list(_flatten(list(clusters.values())))\n",
    "\n",
    "remap = list(set(labels_pred))\n",
    "for i in range(len(labels_pred)):\n",
    "    labels_pred[i] = remap.index(labels_pred[i])\n",
    "\n",
    "partition = dict(zip(list(range(len(labels_pred))), labels_pred))\n",
    "partition_2 = {}\n",
    "for i in range(len(labels_pred)):\n",
    "    if labels_pred[i] not in partition_2:\n",
    "        partition_2[labels_pred[i]] = [i]\n",
    "    else:\n",
    "        partition_2[labels_pred[i]].append(i)\n",
    "        \n",
    "cn = len(partition_2)\n",
    "U = np.zeros((cn, N))\n",
    "for k, v in partition.items():\n",
    "    U[v, k] = 1\n",
    "    \n",
    "print(round((community.modularity(partition, G1, weight='weight') + community.modularity(partition, G2, weight='weight'))/2, 3))\n",
    "print(round(np.sqrt(np.sum(np.square(np.dot(np.dot(U, X), beta) / np.sum(np.dot(np.dot(U, X), beta))  - np.ones(cn)/cn))), 3))"
   ]
  },
  {
   "cell_type": "code",
   "execution_count": 53,
   "metadata": {},
   "outputs": [
    {
     "name": "stdout",
     "output_type": "stream",
     "text": [
      "0.425\n",
      "0.183\n"
     ]
    }
   ],
   "source": [
    "# 7. SCD\n",
    "\n",
    "model1 = karateclub.SCD()\n",
    "model1.fit(G)\n",
    "cluster_membership = model1.get_memberships()\n",
    "clusters = cluster_membership\n",
    "labels_pred = list(_flatten(list(clusters.values())))\n",
    "\n",
    "remap = list(set(labels_pred))\n",
    "for i in range(len(labels_pred)):\n",
    "    labels_pred[i] = remap.index(labels_pred[i])\n",
    "\n",
    "partition = dict(zip(list(range(len(labels_pred))), labels_pred))\n",
    "partition_2 = {}\n",
    "for i in range(len(labels_pred)):\n",
    "    if labels_pred[i] not in partition_2:\n",
    "        partition_2[labels_pred[i]] = [i]\n",
    "    else:\n",
    "        partition_2[labels_pred[i]].append(i)\n",
    "        \n",
    "cn = len(partition_2)\n",
    "U = np.zeros((cn, N))\n",
    "for k, v in partition.items():\n",
    "    U[v, k] = 1\n",
    "    \n",
    "print(round((community.modularity(partition, G1, weight='weight') + community.modularity(partition, G2, weight='weight'))/2, 3))\n",
    "print(round(np.sqrt(np.sum(np.square(np.dot(np.dot(U, X), beta) / np.sum(np.dot(np.dot(U, X), beta))  - np.ones(cn)/cn))), 3))"
   ]
  },
  {
   "cell_type": "code",
   "execution_count": 52,
   "metadata": {},
   "outputs": [
    {
     "name": "stdout",
     "output_type": "stream",
     "text": [
      "-0.0\n",
      "0.0\n"
     ]
    }
   ],
   "source": [
    "# 8. LPA\n",
    "\n",
    "model1 = karateclub.LabelPropagation(seed=10, iterations=100)\n",
    "model1.fit(G)\n",
    "cluster_membership = model1.get_memberships()\n",
    "clusters = cluster_membership\n",
    "labels_pred = list(_flatten(list(clusters.values())))\n",
    "\n",
    "remap = list(set(labels_pred))\n",
    "for i in range(len(labels_pred)):\n",
    "    labels_pred[i] = remap.index(labels_pred[i])\n",
    "\n",
    "partition = dict(zip(list(range(len(labels_pred))), labels_pred))\n",
    "partition_2 = {}\n",
    "for i in range(len(labels_pred)):\n",
    "    if labels_pred[i] not in partition_2:\n",
    "        partition_2[labels_pred[i]] = [i]\n",
    "    else:\n",
    "        partition_2[labels_pred[i]].append(i)\n",
    "        \n",
    "cn = len(partition_2)\n",
    "U = np.zeros((cn, N))\n",
    "for k, v in partition.items():\n",
    "    U[v, k] = 1\n",
    "    \n",
    "print(round((community.modularity(partition, G1, weight='weight') + community.modularity(partition, G2, weight='weight'))/2, 3))\n",
    "print(round(np.sqrt(np.sum(np.square(np.dot(np.dot(U, X), beta) / np.sum(np.dot(np.dot(U, X), beta))  - np.ones(cn)/cn))), 3))"
   ]
  },
  {
   "cell_type": "code",
   "execution_count": 48,
   "metadata": {},
   "outputs": [
    {
     "name": "stdout",
     "output_type": "stream",
     "text": [
      "0.783\n",
      "0.13\n"
     ]
    }
   ],
   "source": [
    "# 9. Louvain\n",
    "\n",
    "partition = community.best_partition(G, weight='weight', randomize=True, resolution=2)\n",
    "labels_pred = partition\n",
    "partition_2 = {}\n",
    "for i in range(len(labels_pred)):\n",
    "    if labels_pred[i] not in partition_2:\n",
    "        partition_2[labels_pred[i]] = [i]\n",
    "    else:\n",
    "        partition_2[labels_pred[i]].append(i)\n",
    "        \n",
    "cn = len(partition_2)\n",
    "U = np.zeros((cn, N))\n",
    "for k, v in partition.items():\n",
    "    U[v, k] = 1\n",
    "    \n",
    "print(round((community.modularity(partition, G1, weight='weight') + community.modularity(partition, G2, weight='weight'))/2, 3))\n",
    "print(round(np.sqrt(np.sum(np.square(np.dot(np.dot(U, X), beta) / np.sum(np.dot(np.dot(U, X), beta))  - np.ones(cn)/cn))), 3))"
   ]
  },
  {
   "cell_type": "code",
   "execution_count": 50,
   "metadata": {},
   "outputs": [
    {
     "name": "stdout",
     "output_type": "stream",
     "text": [
      "Epoch:  0 ; soft_mod:  -0.002904 ; loss_cons:  0.057599 ; loss_clus:  0.0\n",
      "Epoch:  10 ; soft_mod:  -0.000283 ; loss_cons:  0.037043 ; loss_clus:  1.84574\n",
      "Epoch:  20 ; soft_mod:  0.002731 ; loss_cons:  0.029711 ; loss_clus:  1.815098\n",
      "Epoch:  30 ; soft_mod:  0.002473 ; loss_cons:  0.034163 ; loss_clus:  1.515752\n",
      "Epoch:  40 ; soft_mod:  0.009534 ; loss_cons:  0.029763 ; loss_clus:  1.28132\n",
      "Epoch:  50 ; soft_mod:  0.006305 ; loss_cons:  0.021884 ; loss_clus:  1.105752\n",
      "Epoch:  60 ; soft_mod:  0.024029 ; loss_cons:  0.023747 ; loss_clus:  0.979124\n",
      "Epoch:  70 ; soft_mod:  0.037242 ; loss_cons:  0.026684 ; loss_clus:  0.871779\n",
      "Epoch:  80 ; soft_mod:  0.055106 ; loss_cons:  0.02381 ; loss_clus:  0.814244\n",
      "Epoch:  90 ; soft_mod:  0.084603 ; loss_cons:  0.023199 ; loss_clus:  0.774688\n",
      "Epoch:  100 ; soft_mod:  0.155083 ; loss_cons:  0.021722 ; loss_clus:  0.774612\n",
      "Epoch:  110 ; soft_mod:  0.243362 ; loss_cons:  0.025372 ; loss_clus:  0.796897\n",
      "Epoch:  120 ; soft_mod:  0.307496 ; loss_cons:  0.024007 ; loss_clus:  0.8387\n",
      "Epoch:  130 ; soft_mod:  0.422206 ; loss_cons:  0.019875 ; loss_clus:  0.97265\n",
      "Epoch:  140 ; soft_mod:  0.49889 ; loss_cons:  0.020104 ; loss_clus:  1.149163\n",
      "Epoch:  150 ; soft_mod:  0.568896 ; loss_cons:  0.019985 ; loss_clus:  1.426115\n",
      "Epoch:  160 ; soft_mod:  0.610341 ; loss_cons:  0.021779 ; loss_clus:  1.81475\n",
      "Epoch:  170 ; soft_mod:  0.641704 ; loss_cons:  0.020221 ; loss_clus:  2.35419\n",
      "Epoch:  180 ; soft_mod:  0.653584 ; loss_cons:  0.020768 ; loss_clus:  3.027432\n",
      "Epoch:  190 ; soft_mod:  0.676431 ; loss_cons:  0.024477 ; loss_clus:  3.985568\n",
      "Epoch:  200 ; soft_mod:  0.682234 ; loss_cons:  0.026411 ; loss_clus:  4.978562\n",
      "Epoch:  210 ; soft_mod:  0.687101 ; loss_cons:  0.031503 ; loss_clus:  5.994617\n",
      "Epoch:  220 ; soft_mod:  0.687974 ; loss_cons:  0.037919 ; loss_clus:  6.9349\n",
      "Epoch:  230 ; soft_mod:  0.691748 ; loss_cons:  0.045021 ; loss_clus:  7.690982\n",
      "Epoch:  240 ; soft_mod:  0.690199 ; loss_cons:  0.05288 ; loss_clus:  8.274128\n",
      "Epoch:  250 ; soft_mod:  0.702726 ; loss_cons:  0.060335 ; loss_clus:  8.600119\n",
      "Epoch:  260 ; soft_mod:  0.705713 ; loss_cons:  0.070696 ; loss_clus:  8.740915\n",
      "Epoch:  270 ; soft_mod:  0.707567 ; loss_cons:  0.078908 ; loss_clus:  8.728149\n",
      "Epoch:  280 ; soft_mod:  0.718093 ; loss_cons:  0.08661 ; loss_clus:  8.515845\n",
      "Epoch:  290 ; soft_mod:  0.722014 ; loss_cons:  0.094406 ; loss_clus:  8.214928\n",
      "Epoch:  300 ; soft_mod:  0.724623 ; loss_cons:  0.102169 ; loss_clus:  7.796485\n",
      "Epoch:  310 ; soft_mod:  0.731335 ; loss_cons:  0.107928 ; loss_clus:  7.35766\n",
      "Epoch:  320 ; soft_mod:  0.74116 ; loss_cons:  0.113981 ; loss_clus:  6.917935\n",
      "Epoch:  330 ; soft_mod:  0.745475 ; loss_cons:  0.119035 ; loss_clus:  6.528646\n",
      "Epoch:  340 ; soft_mod:  0.747815 ; loss_cons:  0.123907 ; loss_clus:  6.14467\n",
      "Epoch:  350 ; soft_mod:  0.749007 ; loss_cons:  0.127618 ; loss_clus:  5.758552\n",
      "Epoch:  360 ; soft_mod:  0.750229 ; loss_cons:  0.130686 ; loss_clus:  5.418481\n",
      "Epoch:  370 ; soft_mod:  0.750649 ; loss_cons:  0.133924 ; loss_clus:  5.064269\n",
      "Epoch:  380 ; soft_mod:  0.754204 ; loss_cons:  0.136641 ; loss_clus:  4.737082\n",
      "Epoch:  390 ; soft_mod:  0.756361 ; loss_cons:  0.139061 ; loss_clus:  4.441403\n",
      "Epoch:  400 ; soft_mod:  0.756679 ; loss_cons:  0.141599 ; loss_clus:  4.154801\n",
      "Epoch:  410 ; soft_mod:  0.759657 ; loss_cons:  0.143655 ; loss_clus:  3.901613\n",
      "Epoch:  420 ; soft_mod:  0.76139 ; loss_cons:  0.14554 ; loss_clus:  3.6662\n",
      "Epoch:  430 ; soft_mod:  0.760951 ; loss_cons:  0.147506 ; loss_clus:  3.491154\n",
      "Epoch:  440 ; soft_mod:  0.762003 ; loss_cons:  0.149327 ; loss_clus:  3.303319\n",
      "Epoch:  450 ; soft_mod:  0.76295 ; loss_cons:  0.150547 ; loss_clus:  3.123018\n",
      "Epoch:  460 ; soft_mod:  0.763479 ; loss_cons:  0.151722 ; loss_clus:  2.938129\n",
      "Epoch:  470 ; soft_mod:  0.764544 ; loss_cons:  0.152625 ; loss_clus:  2.79659\n",
      "Epoch:  480 ; soft_mod:  0.764479 ; loss_cons:  0.153622 ; loss_clus:  2.636748\n",
      "Epoch:  490 ; soft_mod:  0.765091 ; loss_cons:  0.154089 ; loss_clus:  2.512282\n",
      "Epoch:  500 ; soft_mod:  0.765091 ; loss_cons:  0.15453 ; loss_clus:  2.388412\n",
      "Epoch:  510 ; soft_mod:  0.765456 ; loss_cons:  0.15516 ; loss_clus:  2.268622\n",
      "Epoch:  520 ; soft_mod:  0.765901 ; loss_cons:  0.155457 ; loss_clus:  2.15159\n",
      "Epoch:  530 ; soft_mod:  0.765859 ; loss_cons:  0.155943 ; loss_clus:  2.062295\n",
      "Epoch:  540 ; soft_mod:  0.765859 ; loss_cons:  0.156131 ; loss_clus:  1.974736\n",
      "Epoch:  550 ; soft_mod:  0.76632 ; loss_cons:  0.156578 ; loss_clus:  1.881345\n",
      "Epoch:  560 ; soft_mod:  0.766214 ; loss_cons:  0.15681 ; loss_clus:  1.80508\n",
      "Epoch:  570 ; soft_mod:  0.766498 ; loss_cons:  0.156912 ; loss_clus:  1.722954\n",
      "Epoch:  580 ; soft_mod:  0.766316 ; loss_cons:  0.157237 ; loss_clus:  1.655151\n",
      "Epoch:  590 ; soft_mod:  0.766497 ; loss_cons:  0.1573 ; loss_clus:  1.587169\n",
      "Epoch:  600 ; soft_mod:  0.766399 ; loss_cons:  0.157572 ; loss_clus:  1.534433\n",
      "Epoch:  610 ; soft_mod:  0.766595 ; loss_cons:  0.157691 ; loss_clus:  1.474487\n",
      "Epoch:  620 ; soft_mod:  0.766595 ; loss_cons:  0.157885 ; loss_clus:  1.418136\n",
      "Epoch:  630 ; soft_mod:  0.766595 ; loss_cons:  0.157979 ; loss_clus:  1.378757\n",
      "Epoch:  640 ; soft_mod:  0.766595 ; loss_cons:  0.158032 ; loss_clus:  1.331731\n",
      "Epoch:  650 ; soft_mod:  0.766595 ; loss_cons:  0.158131 ; loss_clus:  1.284712\n",
      "Epoch:  660 ; soft_mod:  0.766595 ; loss_cons:  0.158327 ; loss_clus:  1.228314\n",
      "Epoch:  670 ; soft_mod:  0.766614 ; loss_cons:  0.158445 ; loss_clus:  1.202908\n",
      "Epoch:  680 ; soft_mod:  0.766614 ; loss_cons:  0.15843 ; loss_clus:  1.163469\n",
      "Epoch:  690 ; soft_mod:  0.766614 ; loss_cons:  0.158523 ; loss_clus:  1.114346\n"
     ]
    }
   ],
   "source": [
    "# Ours\n",
    "partition = MGCF.main(clusters_number=K, feature=X, multi_graph=[G1, G2], alpha_1=1, alpha_2=0.1, alpha_3=0.001, weight_list=[1, 1], alpha=2, epoch_num=700)"
   ]
  },
  {
   "cell_type": "code",
   "execution_count": 51,
   "metadata": {},
   "outputs": [
    {
     "name": "stdout",
     "output_type": "stream",
     "text": [
      "0.767\n",
      "0.123\n"
     ]
    }
   ],
   "source": [
    "labels_pred = partition\n",
    "partition_2 = {}\n",
    "for i in range(len(labels_pred)):\n",
    "    if labels_pred[i] not in partition_2:\n",
    "        partition_2[labels_pred[i]] = [i]\n",
    "    else:\n",
    "        partition_2[labels_pred[i]].append(i)\n",
    "        \n",
    "cn = len(partition_2)\n",
    "U = np.zeros((cn, N))\n",
    "for k, v in partition.items():\n",
    "    U[v, k] = 1\n",
    "    \n",
    "print(round((community.modularity(partition, G1, weight='weight') + community.modularity(partition, G2, weight='weight'))/2, 3))\n",
    "print(round(np.sqrt(np.sum(np.square(np.dot(np.dot(U, X), beta) / np.sum(np.dot(np.dot(U, X), beta))  - np.ones(cn)/cn))), 3))"
   ]
  },
  {
   "cell_type": "code",
   "execution_count": 40,
   "metadata": {},
   "outputs": [
    {
     "name": "stdout",
     "output_type": "stream",
     "text": [
      "0.813\n",
      "0.114\n"
     ]
    }
   ],
   "source": [
    "labels_pred = partition\n",
    "partition_2 = {}\n",
    "for i in range(len(labels_pred)):\n",
    "    if labels_pred[i] not in partition_2:\n",
    "        partition_2[labels_pred[i]] = [i]\n",
    "    else:\n",
    "        partition_2[labels_pred[i]].append(i)\n",
    "        \n",
    "cn = len(partition_2)\n",
    "U = np.zeros((cn, N))\n",
    "for k, v in partition.items():\n",
    "    U[v, k] = 1\n",
    "    \n",
    "print(round(community.modularity(partition, G, weight='weight'), 3))\n",
    "print(round(np.sqrt(np.sum(np.square(np.dot(np.dot(U, X), beta) / np.sum(np.dot(np.dot(U, X), beta))  - np.ones(cn)/cn))), 3))"
   ]
  },
  {
   "cell_type": "code",
   "execution_count": null,
   "metadata": {},
   "outputs": [],
   "source": []
  }
 ],
 "metadata": {
  "kernelspec": {
   "display_name": "Python 3",
   "language": "python",
   "name": "python3"
  },
  "language_info": {
   "codemirror_mode": {
    "name": "ipython",
    "version": 3
   },
   "file_extension": ".py",
   "mimetype": "text/x-python",
   "name": "python",
   "nbconvert_exporter": "python",
   "pygments_lexer": "ipython3",
   "version": "3.7.7"
  }
 },
 "nbformat": 4,
 "nbformat_minor": 4
}
