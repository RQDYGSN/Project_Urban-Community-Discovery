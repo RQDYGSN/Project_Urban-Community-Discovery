{
 "cells": [
  {
   "cell_type": "code",
   "execution_count": 3,
   "metadata": {},
   "outputs": [],
   "source": [
    "import geopandas as gpd\n",
    "import pandas as pd \n",
    "from sklearn import preprocessing \n",
    "from tqdm import tqdm\n",
    "import networkx as nx\n",
    "import numpy as np\n",
    "import matplotlib.pylab as plt\n",
    "%matplotlib inline\n",
    "import numpy as np\n",
    "import evaluation\n",
    "import math\n",
    "import random\n",
    "import community\n",
    "import torch\n",
    "import torch.nn as nn\n",
    "import torch.nn.functional as F\n",
    "import torch.optim as optim\n",
    "from modularity_maximization import partition\n",
    "from modularity_maximization.utils import get_modularity\n",
    "from modutils import mod_calc\n",
    "device = torch.device('cpu')"
   ]
  },
  {
   "cell_type": "markdown",
   "metadata": {},
   "source": [
    "## graph construction"
   ]
  },
  {
   "cell_type": "code",
   "execution_count": 4,
   "metadata": {},
   "outputs": [],
   "source": [
    "sample_num = 2000"
   ]
  },
  {
   "cell_type": "code",
   "execution_count": 49,
   "metadata": {},
   "outputs": [
    {
     "name": "stderr",
     "output_type": "stream",
     "text": [
      "100%|██████████| 2000/2000 [00:03<00:00, 571.69it/s]\n"
     ]
    }
   ],
   "source": [
    "# 确认节点数量\n",
    "bs_gpd = gpd.read_file('../../data/basestation-gis/basestation_aggregation.shp')\n",
    "bs_gpd = bs_gpd.iloc[:sample_num:, ::]\n",
    "bs_num = bs_gpd.shape[0]\n",
    "\n",
    "# 构造图节点\n",
    "nodes_list = list(range(bs_num))\n",
    "G = nx.Graph()\n",
    "G.add_nodes_from(nodes_list)\n",
    "\n",
    "# 读取邻接矩阵adjacent\n",
    "# 以工作日(周一)的早高峰时段为例\n",
    "adj = pd.read_csv('../../data/adj/adj_20151109_0002.csv')\n",
    "adj = adj.iloc[:, 1:].values\n",
    "adj = adj[:sample_num:, :sample_num:]\n",
    "adj = adj + adj.T\n",
    "for i in range(sample_num): adj[i, i] = 0\n",
    "    \n",
    "# for i in range(bs_num):\n",
    "#     if (adj[i]==0).all():\n",
    "#         adj[i, :] = 0.0001\n",
    "#         adj[:, i] = 0.0001\n",
    "\n",
    "# D_12 = np.diag(np.power(np.sum(adj, axis=0)+0.00001, -1/2))\n",
    "# adj_norm = np.dot(np.dot(D_12, adj), D_12)\n",
    "\n",
    "for i in tqdm(range(bs_num)):\n",
    "    for j in range(bs_num):\n",
    "        tmp = adj[i, j]\n",
    "        if tmp>0: G.add_edge(i, j, weight=tmp)"
   ]
  },
  {
   "cell_type": "markdown",
   "metadata": {},
   "source": [
    "1. 带边权的图，自己生成。 √  \n",
    "2. 要检查一下modualrity的计算是不是一般意义上的，要改正。 √  \n",
    "3. 看看HARATE CLUB，开发其他可用算法。 √ \n",
    "3. 看懂gumbel_softmax过程，实现RAE。  \n",
    "4. 接着再实现SBM。  \n",
    "5. 看所有方法的结果，找最好的improve成自己的目标函数，在real-world data上测试。"
   ]
  },
  {
   "cell_type": "markdown",
   "metadata": {},
   "source": [
    "## partition process"
   ]
  },
  {
   "cell_type": "markdown",
   "metadata": {},
   "source": [
    "np.identity()只能创建方阵，np.eye()可以创建一般矩阵，主对角线为1，其余元素为0。"
   ]
  },
  {
   "cell_type": "code",
   "execution_count": 50,
   "metadata": {},
   "outputs": [],
   "source": [
    "clusters_number = 14\n",
    "A_hat = torch.tensor(nx.adjacency_matrix(G).todense(), dtype=np.float) # a matrix: A\n",
    "# X = np.identity(G.number_of_nodes(), dtype=np.float)\n",
    "\n",
    "class CDRAE(nn.Module):\n",
    "    def __init__(self, A_hat, num_feat, num_hidden):\n",
    "        super(CDRAE, self).__init__()\n",
    "        self.num_feat = num_feat # 特征数 f\n",
    "        self.num_hidden = num_hidden # 隐含数 h\n",
    "        self.A_hat = A_hat\n",
    "        self.d = torch.tensor(list(dict(G.degree()).values()), dtype=np.float).contiguous().view(-1, 1)\n",
    "        self.ddT = torch.mm(self.d, self.d.T)\n",
    "        self.B = (self.A_hat - torch.div(self.ddT, torch.norm(self.A_hat, p=1))).float()\n",
    "        self.B_norm = torch.div(self.B, torch.norm(self.A_hat, p=1))\n",
    "        self.W_0 = nn.Parameter(torch.ones(num_feat, num_hidden)) # [1][f*h]\n",
    "#         # random.sample(range(0, num_feat), num_feat)可用实现不放回抽样，用于随机排序。\n",
    "#         random_feat = random.sample(range(0, num_feat), num_feat)\n",
    "#         # 将每个sample出的数值编码为一个onehot，作为I的一行。\n",
    "#         I = F.one_hot(torch.tensor(random_feat), num_classes=num_feat)\n",
    "#         self.I = torch.tensor(I, dtype=torch.float)\n",
    "\n",
    "    def forward(self, X, A_hat,temp): # X貌似暂时没有用到\n",
    "        global featureSelector # \n",
    "        global weight_feature # \n",
    "        featureSelector = self.W_0 # [1][f*h]\n",
    "        results = torch.zeros(self.W_0.size()) # [0][f*h]\n",
    "        x = 500 # x次取平均,目测这个目的是为了稳定。\n",
    "        for i in range(x):\n",
    "            # logits --> self.W_0: [batch_size, num_features] 非规范化对数概率\n",
    "            # tau: 非负的对抗强度。\n",
    "            # hard: 如果 True, 返回的样本将会离散为 one-hot 向量\n",
    "            results += F.gumbel_softmax(self.W_0,tau=temp,hard=False)\n",
    "        weight_feature = results/x # [-][f*h]\n",
    "\n",
    "        # H = torch.mm(torch.mm(weight_feature.T, B), weight_feature) # weight_feature 就是我们要求的U\n",
    "        H = torch.mm(torch.mm(weight_feature.T, self.B_norm), weight_feature) # weight_feature 就是我们要求的U\n",
    "        Hh = torch.div(H, H.sum(axis=0)) # 按照每一列进行归一化，列为axis=0的方向。\n",
    "        m = nn.Softmax(dim=0)\n",
    "        return m(Hh)\n",
    "    \n",
    "def lossFn(output): \n",
    "    return torch.trace(-torch.log(output))"
   ]
  },
  {
   "cell_type": "code",
   "execution_count": 51,
   "metadata": {
    "scrolled": false
   },
   "outputs": [
    {
     "name": "stdout",
     "output_type": "stream",
     "text": [
      "Epoch:  0 ; Loss:  36.9468 ; Modulariy:  0.0104\n",
      "Epoch:  10 ; Loss:  36.9466 ; Modulariy:  0.0303\n",
      "Epoch:  20 ; Loss:  36.9444 ; Modulariy:  0.08\n",
      "Epoch:  30 ; Loss:  36.9377 ; Modulariy:  0.1003\n",
      "Epoch:  40 ; Loss:  36.9266 ; Modulariy:  0.1001\n",
      "Epoch:  50 ; Loss:  36.911 ; Modulariy:  0.0873\n",
      "Epoch:  60 ; Loss:  36.8916 ; Modulariy:  0.0947\n",
      "Epoch:  70 ; Loss:  36.8689 ; Modulariy:  0.104\n",
      "Epoch:  80 ; Loss:  36.824 ; Modulariy:  0.1171\n",
      "Epoch:  90 ; Loss:  36.7867 ; Modulariy:  0.1356\n",
      "Epoch:  100 ; Loss:  36.7139 ; Modulariy:  0.1409\n",
      "Epoch:  110 ; Loss:  36.6616 ; Modulariy:  0.1517\n",
      "Epoch:  120 ; Loss:  36.6074 ; Modulariy:  0.1903\n",
      "Epoch:  130 ; Loss:  36.4006 ; Modulariy:  0.2254\n",
      "Epoch:  140 ; Loss:  36.3071 ; Modulariy:  0.2904\n",
      "Epoch:  150 ; Loss:  36.1161 ; Modulariy:  0.3129\n",
      "Epoch:  160 ; Loss:  35.989 ; Modulariy:  0.3552\n",
      "Epoch:  170 ; Loss:  35.8482 ; Modulariy:  0.4013\n",
      "Epoch:  180 ; Loss:  35.2292 ; Modulariy:  0.4242\n",
      "Epoch:  190 ; Loss:  34.8772 ; Modulariy:  0.4798\n",
      "Epoch:  200 ; Loss:  34.4779 ; Modulariy:  0.4942\n",
      "Epoch:  210 ; Loss:  34.0044 ; Modulariy:  0.5133\n",
      "Epoch:  220 ; Loss:  33.4805 ; Modulariy:  0.5237\n",
      "Epoch:  230 ; Loss:  32.9305 ; Modulariy:  0.5311\n",
      "Epoch:  240 ; Loss:  32.3996 ; Modulariy:  0.5367\n",
      "Epoch:  250 ; Loss:  31.3406 ; Modulariy:  0.5407\n",
      "Epoch:  260 ; Loss:  30.9369 ; Modulariy:  0.5426\n",
      "Epoch:  270 ; Loss:  30.6358 ; Modulariy:  0.5453\n",
      "Epoch:  280 ; Loss:  30.4089 ; Modulariy:  0.5476\n",
      "Epoch:  290 ; Loss:  30.2355 ; Modulariy:  0.5505\n",
      "Epoch:  300 ; Loss:  29.7775 ; Modulariy:  0.5519\n",
      "Epoch:  310 ; Loss:  29.7016 ; Modulariy:  0.5535\n",
      "Epoch:  320 ; Loss:  29.4913 ; Modulariy:  0.5536\n",
      "Epoch:  330 ; Loss:  29.4592 ; Modulariy:  0.5558\n",
      "Epoch:  340 ; Loss:  29.4356 ; Modulariy:  0.5561\n",
      "Epoch:  350 ; Loss:  29.4162 ; Modulariy:  0.5562\n",
      "Epoch:  360 ; Loss:  29.3955 ; Modulariy:  0.5564\n",
      "Epoch:  370 ; Loss:  29.3839 ; Modulariy:  0.5565\n",
      "Epoch:  380 ; Loss:  29.3705 ; Modulariy:  0.5565\n",
      "Epoch:  390 ; Loss:  29.3577 ; Modulariy:  0.5577\n",
      "Epoch:  400 ; Loss:  29.3021 ; Modulariy:  0.5577\n",
      "Epoch:  410 ; Loss:  29.2974 ; Modulariy:  0.5581\n",
      "Epoch:  420 ; Loss:  29.2952 ; Modulariy:  0.5581\n",
      "Epoch:  430 ; Loss:  29.2926 ; Modulariy:  0.558\n",
      "Epoch:  440 ; Loss:  29.2848 ; Modulariy:  0.558\n",
      "Epoch:  450 ; Loss:  29.2725 ; Modulariy:  0.558\n",
      "Epoch:  460 ; Loss:  29.2757 ; Modulariy:  0.5582\n",
      "Epoch:  470 ; Loss:  29.2707 ; Modulariy:  0.5583\n",
      "Epoch:  480 ; Loss:  29.2657 ; Modulariy:  0.5583\n",
      "Epoch:  490 ; Loss:  29.2663 ; Modulariy:  0.5583\n"
     ]
    }
   ],
   "source": [
    "num_feat = len(G.nodes()) # f = 节点数\n",
    "num_hidden = clusters_number # h = 聚类数\n",
    "\n",
    "model = CDRAE(A_hat, num_feat, num_hidden).to(device)\n",
    "\n",
    "optimizer = optim.Adam(model.parameters(),lr=1e-2,weight_decay=0,betas=(0.5, 0.999), eps=1e-08)\n",
    "\n",
    "\n",
    "A_hat_tensor = torch.Tensor(A_hat.float()).to(device)\n",
    "X_tensor = torch.Tensor(X).to(device)\n",
    "\n",
    "loss_hist = []\n",
    "modularity_hist = []\n",
    "# acc_hist = []\n",
    "temp = 3\n",
    "\n",
    "for epoch in range(500):\n",
    "    model.train()\n",
    "    model.zero_grad()\n",
    "    if(epoch == 75):\n",
    "        temp = 2.75\n",
    "    elif(epoch == 100):\n",
    "        temp = 2.5\n",
    "    elif(epoch == 125):\n",
    "        temp = 2\n",
    "    elif(epoch == 150):\n",
    "        temp = 1.8\n",
    "    elif(epoch == 175):\n",
    "        temp = 1.25\n",
    "    elif(epoch == 250):\n",
    "        temp = 1.00\n",
    "    elif(epoch == 300):\n",
    "        temp = 0.75\n",
    "    elif(epoch == 320):\n",
    "        temp = 0.50\n",
    "    elif(epoch == 400):\n",
    "        temp = 0.20\n",
    "    output = model(X_tensor, A_hat_tensor, temp)\n",
    "    ############################################\n",
    "    loss = lossFn(output)\n",
    "    loss_hist.append(loss.item())\n",
    "    ############################################\n",
    "    gumbel_matrix = weight_feature.detach().max(dim=1)[1] # 每个节点的标签组成的tensor\n",
    "    labels_pred = gumbel_matrix.data.numpy()\n",
    "    modularity = community.modularity(dict(zip(list(range(len(labels_pred))), labels_pred)), G, weight='weight')\n",
    "    modularity_hist.append(modularity)\n",
    "    \n",
    "    if epoch%10==0: \n",
    "        print('Epoch: ', epoch, '; Loss: ', round(loss.item(), 4), '; Modulariy: ', round(modularity, 4))\n",
    "    loss.backward()\n",
    "    optimizer.step()"
   ]
  },
  {
   "cell_type": "code",
   "execution_count": 52,
   "metadata": {},
   "outputs": [
    {
     "data": {
      "image/png": "[encoded data removed]",
      "text/plain": [
       "<Figure size 1440x432 with 2 Axes>"
      ]
     },
     "metadata": {
      "needs_background": "light"
     },
     "output_type": "display_data"
    }
   ],
   "source": [
    "plt.figure(figsize=(20, 6))\n",
    "\n",
    "plt.subplot(1, 2, 1)\n",
    "plt.plot(loss_hist, color='red')\n",
    "plt.grid(True)\n",
    "\n",
    "plt.subplot(1, 2, 2)\n",
    "plt.plot(modularity_hist, color='blue')\n",
    "plt.grid(True)\n",
    "\n",
    "plt.show()"
   ]
  },
  {
   "cell_type": "code",
   "execution_count": null,
   "metadata": {},
   "outputs": [],
   "source": []
  },
  {
   "cell_type": "code",
   "execution_count": 12,
   "metadata": {
    "scrolled": true
   },
   "outputs": [
    {
     "name": "stderr",
     "output_type": "stream",
     "text": [
      "/opt/conda/lib/python3.7/site-packages/ipykernel_launcher.py:16: UserWarning: To copy construct from a tensor, it is recommended to use sourceTensor.clone().detach() or sourceTensor.clone().detach().requires_grad_(True), rather than torch.tensor(sourceTensor).\n",
      "  app.launch_new_instance()\n"
     ]
    },
    {
     "name": "stdout",
     "output_type": "stream",
     "text": [
      "Epoch:  0 ; Loss:  40.6208 ; Modulariy:  -0.0028\n",
      "Epoch:  10 ; Loss:  40.6205 ; Modulariy:  0.0512\n",
      "Epoch:  20 ; Loss:  40.6182 ; Modulariy:  0.0856\n",
      "Epoch:  30 ; Loss:  40.6116 ; Modulariy:  0.1147\n",
      "Epoch:  40 ; Loss:  40.6 ; Modulariy:  0.0978\n",
      "Epoch:  50 ; Loss:  40.584 ; Modulariy:  0.0867\n",
      "Epoch:  60 ; Loss:  40.5635 ; Modulariy:  0.0855\n",
      "Epoch:  70 ; Loss:  40.5397 ; Modulariy:  0.0946\n",
      "Epoch:  80 ; Loss:  40.4926 ; Modulariy:  0.1085\n",
      "Epoch:  90 ; Loss:  40.4538 ; Modulariy:  0.1176\n",
      "Epoch:  100 ; Loss:  40.3781 ; Modulariy:  0.118\n",
      "Epoch:  110 ; Loss:  40.3237 ; Modulariy:  0.1418\n",
      "Epoch:  120 ; Loss:  40.2691 ; Modulariy:  0.1831\n",
      "Epoch:  130 ; Loss:  40.0598 ; Modulariy:  0.2199\n",
      "Epoch:  140 ; Loss:  39.9694 ; Modulariy:  0.2664\n",
      "Epoch:  150 ; Loss:  39.7836 ; Modulariy:  0.3248\n",
      "Epoch:  160 ; Loss:  39.661 ; Modulariy:  0.3835\n",
      "Epoch:  170 ; Loss:  39.527 ; Modulariy:  0.402\n",
      "Epoch:  180 ; Loss:  38.9206 ; Modulariy:  0.4322\n",
      "Epoch:  190 ; Loss:  38.5483 ; Modulariy:  0.4639\n",
      "Epoch:  200 ; Loss:  38.0954 ; Modulariy:  0.4874\n",
      "Epoch:  210 ; Loss:  37.5602 ; Modulariy:  0.494\n",
      "Epoch:  220 ; Loss:  36.9903 ; Modulariy:  0.5055\n",
      "Epoch:  230 ; Loss:  36.4027 ; Modulariy:  0.5179\n",
      "Epoch:  240 ; Loss:  35.853 ; Modulariy:  0.5239\n",
      "Epoch:  250 ; Loss:  34.7155 ; Modulariy:  0.5338\n",
      "Epoch:  260 ; Loss:  34.3028 ; Modulariy:  0.5371\n",
      "Epoch:  270 ; Loss:  33.9793 ; Modulariy:  0.5419\n",
      "Epoch:  280 ; Loss:  33.7232 ; Modulariy:  0.5421\n",
      "Epoch:  290 ; Loss:  33.5151 ; Modulariy:  0.5453\n",
      "Epoch:  300 ; Loss:  33.0112 ; Modulariy:  0.5461\n",
      "Epoch:  310 ; Loss:  32.9203 ; Modulariy:  0.546\n",
      "Epoch:  320 ; Loss:  32.6997 ; Modulariy:  0.5466\n",
      "Epoch:  330 ; Loss:  32.6619 ; Modulariy:  0.5474\n",
      "Epoch:  340 ; Loss:  32.6284 ; Modulariy:  0.5475\n",
      "Epoch:  350 ; Loss:  32.5986 ; Modulariy:  0.5476\n",
      "Epoch:  360 ; Loss:  32.5692 ; Modulariy:  0.5487\n",
      "Epoch:  370 ; Loss:  32.5474 ; Modulariy:  0.5493\n",
      "Epoch:  380 ; Loss:  32.5253 ; Modulariy:  0.5497\n",
      "Epoch:  390 ; Loss:  32.5116 ; Modulariy:  0.5495\n",
      "Epoch:  400 ; Loss:  32.4393 ; Modulariy:  0.5501\n",
      "Epoch:  410 ; Loss:  32.4345 ; Modulariy:  0.5504\n",
      "Epoch:  420 ; Loss:  32.4243 ; Modulariy:  0.5506\n",
      "Epoch:  430 ; Loss:  32.4105 ; Modulariy:  0.5511\n",
      "Epoch:  440 ; Loss:  32.3955 ; Modulariy:  0.5511\n",
      "Epoch:  450 ; Loss:  32.3873 ; Modulariy:  0.5513\n",
      "Epoch:  460 ; Loss:  32.3816 ; Modulariy:  0.552\n",
      "Epoch:  470 ; Loss:  32.376 ; Modulariy:  0.5521\n",
      "Epoch:  480 ; Loss:  32.3645 ; Modulariy:  0.5521\n",
      "Epoch:  490 ; Loss:  32.3618 ; Modulariy:  0.5522\n",
      "Epoch:  500 ; Loss:  32.3512 ; Modulariy:  0.5522\n",
      "Epoch:  510 ; Loss:  32.3492 ; Modulariy:  0.5528\n",
      "Epoch:  520 ; Loss:  32.3398 ; Modulariy:  0.5529\n",
      "Epoch:  530 ; Loss:  32.3339 ; Modulariy:  0.5531\n",
      "Epoch:  540 ; Loss:  32.3304 ; Modulariy:  0.5526\n",
      "Epoch:  550 ; Loss:  32.3274 ; Modulariy:  0.5526\n",
      "Epoch:  560 ; Loss:  32.3233 ; Modulariy:  0.5527\n",
      "Epoch:  570 ; Loss:  32.3195 ; Modulariy:  0.5527\n",
      "Epoch:  580 ; Loss:  32.3208 ; Modulariy:  0.5527\n",
      "Epoch:  590 ; Loss:  32.3155 ; Modulariy:  0.5527\n",
      "Epoch:  600 ; Loss:  32.316 ; Modulariy:  0.5527\n",
      "Epoch:  610 ; Loss:  32.3095 ; Modulariy:  0.5528\n",
      "Epoch:  620 ; Loss:  32.3098 ; Modulariy:  0.5528\n",
      "Epoch:  630 ; Loss:  32.3079 ; Modulariy:  0.5528\n",
      "Epoch:  640 ; Loss:  32.3046 ; Modulariy:  0.5527\n",
      "Epoch:  650 ; Loss:  32.2983 ; Modulariy:  0.5527\n",
      "Epoch:  660 ; Loss:  32.2983 ; Modulariy:  0.5531\n",
      "Epoch:  670 ; Loss:  32.2894 ; Modulariy:  0.5531\n",
      "Epoch:  680 ; Loss:  32.2922 ; Modulariy:  0.5531\n",
      "Epoch:  690 ; Loss:  32.2882 ; Modulariy:  0.5531\n",
      "Epoch:  700 ; Loss:  32.2855 ; Modulariy:  0.5531\n",
      "Epoch:  710 ; Loss:  32.286 ; Modulariy:  0.5531\n",
      "Epoch:  720 ; Loss:  32.2814 ; Modulariy:  0.5533\n",
      "Epoch:  730 ; Loss:  32.2807 ; Modulariy:  0.5533\n",
      "Epoch:  740 ; Loss:  32.2767 ; Modulariy:  0.5533\n",
      "Epoch:  750 ; Loss:  32.2777 ; Modulariy:  0.5533\n",
      "Epoch:  760 ; Loss:  32.2816 ; Modulariy:  0.5534\n",
      "Epoch:  770 ; Loss:  32.277 ; Modulariy:  0.5534\n",
      "Epoch:  780 ; Loss:  32.2751 ; Modulariy:  0.5534\n",
      "Epoch:  790 ; Loss:  32.2723 ; Modulariy:  0.5534\n",
      "Epoch:  800 ; Loss:  32.2748 ; Modulariy:  0.5534\n",
      "Epoch:  810 ; Loss:  32.2716 ; Modulariy:  0.5534\n",
      "Epoch:  820 ; Loss:  32.2712 ; Modulariy:  0.5534\n",
      "Epoch:  830 ; Loss:  32.272 ; Modulariy:  0.5534\n",
      "Epoch:  840 ; Loss:  32.2693 ; Modulariy:  0.5534\n",
      "Epoch:  850 ; Loss:  32.2683 ; Modulariy:  0.5535\n",
      "Epoch:  860 ; Loss:  32.27 ; Modulariy:  0.5535\n",
      "Epoch:  870 ; Loss:  32.2662 ; Modulariy:  0.5535\n",
      "Epoch:  880 ; Loss:  32.2662 ; Modulariy:  0.5535\n",
      "Epoch:  890 ; Loss:  32.265 ; Modulariy:  0.5535\n",
      "Epoch:  900 ; Loss:  32.2661 ; Modulariy:  0.5535\n",
      "Epoch:  910 ; Loss:  32.262 ; Modulariy:  0.5535\n",
      "Epoch:  920 ; Loss:  32.2644 ; Modulariy:  0.5535\n",
      "Epoch:  930 ; Loss:  32.2628 ; Modulariy:  0.5535\n",
      "Epoch:  940 ; Loss:  32.2643 ; Modulariy:  0.5535\n",
      "Epoch:  950 ; Loss:  32.2631 ; Modulariy:  0.5535\n",
      "Epoch:  960 ; Loss:  32.2615 ; Modulariy:  0.5535\n",
      "Epoch:  970 ; Loss:  32.2617 ; Modulariy:  0.5535\n",
      "Epoch:  980 ; Loss:  32.2568 ; Modulariy:  0.5536\n",
      "Epoch:  990 ; Loss:  32.2545 ; Modulariy:  0.5536\n"
     ]
    }
   ],
   "source": [
    "num_feat = len(G.nodes()) # f = 节点数\n",
    "num_hidden = clusters_number # h = 聚类数\n",
    "\n",
    "model = CDRAE(A_hat, num_feat, num_hidden).to(device)\n",
    "\n",
    "optimizer = optim.Adam(model.parameters(),lr=1e-2,weight_decay=0,betas=(0.5, 0.999), eps=1e-08)\n",
    "\n",
    "\n",
    "A_hat_tensor = torch.Tensor(A_hat.float()).to(device)\n",
    "X_tensor = torch.Tensor(X).to(device)\n",
    "\n",
    "loss_hist = []\n",
    "modularity_hist = []\n",
    "# acc_hist = []\n",
    "temp = 3\n",
    "\n",
    "for epoch in range(500):\n",
    "    model.train()\n",
    "    model.zero_grad()\n",
    "    if(epoch == 75):\n",
    "        temp = 2.75\n",
    "    elif(epoch == 100):\n",
    "        temp = 2.5\n",
    "    elif(epoch == 125):\n",
    "        temp = 2\n",
    "    elif(epoch == 150):\n",
    "        temp = 1.8\n",
    "    elif(epoch == 175):\n",
    "        temp = 1.25\n",
    "    elif(epoch == 250):\n",
    "        temp = 1.00\n",
    "    elif(epoch == 300):\n",
    "        temp = 0.75\n",
    "    elif(epoch == 320):\n",
    "        temp = 0.50\n",
    "    elif(epoch == 400):\n",
    "        temp = 0.20\n",
    "    output = model(X_tensor, A_hat_tensor, temp)\n",
    "    ############################################\n",
    "    loss = lossFn(output)\n",
    "    loss_hist.append(loss.item())\n",
    "    ############################################\n",
    "    gumbel_matrix = weight_feature.detach().max(dim=1)[1] # 每个节点的标签组成的tensor\n",
    "    labels_pred = gumbel_matrix.data.numpy()\n",
    "    modularity = community.modularity(dict(zip(list(range(len(labels_pred))), labels_pred)), G, weight='weight')\n",
    "    modularity_hist.append(modularity)\n",
    "    \n",
    "    if epoch%10==0: \n",
    "        print('Epoch: ', epoch, '; Loss: ', round(loss.item(), 4), '; Modulariy: ', round(modularity, 4))\n",
    "    loss.backward()\n",
    "    optimizer.step()"
   ]
  },
  {
   "cell_type": "code",
   "execution_count": 13,
   "metadata": {},
   "outputs": [
    {
     "data": {
      "image/png": "[encoded data removed]",
      "text/plain": [
       "<Figure size 1440x432 with 2 Axes>"
      ]
     },
     "metadata": {
      "needs_background": "light"
     },
     "output_type": "display_data"
    }
   ],
   "source": [
    "plt.figure(figsize=(20, 6))\n",
    "\n",
    "plt.subplot(1, 2, 1)\n",
    "plt.plot(loss_hist, color='red')\n",
    "plt.grid(True)\n",
    "\n",
    "plt.subplot(1, 2, 2)\n",
    "plt.plot(modularity_hist, color='blue')\n",
    "plt.grid(True)\n",
    "\n",
    "plt.show()"
   ]
  },
  {
   "cell_type": "code",
   "execution_count": 21,
   "metadata": {
    "scrolled": true
   },
   "outputs": [
    {
     "name": "stdout",
     "output_type": "stream",
     "text": [
      "torch.Size([2000, 15])\n"
     ]
    },
    {
     "data": {
      "image/png": "[encoded data removed]",
      "text/plain": [
       "<Figure size 720x720 with 1 Axes>"
      ]
     },
     "metadata": {},
     "output_type": "display_data"
    },
    {
     "name": "stdout",
     "output_type": "stream",
     "text": [
      "Modularity_false is 0.61873\n",
      "Modularity_true is 0.55013\n"
     ]
    }
   ],
   "source": [
    "print(weight_feature.detach().size())\n",
    "gumbel_matrix = weight_feature.detach().max(dim=1)[1] # 每个节点的标签组成的tensor\n",
    "labels_pred = gumbel_matrix.data.numpy()\n",
    "pos = nx.spring_layout(G)\n",
    "plt.figure(figsize=(10, 10))\n",
    "plt.axis('off')\n",
    "nx.draw_networkx(G, pos=pos, node_size=100, node_color=\"r\", with_labels=False)\n",
    "options = {\n",
    "    'node_color': 'red',\n",
    "    'node_size': 10,\n",
    "    'line_color': 'grey',\n",
    "    'linewidths': 0,\n",
    "    'width': 0.1,\n",
    "}\n",
    "plt.show()\n",
    "\n",
    "print('Modularity_false is %.5f' %evaluation.modularity(G, labels_pred))\n",
    "print('Modularity_true is %.5f' %community.modularity(dict(zip(list(range(len(labels_pred))), labels_pred)), G, weight='weight'))\n",
    "# color = []\n",
    "# for c in range(len(gumbel_matrix)):\n",
    "#     if(gumbel_matrix[c] == 0):\n",
    "#         color.append('r')\n",
    "#     elif(gumbel_matrix[c] == 1):\n",
    "#         color.append('g')\n",
    "#     elif(gumbel_matrix[c] == 2):\n",
    "#         color.append('teal')\n",
    "#     elif(gumbel_matrix[c] == 3):\n",
    "#         color.append('greenyellow')\n",
    "#     elif(gumbel_matrix[c] == 4):\n",
    "#         color.append('pink')\n",
    "#     elif(gumbel_matrix[c] == 5):\n",
    "#         color.append('dimgrey')\n",
    "#     elif(gumbel_matrix[c] == 6):\n",
    "#         color.append('peachpuff')\n",
    "#     elif(gumbel_matrix[c] == 7):\n",
    "#         color.append('gold')\n",
    "#     elif(gumbel_matrix[c] == 8):\n",
    "#         color.append('m')\n",
    "#     elif(gumbel_matrix[c] == 9):\n",
    "#         color.append('aqua')\n",
    "#     elif(gumbel_matrix[c] == 10):\n",
    "#         color.append('indianred')\n",
    "#     elif(gumbel_matrix[c] == 11):\n",
    "#         color.append('sienna')\n",
    "# plt.figure(figsize=(12, 12))\n",
    "# options = {\n",
    "#     'node_color': color,\n",
    "#     'node_size': 50,\n",
    "#     'line_color': 'grey',\n",
    "#     'linewidths': 0,\n",
    "#     'width': 0.1,\n",
    "# }\n",
    "# plt.figure(figsize=(10, 10))\n",
    "# plt.axis('off')\n",
    "# nx.draw_networkx(G, pos=pos, node_size=150, node_color=color, with_labels=False)\n",
    "# plt.show()"
   ]
  },
  {
   "cell_type": "code",
   "execution_count": null,
   "metadata": {},
   "outputs": [],
   "source": []
  }
 ],
 "metadata": {
  "kernelspec": {
   "display_name": "Python 3",
   "language": "python",
   "name": "python3"
  },
  "language_info": {
   "codemirror_mode": {
    "name": "ipython",
    "version": 3
   },
   "file_extension": ".py",
   "mimetype": "text/x-python",
   "name": "python",
   "nbconvert_exporter": "python",
   "pygments_lexer": "ipython3",
   "version": "3.7.7"
  }
 },
 "nbformat": 4,
 "nbformat_minor": 2
}
