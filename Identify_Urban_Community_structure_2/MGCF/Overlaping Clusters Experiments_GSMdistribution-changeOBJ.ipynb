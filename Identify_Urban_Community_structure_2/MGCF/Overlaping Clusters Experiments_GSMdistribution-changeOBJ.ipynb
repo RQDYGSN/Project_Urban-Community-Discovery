{
 "cells": [
  {
   "cell_type": "code",
   "execution_count": 1,
   "metadata": {},
   "outputs": [],
   "source": [
    "import geopandas as gpd\n",
    "import pandas as pd \n",
    "from sklearn import preprocessing \n",
    "from tqdm import tqdm\n",
    "import networkx as nx\n",
    "import numpy as np\n",
    "import matplotlib.pylab as plt\n",
    "%matplotlib inline\n",
    "import numpy as np\n",
    "import evaluation\n",
    "import math\n",
    "import random\n",
    "import community\n",
    "import torch\n",
    "import torch.nn as nn\n",
    "import torch.nn.functional as F\n",
    "import torch.optim as optim\n",
    "from modularity_maximization import partition\n",
    "from modularity_maximization.utils import get_modularity\n",
    "from modutils import mod_calc\n",
    "device = torch.device('cpu')"
   ]
  },
  {
   "cell_type": "markdown",
   "metadata": {},
   "source": [
    "## graph construction"
   ]
  },
  {
   "cell_type": "code",
   "execution_count": 2,
   "metadata": {},
   "outputs": [],
   "source": [
    "sample_num = 2000"
   ]
  },
  {
   "cell_type": "code",
   "execution_count": 3,
   "metadata": {},
   "outputs": [
    {
     "name": "stderr",
     "output_type": "stream",
     "text": [
      "100%|██████████| 2000/2000 [00:03<00:00, 589.81it/s]\n"
     ]
    }
   ],
   "source": [
    "# 确认节点数量\n",
    "bs_gpd = gpd.read_file('../../data/basestation-gis/basestation_aggregation.shp')\n",
    "bs_gpd = bs_gpd.iloc[:sample_num:, ::]\n",
    "bs_num = bs_gpd.shape[0]\n",
    "\n",
    "# 构造图节点\n",
    "nodes_list = list(range(bs_num))\n",
    "G = nx.Graph()\n",
    "G.add_nodes_from(nodes_list)\n",
    "\n",
    "# 读取邻接矩阵adjacent\n",
    "# 以工作日(周一)的早高峰时段为例\n",
    "adj = pd.read_csv('../../data/adj/adj_20151109_0002.csv')\n",
    "adj = adj.iloc[:, 1:].values\n",
    "adj = adj[:sample_num:, :sample_num:]\n",
    "adj = adj + adj.T\n",
    "for i in range(sample_num): adj[i, i] = 0\n",
    "    \n",
    "# for i in range(bs_num):\n",
    "#     if (adj[i]==0).all():\n",
    "#         adj[i, :] = 0.0001\n",
    "#         adj[:, i] = 0.0001\n",
    "\n",
    "# D_12 = np.diag(np.power(np.sum(adj, axis=0)+0.00001, -1/2))\n",
    "# adj_norm = np.dot(np.dot(D_12, adj), D_12)\n",
    "\n",
    "for i in tqdm(range(bs_num)):\n",
    "    for j in range(bs_num):\n",
    "        tmp = adj[i, j]\n",
    "        if tmp>0: G.add_edge(i, j, weight=tmp)"
   ]
  },
  {
   "cell_type": "markdown",
   "metadata": {},
   "source": [
    "1. 带边权的图，自己生成。 √  \n",
    "2. 要检查一下modualrity的计算是不是一般意义上的，要改正。 √  \n",
    "3. 看看HARATE CLUB，开发其他可用算法。 √ \n",
    "3. 看懂gumbel_softmax过程，实现RAE。  \n",
    "4. 接着再实现SBM。  \n",
    "5. 看所有方法的结果，找最好的improve成自己的目标函数，在real-world data上测试。"
   ]
  },
  {
   "cell_type": "markdown",
   "metadata": {},
   "source": [
    "## partition process"
   ]
  },
  {
   "cell_type": "code",
   "execution_count": 4,
   "metadata": {},
   "outputs": [],
   "source": [
    "clusters_number = 15\n",
    "A_hat = torch.tensor(nx.adjacency_matrix(G).todense(), dtype=np.float) # a matrix: A\n",
    "X = np.identity(G.number_of_nodes(), dtype=np.float)"
   ]
  },
  {
   "cell_type": "markdown",
   "metadata": {},
   "source": [
    "np.identity()只能创建方阵，np.eye()可以创建一般矩阵，主对角线为1，其余元素为0。"
   ]
  },
  {
   "cell_type": "code",
   "execution_count": 5,
   "metadata": {},
   "outputs": [],
   "source": [
    "class CDRAE(nn.Module):\n",
    "    def __init__(self, A_hat, num_feat, num_hidden):\n",
    "        super(CDRAE, self).__init__()\n",
    "        self.num_feat = num_feat # 特征数 f\n",
    "        self.num_hidden = num_hidden # 隐含数 h\n",
    "        self.A_hat = A_hat\n",
    "        self.d = torch.tensor(list(dict(G.degree()).values()), dtype=np.float).contiguous().view(-1, 1)\n",
    "        self.ddT = torch.mm(self.d, self.d.T)\n",
    "        self.B = (self.A_hat - torch.div(self.ddT, torch.norm(self.A_hat, p=1))).float()\n",
    "        self.B_norm = torch.div(self.B, torch.norm(self.A_hat, p=1))\n",
    "        self.W_0 = nn.Parameter(torch.ones(num_feat, num_hidden)) # [1][f*h]\n",
    "#         # random.sample(range(0, num_feat), num_feat)可用实现不放回抽样，用于随机排序。\n",
    "#         random_feat = random.sample(range(0, num_feat), num_feat)\n",
    "#         # 将每个sample出的数值编码为一个onehot，作为I的一行。\n",
    "#         I = F.one_hot(torch.tensor(random_feat), num_classes=num_feat)\n",
    "#         self.I = torch.tensor(I, dtype=torch.float)\n",
    "\n",
    "    def forward(self, X, A_hat,temp): # X貌似暂时没有用到\n",
    "        global featureSelector # \n",
    "        global weight_feature # \n",
    "        featureSelector = self.W_0 # [1][f*h]\n",
    "        results = torch.zeros(self.W_0.size()) # [0][f*h]\n",
    "        x = 500 # x次取平均,目测这个目的是为了稳定。\n",
    "        for i in range(x):\n",
    "            # logits --> self.W_0: [batch_size, num_features] 非规范化对数概率\n",
    "            # tau: 非负的对抗强度。\n",
    "            # hard: 如果 True, 返回的样本将会离散为 one-hot 向量\n",
    "            results += F.gumbel_softmax(self.W_0,tau=temp,hard=False)\n",
    "        weight_feature = results/x # [-][f*h]\n",
    "\n",
    "        # H = torch.mm(torch.mm(weight_feature.T, B), weight_feature) # weight_feature 就是我们要求的U\n",
    "        H = torch.mm(torch.mm(weight_feature.T, self.B_norm), weight_feature) # weight_feature 就是我们要求的U\n",
    "        # Hh = torch.div(H, H.sum(axis=0)) # 按照每一列进行归一化，列为axis=0的方向。\n",
    "        m = nn.Softmax(dim=0)\n",
    "        # return m(Hh)\n",
    "        return m(H)\n",
    "    \n",
    "def lossFn(output): \n",
    "    return torch.trace(-torch.log(output))"
   ]
  },
  {
   "cell_type": "code",
   "execution_count": 6,
   "metadata": {
    "scrolled": true
   },
   "outputs": [
    {
     "name": "stdout",
     "output_type": "stream",
     "text": [
      "Epoch:  0 ; Loss:  40.6208 ; Modulariy:  0.0011\n",
      "Epoch:  10 ; Loss:  40.6207 ; Modulariy:  0.0274\n",
      "Epoch:  20 ; Loss:  40.6206 ; Modulariy:  0.0444\n",
      "Epoch:  30 ; Loss:  40.6202 ; Modulariy:  0.0643\n",
      "Epoch:  40 ; Loss:  40.6194 ; Modulariy:  0.0648\n",
      "Epoch:  50 ; Loss:  40.6182 ; Modulariy:  0.059\n",
      "Epoch:  60 ; Loss:  40.6166 ; Modulariy:  0.056\n",
      "Epoch:  70 ; Loss:  40.6148 ; Modulariy:  0.0556\n",
      "Epoch:  80 ; Loss:  40.6112 ; Modulariy:  0.0446\n",
      "Epoch:  90 ; Loss:  40.6083 ; Modulariy:  0.0545\n",
      "Epoch:  100 ; Loss:  40.6026 ; Modulariy:  0.0354\n",
      "Epoch:  110 ; Loss:  40.5985 ; Modulariy:  0.058\n",
      "Epoch:  120 ; Loss:  40.5945 ; Modulariy:  0.0647\n",
      "Epoch:  130 ; Loss:  40.5796 ; Modulariy:  0.0648\n",
      "Epoch:  140 ; Loss:  40.5735 ; Modulariy:  0.0846\n",
      "Epoch:  150 ; Loss:  40.5607 ; Modulariy:  0.1116\n",
      "Epoch:  160 ; Loss:  40.5515 ; Modulariy:  0.1157\n",
      "Epoch:  170 ; Loss:  40.5403 ; Modulariy:  0.1249\n",
      "Epoch:  180 ; Loss:  40.4902 ; Modulariy:  0.1382\n",
      "Epoch:  190 ; Loss:  40.4551 ; Modulariy:  0.1008\n",
      "Epoch:  200 ; Loss:  40.4105 ; Modulariy:  0.0937\n",
      "Epoch:  210 ; Loss:  40.353 ; Modulariy:  0.0867\n",
      "Epoch:  220 ; Loss:  40.2825 ; Modulariy:  0.0807\n",
      "Epoch:  230 ; Loss:  40.2035 ; Modulariy:  0.0792\n",
      "Epoch:  240 ; Loss:  40.1263 ; Modulariy:  0.0789\n",
      "Epoch:  250 ; Loss:  39.9851 ; Modulariy:  0.071\n",
      "Epoch:  260 ; Loss:  39.9398 ; Modulariy:  0.0643\n",
      "Epoch:  270 ; Loss:  39.9064 ; Modulariy:  0.0631\n",
      "Epoch:  280 ; Loss:  39.8821 ; Modulariy:  0.0632\n",
      "Epoch:  290 ; Loss:  39.8642 ; Modulariy:  0.0631\n",
      "Epoch:  300 ; Loss:  39.8145 ; Modulariy:  0.0629\n",
      "Epoch:  310 ; Loss:  39.8084 ; Modulariy:  0.0621\n",
      "Epoch:  320 ; Loss:  39.7881 ; Modulariy:  0.0617\n",
      "Epoch:  330 ; Loss:  39.7864 ; Modulariy:  0.0617\n",
      "Epoch:  340 ; Loss:  39.7847 ; Modulariy:  0.0616\n",
      "Epoch:  350 ; Loss:  39.7831 ; Modulariy:  0.0615\n",
      "Epoch:  360 ; Loss:  39.7819 ; Modulariy:  0.0615\n",
      "Epoch:  370 ; Loss:  39.7812 ; Modulariy:  0.0615\n",
      "Epoch:  380 ; Loss:  39.7797 ; Modulariy:  0.0614\n",
      "Epoch:  390 ; Loss:  39.7797 ; Modulariy:  0.0612\n",
      "Epoch:  400 ; Loss:  39.7741 ; Modulariy:  0.061\n",
      "Epoch:  410 ; Loss:  39.7732 ; Modulariy:  0.061\n",
      "Epoch:  420 ; Loss:  39.7729 ; Modulariy:  0.0608\n",
      "Epoch:  430 ; Loss:  39.7724 ; Modulariy:  0.0594\n",
      "Epoch:  440 ; Loss:  39.7721 ; Modulariy:  0.0582\n",
      "Epoch:  450 ; Loss:  39.7717 ; Modulariy:  0.0582\n",
      "Epoch:  460 ; Loss:  39.7715 ; Modulariy:  0.0581\n",
      "Epoch:  470 ; Loss:  39.7715 ; Modulariy:  0.0579\n",
      "Epoch:  480 ; Loss:  39.7707 ; Modulariy:  0.0579\n",
      "Epoch:  490 ; Loss:  39.7699 ; Modulariy:  0.0579\n",
      "Epoch:  500 ; Loss:  39.7701 ; Modulariy:  0.0579\n",
      "Epoch:  510 ; Loss:  39.7697 ; Modulariy:  0.0579\n",
      "Epoch:  520 ; Loss:  39.7697 ; Modulariy:  0.0579\n",
      "Epoch:  530 ; Loss:  39.7694 ; Modulariy:  0.0579\n",
      "Epoch:  540 ; Loss:  39.769 ; Modulariy:  0.0579\n",
      "Epoch:  550 ; Loss:  39.7692 ; Modulariy:  0.0579\n",
      "Epoch:  560 ; Loss:  39.7684 ; Modulariy:  0.0579\n",
      "Epoch:  570 ; Loss:  39.7684 ; Modulariy:  0.0579\n",
      "Epoch:  580 ; Loss:  39.7681 ; Modulariy:  0.0579\n",
      "Epoch:  590 ; Loss:  39.7679 ; Modulariy:  0.0579\n",
      "Epoch:  600 ; Loss:  39.7679 ; Modulariy:  0.0579\n",
      "Epoch:  610 ; Loss:  39.7679 ; Modulariy:  0.0579\n",
      "Epoch:  620 ; Loss:  39.7678 ; Modulariy:  0.0579\n",
      "Epoch:  630 ; Loss:  39.7677 ; Modulariy:  0.0579\n",
      "Epoch:  640 ; Loss:  39.7675 ; Modulariy:  0.0579\n",
      "Epoch:  650 ; Loss:  39.7675 ; Modulariy:  0.0579\n",
      "Epoch:  660 ; Loss:  39.7674 ; Modulariy:  0.0579\n",
      "Epoch:  670 ; Loss:  39.7671 ; Modulariy:  0.0579\n",
      "Epoch:  680 ; Loss:  39.767 ; Modulariy:  0.0579\n",
      "Epoch:  690 ; Loss:  39.767 ; Modulariy:  0.0579\n",
      "Epoch:  700 ; Loss:  39.7669 ; Modulariy:  0.0579\n",
      "Epoch:  710 ; Loss:  39.7666 ; Modulariy:  0.0579\n",
      "Epoch:  720 ; Loss:  39.7662 ; Modulariy:  0.0579\n",
      "Epoch:  730 ; Loss:  39.7666 ; Modulariy:  0.0579\n",
      "Epoch:  740 ; Loss:  39.7664 ; Modulariy:  0.0579\n",
      "Epoch:  750 ; Loss:  39.7662 ; Modulariy:  0.0579\n",
      "Epoch:  760 ; Loss:  39.7662 ; Modulariy:  0.0579\n",
      "Epoch:  770 ; Loss:  39.7661 ; Modulariy:  0.0579\n",
      "Epoch:  780 ; Loss:  39.7661 ; Modulariy:  0.0579\n",
      "Epoch:  790 ; Loss:  39.766 ; Modulariy:  0.0579\n",
      "Epoch:  800 ; Loss:  39.7658 ; Modulariy:  0.0579\n",
      "Epoch:  810 ; Loss:  39.7655 ; Modulariy:  0.0579\n",
      "Epoch:  820 ; Loss:  39.7657 ; Modulariy:  0.0579\n",
      "Epoch:  830 ; Loss:  39.7652 ; Modulariy:  0.056\n",
      "Epoch:  840 ; Loss:  39.765 ; Modulariy:  0.056\n",
      "Epoch:  850 ; Loss:  39.7648 ; Modulariy:  0.056\n",
      "Epoch:  860 ; Loss:  39.7647 ; Modulariy:  0.0559\n",
      "Epoch:  870 ; Loss:  39.7645 ; Modulariy:  0.0559\n",
      "Epoch:  880 ; Loss:  39.7644 ; Modulariy:  0.0559\n",
      "Epoch:  890 ; Loss:  39.7646 ; Modulariy:  0.0559\n",
      "Epoch:  900 ; Loss:  39.7641 ; Modulariy:  0.0559\n",
      "Epoch:  910 ; Loss:  39.7639 ; Modulariy:  0.0559\n",
      "Epoch:  920 ; Loss:  39.7639 ; Modulariy:  0.0559\n",
      "Epoch:  930 ; Loss:  39.7641 ; Modulariy:  0.0559\n",
      "Epoch:  940 ; Loss:  39.7642 ; Modulariy:  0.0559\n",
      "Epoch:  950 ; Loss:  39.7639 ; Modulariy:  0.0559\n",
      "Epoch:  960 ; Loss:  39.7643 ; Modulariy:  0.0559\n",
      "Epoch:  970 ; Loss:  39.7637 ; Modulariy:  0.0559\n",
      "Epoch:  980 ; Loss:  39.7638 ; Modulariy:  0.0559\n",
      "Epoch:  990 ; Loss:  39.7638 ; Modulariy:  0.0559\n"
     ]
    }
   ],
   "source": [
    "num_feat = len(G.nodes()) # f = 节点数\n",
    "num_hidden = clusters_number # h = 聚类数\n",
    "\n",
    "model = CDRAE(A_hat, num_feat, num_hidden).to(device)\n",
    "\n",
    "optimizer = optim.Adam(model.parameters(),lr=1e-2,weight_decay=0,betas=(0.5, 0.999), eps=1e-08)\n",
    "\n",
    "\n",
    "A_hat_tensor = torch.Tensor(A_hat.float()).to(device)\n",
    "X_tensor = torch.Tensor(X).to(device)\n",
    "\n",
    "loss_hist = []\n",
    "modularity_hist = []\n",
    "# acc_hist = []\n",
    "temp = 3\n",
    "\n",
    "for epoch in range(1000):\n",
    "    model.train()\n",
    "    model.zero_grad()\n",
    "    if(epoch == 75):\n",
    "        temp = 2.75\n",
    "    elif(epoch == 100):\n",
    "        temp = 2.5\n",
    "    elif(epoch == 125):\n",
    "        temp = 2\n",
    "    elif(epoch == 150):\n",
    "        temp = 1.8\n",
    "    elif(epoch == 175):\n",
    "        temp = 1.25\n",
    "    elif(epoch == 250):\n",
    "        temp = 1.00\n",
    "    elif(epoch == 300):\n",
    "        temp = 0.75\n",
    "    elif(epoch == 320):\n",
    "        temp = 0.50\n",
    "    elif(epoch == 400):\n",
    "        temp = 0.20\n",
    "    output = model(X_tensor, A_hat_tensor, temp)\n",
    "    ############################################\n",
    "    loss = lossFn(output)\n",
    "    # loss = -torch.trace(output)\n",
    "    loss_hist.append(loss.item())\n",
    "    ############################################\n",
    "    gumbel_matrix = weight_feature.detach().max(dim=1)[1] # 每个节点的标签组成的tensor\n",
    "    labels_pred = gumbel_matrix.data.numpy()\n",
    "    modularity = community.modularity(dict(zip(list(range(len(labels_pred))), labels_pred)), G, weight='weight')\n",
    "    modularity_hist.append(modularity)\n",
    "    \n",
    "    if epoch%10==0: \n",
    "        print('Epoch: ', epoch, '; Loss: ', round(loss.item(), 4), '; Modulariy: ', round(modularity, 4))\n",
    "    loss.backward()\n",
    "    optimizer.step()"
   ]
  },
  {
   "cell_type": "code",
   "execution_count": 7,
   "metadata": {
    "scrolled": true
   },
   "outputs": [
    {
     "data": {
      "image/png": "[encoded data removed]",
      "text/plain": [
       "<Figure size 1440x432 with 2 Axes>"
      ]
     },
     "metadata": {
      "needs_background": "light"
     },
     "output_type": "display_data"
    },
    {
     "name": "stdout",
     "output_type": "stream",
     "text": [
      "torch.Size([2000, 15])\n"
     ]
    },
    {
     "data": {
      "image/png": "[encoded data removed]",
      "text/plain": [
       "<Figure size 720x720 with 1 Axes>"
      ]
     },
     "metadata": {},
     "output_type": "display_data"
    },
    {
     "name": "stdout",
     "output_type": "stream",
     "text": [
      "0.13817454357046993\n"
     ]
    }
   ],
   "source": [
    "plt.figure(figsize=(20, 6))\n",
    "\n",
    "plt.subplot(1, 2, 1)\n",
    "plt.plot(loss_hist, color='red')\n",
    "plt.grid(True)\n",
    "\n",
    "plt.subplot(1, 2, 2)\n",
    "plt.plot(modularity_hist, color='blue')\n",
    "plt.grid(True)\n",
    "\n",
    "plt.show()\n",
    "\n",
    "print(weight_feature.detach().size())\n",
    "gumbel_matrix = weight_feature.detach().max(dim=1)[1] # 每个节点的标签组成的tensor\n",
    "labels_pred = gumbel_matrix.data.numpy()\n",
    "pos = nx.spring_layout(G)\n",
    "plt.figure(figsize=(10, 10))\n",
    "plt.axis('off')\n",
    "nx.draw_networkx(G, pos=pos, node_size=100, node_color=\"r\", with_labels=False)\n",
    "options = {\n",
    "    'node_color': 'red',\n",
    "    'node_size': 10,\n",
    "    'line_color': 'grey',\n",
    "    'linewidths': 0,\n",
    "    'width': 0.1,\n",
    "}\n",
    "plt.show()\n",
    "\n",
    "print(max(modularity_hist))"
   ]
  }
 ],
 "metadata": {
  "kernelspec": {
   "display_name": "Python 3",
   "language": "python",
   "name": "python3"
  },
  "language_info": {
   "codemirror_mode": {
    "name": "ipython",
    "version": 3
   },
   "file_extension": ".py",
   "mimetype": "text/x-python",
   "name": "python",
   "nbconvert_exporter": "python",
   "pygments_lexer": "ipython3",
   "version": "3.7.7"
  }
 },
 "nbformat": 4,
 "nbformat_minor": 2
}
