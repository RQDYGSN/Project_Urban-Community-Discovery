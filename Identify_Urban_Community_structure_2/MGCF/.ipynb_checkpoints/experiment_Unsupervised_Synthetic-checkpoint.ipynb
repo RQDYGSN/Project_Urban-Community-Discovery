{
 "cells": [
  {
   "cell_type": "code",
   "execution_count": 1,
   "metadata": {},
   "outputs": [],
   "source": [
    "import random\n",
    "import networkx as nx\n",
    "import numpy as np\n",
    "import karateclub\n",
    "from tkinter import _flatten\n",
    "import community\n",
    "import MGCF"
   ]
  },
  {
   "cell_type": "markdown",
   "metadata": {},
   "source": [
    "### 1. Generate $K$ and $M$"
   ]
  },
  {
   "cell_type": "code",
   "execution_count": 4,
   "metadata": {},
   "outputs": [
    {
     "name": "stdout",
     "output_type": "stream",
     "text": [
      "2\n"
     ]
    }
   ],
   "source": [
    "K = random.randint(1, 10)\n",
    "M = random.randint(1, 100)\n",
    "print(K)"
   ]
  },
  {
   "cell_type": "markdown",
   "metadata": {},
   "source": [
    "### 2. Gnerate Nodes"
   ]
  },
  {
   "cell_type": "code",
   "execution_count": 5,
   "metadata": {
    "scrolled": false
   },
   "outputs": [
    {
     "name": "stdout",
     "output_type": "stream",
     "text": [
      "节点总数 68\n"
     ]
    }
   ],
   "source": [
    "average_cluster_size = random.randint(20, 40)\n",
    "\n",
    "center_x_list = []\n",
    "center_y_list = []\n",
    "for i in range(K):\n",
    "    center_x_list.append(round(10*random.random(), 4))\n",
    "    center_y_list.append(round(10*random.random(), 4))\n",
    "node_groundtruth = {}\n",
    "node_location = {}\n",
    "idx = 0\n",
    "for i in range(K):\n",
    "    for j in range(average_cluster_size):\n",
    "        node_groundtruth[idx] = i\n",
    "        node_location[idx] = [center_x_list[i] + round(random.gauss(0, 1), 4), center_y_list[i] + round(random.gauss(0, 1), 4)]\n",
    "        idx = idx + 1\n",
    "N = len(node_groundtruth)\n",
    "print('节点总数', N)\n",
    "G = nx.Graph()\n",
    "G.add_nodes_from(list(range(N)))\n",
    "\n",
    "# ground_truth = {}\n",
    "# for k, v in node_groundtruth.items():\n",
    "#     if v not in ground_truth:\n",
    "#         ground_truth[v] = [k]\n",
    "#     else:\n",
    "#         ground_truth[v].append(k)"
   ]
  },
  {
   "cell_type": "markdown",
   "metadata": {},
   "source": [
    "### 3. k-nearest neighborhood"
   ]
  },
  {
   "cell_type": "code",
   "execution_count": 6,
   "metadata": {},
   "outputs": [
    {
     "data": {
      "text/plain": [
       "<networkx.classes.graph.Graph at 0x7ff29616b610>"
      ]
     },
     "execution_count": 6,
     "metadata": {},
     "output_type": "execute_result"
    }
   ],
   "source": [
    "loc_np = np.array(list(node_location.values()))\n",
    "x_np = loc_np[:, 0].reshape((1, -1))\n",
    "y_np = loc_np[:, 1].reshape((1, -1))\n",
    "distance_np = np.square(x_np - x_np.T)+np.square(y_np - y_np.T)\n",
    "k_nearest = {}\n",
    "k = int(average_cluster_size/2)\n",
    "for i in range(N):\n",
    "    k_near_pre = list(np.argsort(distance_np[i])[:k+1:])\n",
    "    k_near_pre.remove(i)\n",
    "    k_nearest[i] = k_near_pre\n",
    "for i in range(N):\n",
    "    for j in k_nearest[i]:\n",
    "        G.add_edge(i, j, weight = np.exp(-1/2*distance_np[i, j]))\n",
    "        \n",
    "G.to_undirected()"
   ]
  },
  {
   "cell_type": "markdown",
   "metadata": {},
   "source": [
    "### 4. Generate $f_{k, m}$"
   ]
  },
  {
   "cell_type": "code",
   "execution_count": 7,
   "metadata": {},
   "outputs": [
    {
     "name": "stdout",
     "output_type": "stream",
     "text": [
      "34\n"
     ]
    }
   ],
   "source": [
    "omega = 1/K*np.ones(K)\n",
    "beta = 1/M*np.ones(M)\n",
    "F = omega.reshape((1, -1))*beta.reshape((-1, 1))\n",
    "F = F*K*M\n",
    "# F [M, K]\n",
    "print(average_cluster_size)"
   ]
  },
  {
   "cell_type": "markdown",
   "metadata": {},
   "source": [
    "### 5. Allocate for $X$"
   ]
  },
  {
   "cell_type": "code",
   "execution_count": 8,
   "metadata": {},
   "outputs": [],
   "source": [
    "X = np.zeros((N, M))\n",
    "for i in range(M):\n",
    "    for j in range(K):\n",
    "        tmp = np.random.dirichlet(np.ones(average_cluster_size), size=1)*F[i, j]\n",
    "        X[j*average_cluster_size:(j+1)*average_cluster_size:, i] = tmp"
   ]
  },
  {
   "cell_type": "markdown",
   "metadata": {},
   "source": [
    "### 6. for Algorithm Process & Evaluation"
   ]
  },
  {
   "cell_type": "code",
   "execution_count": 43,
   "metadata": {},
   "outputs": [
    {
     "name": "stdout",
     "output_type": "stream",
     "text": [
      "0.384\n",
      "0.128\n"
     ]
    }
   ],
   "source": [
    "# 1. DANMF\n",
    "\n",
    "model1 = karateclub.DANMF()\n",
    "model1.fit(G)\n",
    "cluster_membership = model1.get_memberships()\n",
    "clusters = cluster_membership\n",
    "labels_pred = list(_flatten(list(clusters.values())))\n",
    "partition = dict(zip(list(range(len(labels_pred))), labels_pred))\n",
    "partition_2 = {}\n",
    "for i in range(len(labels_pred)):\n",
    "    if labels_pred[i] not in partition_2:\n",
    "        partition_2[labels_pred[i]] = [i]\n",
    "    else:\n",
    "        partition_2[labels_pred[i]].append(i)\n",
    "        \n",
    "cn = len(partition_2)\n",
    "U = np.zeros((cn, N))\n",
    "for k, v in partition.items():\n",
    "    U[v, k] = 1\n",
    "    \n",
    "print(round(community.modularity(partition, G, weight='weight'), 3))\n",
    "print(round(np.sqrt(np.sum(np.square(np.dot(np.dot(U, X), beta) / np.sum(np.dot(np.dot(U, X), beta))  - np.ones(cn)/cn))), 3))"
   ]
  },
  {
   "cell_type": "code",
   "execution_count": 44,
   "metadata": {},
   "outputs": [
    {
     "name": "stdout",
     "output_type": "stream",
     "text": [
      "0.13\n",
      "0.304\n"
     ]
    }
   ],
   "source": [
    "# 2. NNSED\n",
    "\n",
    "model1 = karateclub.NNSED(dimensions=K)\n",
    "model1.fit(G)\n",
    "cluster_membership = model1.get_memberships()\n",
    "clusters = cluster_membership\n",
    "labels_pred = list(_flatten(list(clusters.values())))\n",
    "partition = dict(zip(list(range(len(labels_pred))), labels_pred))\n",
    "partition_2 = {}\n",
    "for i in range(len(labels_pred)):\n",
    "    if labels_pred[i] not in partition_2:\n",
    "        partition_2[labels_pred[i]] = [i]\n",
    "    else:\n",
    "        partition_2[labels_pred[i]].append(i)\n",
    "        \n",
    "cn = len(partition_2)\n",
    "U = np.zeros((cn, N))\n",
    "for k, v in partition.items():\n",
    "    U[v, k] = 1\n",
    "    \n",
    "print(round(community.modularity(partition, G, weight='weight'), 3))\n",
    "print(round(np.sqrt(np.sum(np.square(np.dot(np.dot(U, X), beta) / np.sum(np.dot(np.dot(U, X), beta))  - np.ones(cn)/cn))), 3))"
   ]
  },
  {
   "cell_type": "code",
   "execution_count": 45,
   "metadata": {},
   "outputs": [
    {
     "name": "stdout",
     "output_type": "stream",
     "text": [
      "0.498\n",
      "0.0\n"
     ]
    }
   ],
   "source": [
    "# 3. MNMF\n",
    "\n",
    "model1 = karateclub.MNMF(clusters=K)\n",
    "model1.fit(G)\n",
    "cluster_membership = model1.get_memberships()\n",
    "clusters = cluster_membership\n",
    "labels_pred = list(_flatten(list(clusters.values())))\n",
    "partition = dict(zip(list(range(len(labels_pred))), labels_pred))\n",
    "partition_2 = {}\n",
    "for i in range(len(labels_pred)):\n",
    "    if labels_pred[i] not in partition_2:\n",
    "        partition_2[labels_pred[i]] = [i]\n",
    "    else:\n",
    "        partition_2[labels_pred[i]].append(i)\n",
    "        \n",
    "cn = len(partition_2)\n",
    "U = np.zeros((cn, N))\n",
    "for k, v in partition.items():\n",
    "    U[v, k] = 1\n",
    "    \n",
    "print(round(community.modularity(partition, G, weight='weight'), 3))\n",
    "print(round(np.sqrt(np.sum(np.square(np.dot(np.dot(U, X), beta) / np.sum(np.dot(np.dot(U, X), beta))  - np.ones(cn)/cn))), 3))"
   ]
  },
  {
   "cell_type": "code",
   "execution_count": 46,
   "metadata": {},
   "outputs": [
    {
     "name": "stdout",
     "output_type": "stream",
     "text": [
      "0.498\n",
      "0.0\n"
     ]
    }
   ],
   "source": [
    "# 4. BigClam\n",
    "\n",
    "model1 = karateclub.BigClam(dimensions=K)\n",
    "model1.fit(G)\n",
    "cluster_membership = model1.get_memberships()\n",
    "clusters = cluster_membership\n",
    "labels_pred = list(_flatten(list(clusters.values())))\n",
    "partition = dict(zip(list(range(len(labels_pred))), labels_pred))\n",
    "partition_2 = {}\n",
    "for i in range(len(labels_pred)):\n",
    "    if labels_pred[i] not in partition_2:\n",
    "        partition_2[labels_pred[i]] = [i]\n",
    "    else:\n",
    "        partition_2[labels_pred[i]].append(i)\n",
    "        \n",
    "cn = len(partition_2)\n",
    "U = np.zeros((cn, N))\n",
    "for k, v in partition.items():\n",
    "    U[v, k] = 1\n",
    "    \n",
    "print(round(community.modularity(partition, G, weight='weight'), 3))\n",
    "print(round(np.sqrt(np.sum(np.square(np.dot(np.dot(U, X), beta) / np.sum(np.dot(np.dot(U, X), beta))  - np.ones(cn)/cn))), 3))"
   ]
  },
  {
   "cell_type": "code",
   "execution_count": 47,
   "metadata": {},
   "outputs": [
    {
     "name": "stdout",
     "output_type": "stream",
     "text": [
      "0.084\n",
      "0.05\n"
     ]
    }
   ],
   "source": [
    "# 5. SNMF\n",
    "\n",
    "model1 = karateclub.SymmNMF(dimensions=K)\n",
    "model1.fit(G)\n",
    "cluster_membership = model1.get_memberships()\n",
    "clusters = cluster_membership\n",
    "labels_pred = list(_flatten(list(clusters.values())))\n",
    "partition = dict(zip(list(range(len(labels_pred))), labels_pred))\n",
    "partition_2 = {}\n",
    "for i in range(len(labels_pred)):\n",
    "    if labels_pred[i] not in partition_2:\n",
    "        partition_2[labels_pred[i]] = [i]\n",
    "    else:\n",
    "        partition_2[labels_pred[i]].append(i)\n",
    "        \n",
    "cn = len(partition_2)\n",
    "U = np.zeros((cn, N))\n",
    "for k, v in partition.items():\n",
    "    U[v, k] = 1\n",
    "    \n",
    "print(round(community.modularity(partition, G, weight='weight'), 3))\n",
    "print(round(np.sqrt(np.sum(np.square(np.dot(np.dot(U, X), beta) / np.sum(np.dot(np.dot(U, X), beta))  - np.ones(cn)/cn))), 3))"
   ]
  },
  {
   "cell_type": "code",
   "execution_count": 48,
   "metadata": {},
   "outputs": [
    {
     "name": "stdout",
     "output_type": "stream",
     "text": [
      "0.141\n",
      "0.134\n"
     ]
    }
   ],
   "source": [
    "# 6. GEMSEC\n",
    "\n",
    "model1 = karateclub.GEMSEC(dimensions=K)\n",
    "model1.fit(G)\n",
    "cluster_membership = model1.get_memberships()\n",
    "clusters = cluster_membership\n",
    "labels_pred = list(_flatten(list(clusters.values())))\n",
    "partition = dict(zip(list(range(len(labels_pred))), labels_pred))\n",
    "partition_2 = {}\n",
    "for i in range(len(labels_pred)):\n",
    "    if labels_pred[i] not in partition_2:\n",
    "        partition_2[labels_pred[i]] = [i]\n",
    "    else:\n",
    "        partition_2[labels_pred[i]].append(i)\n",
    "        \n",
    "cn = len(partition_2)\n",
    "U = np.zeros((cn, N))\n",
    "for k, v in partition.items():\n",
    "    U[v, k] = 1\n",
    "    \n",
    "print(round(community.modularity(partition, G, weight='weight'), 3))\n",
    "print(round(np.sqrt(np.sum(np.square(np.dot(np.dot(U, X), beta) / np.sum(np.dot(np.dot(U, X), beta))  - np.ones(cn)/cn))), 3))"
   ]
  },
  {
   "cell_type": "code",
   "execution_count": 49,
   "metadata": {},
   "outputs": [
    {
     "name": "stdout",
     "output_type": "stream",
     "text": [
      "0.468\n",
      "0.236\n"
     ]
    }
   ],
   "source": [
    "# 7. SCD\n",
    "\n",
    "model1 = karateclub.SCD()\n",
    "model1.fit(G)\n",
    "cluster_membership = model1.get_memberships()\n",
    "clusters = cluster_membership\n",
    "labels_pred = list(_flatten(list(clusters.values())))\n",
    "partition = dict(zip(list(range(len(labels_pred))), labels_pred))\n",
    "partition_2 = {}\n",
    "for i in range(len(labels_pred)):\n",
    "    if labels_pred[i] not in partition_2:\n",
    "        partition_2[labels_pred[i]] = [i]\n",
    "    else:\n",
    "        partition_2[labels_pred[i]].append(i)\n",
    "        \n",
    "cn = len(partition_2)\n",
    "U = np.zeros((cn, N))\n",
    "for k, v in partition.items():\n",
    "    U[v, k] = 1\n",
    "    \n",
    "print(round(community.modularity(partition, G, weight='weight'), 3))\n",
    "print(round(np.sqrt(np.sum(np.square(np.dot(np.dot(U, X), beta) / np.sum(np.dot(np.dot(U, X), beta))  - np.ones(cn)/cn))), 3))"
   ]
  },
  {
   "cell_type": "code",
   "execution_count": 65,
   "metadata": {},
   "outputs": [
    {
     "name": "stdout",
     "output_type": "stream",
     "text": [
      "-0.01\n",
      "0.007\n"
     ]
    }
   ],
   "source": [
    "# 8. LPA\n",
    "\n",
    "model1 = karateclub.LabelPropagation(seed=10, iterations=100)\n",
    "model1.fit(G)\n",
    "cluster_membership = model1.get_memberships()\n",
    "clusters = cluster_membership\n",
    "labels_pred = list(_flatten(list(clusters.values())))\n",
    "\n",
    "remap = list(set(labels_pred))\n",
    "for i in range(len(labels_pred)):\n",
    "    labels_pred[i] = remap.index(labels_pred[i])\n",
    "\n",
    "partition = dict(zip(list(range(len(labels_pred))), labels_pred))\n",
    "partition_2 = {}\n",
    "for i in range(len(labels_pred)):\n",
    "    if labels_pred[i] not in partition_2:\n",
    "        partition_2[labels_pred[i]] = [i]\n",
    "    else:\n",
    "        partition_2[labels_pred[i]].append(i)\n",
    "        \n",
    "cn = len(partition_2)\n",
    "U = np.zeros((cn, N))\n",
    "for k, v in partition.items():\n",
    "    U[v, k] = 1\n",
    "    \n",
    "print(round(community.modularity(partition, G, weight='weight'), 3))\n",
    "print(round(np.sqrt(np.sum(np.square(np.dot(np.dot(U, X), beta) / np.sum(np.dot(np.dot(U, X), beta))  - np.ones(cn)/cn))), 3))"
   ]
  },
  {
   "cell_type": "code",
   "execution_count": 52,
   "metadata": {},
   "outputs": [
    {
     "name": "stdout",
     "output_type": "stream",
     "text": [
      "0.498\n",
      "0.0\n"
     ]
    }
   ],
   "source": [
    "# 9. Louvain\n",
    "\n",
    "partition = community.best_partition(G, weight='weight')\n",
    "labels_pred = partition\n",
    "partition_2 = {}\n",
    "for i in range(len(labels_pred)):\n",
    "    if labels_pred[i] not in partition_2:\n",
    "        partition_2[labels_pred[i]] = [i]\n",
    "    else:\n",
    "        partition_2[labels_pred[i]].append(i)\n",
    "        \n",
    "cn = len(partition_2)\n",
    "U = np.zeros((cn, N))\n",
    "for k, v in partition.items():\n",
    "    U[v, k] = 1\n",
    "    \n",
    "print(round(community.modularity(partition, G, weight='weight'), 3))\n",
    "print(round(np.sqrt(np.sum(np.square(np.dot(np.dot(U, X), beta) / np.sum(np.dot(np.dot(U, X), beta))  - np.ones(cn)/cn))), 3))"
   ]
  },
  {
   "cell_type": "code",
   "execution_count": 53,
   "metadata": {},
   "outputs": [
    {
     "name": "stdout",
     "output_type": "stream",
     "text": [
      "Epoch:  0 ; soft_mod:  0.021754 ; loss_cons:  0.104178 ; loss_clus:  0.0\n",
      "Epoch:  10 ; soft_mod:  0.445919 ; loss_cons:  0.075685 ; loss_clus:  0.12761\n",
      "Epoch:  20 ; soft_mod:  0.498237 ; loss_cons:  0.074062 ; loss_clus:  0.152437\n",
      "Epoch:  30 ; soft_mod:  0.498237 ; loss_cons:  0.033017 ; loss_clus:  0.160049\n",
      "Epoch:  40 ; soft_mod:  0.498237 ; loss_cons:  0.080714 ; loss_clus:  0.156311\n",
      "Epoch:  50 ; soft_mod:  0.498237 ; loss_cons:  0.116974 ; loss_clus:  0.181685\n",
      "Epoch:  60 ; soft_mod:  0.498237 ; loss_cons:  0.065888 ; loss_clus:  0.184026\n",
      "Epoch:  70 ; soft_mod:  0.498237 ; loss_cons:  0.057056 ; loss_clus:  0.211556\n",
      "Epoch:  80 ; soft_mod:  0.498237 ; loss_cons:  0.05671 ; loss_clus:  0.222292\n",
      "Epoch:  90 ; soft_mod:  0.498237 ; loss_cons:  0.086035 ; loss_clus:  0.22451\n",
      "Epoch:  100 ; soft_mod:  0.498237 ; loss_cons:  0.015137 ; loss_clus:  0.239092\n",
      "Epoch:  110 ; soft_mod:  0.498237 ; loss_cons:  0.095702 ; loss_clus:  0.241192\n",
      "Epoch:  120 ; soft_mod:  0.498237 ; loss_cons:  0.057035 ; loss_clus:  0.242211\n",
      "Epoch:  130 ; soft_mod:  0.498237 ; loss_cons:  0.07752 ; loss_clus:  0.247726\n",
      "Epoch:  140 ; soft_mod:  0.498237 ; loss_cons:  0.032529 ; loss_clus:  0.249754\n",
      "Epoch:  150 ; soft_mod:  0.498237 ; loss_cons:  0.017184 ; loss_clus:  0.242483\n",
      "Epoch:  160 ; soft_mod:  0.498237 ; loss_cons:  0.051192 ; loss_clus:  0.245595\n",
      "Epoch:  170 ; soft_mod:  0.498237 ; loss_cons:  0.015455 ; loss_clus:  0.242641\n",
      "Epoch:  180 ; soft_mod:  0.498237 ; loss_cons:  0.05748 ; loss_clus:  0.236963\n",
      "Epoch:  190 ; soft_mod:  0.498237 ; loss_cons:  0.030986 ; loss_clus:  0.232654\n",
      "Epoch:  200 ; soft_mod:  0.498237 ; loss_cons:  0.055173 ; loss_clus:  0.225361\n",
      "Epoch:  210 ; soft_mod:  0.498237 ; loss_cons:  0.041719 ; loss_clus:  0.213397\n",
      "Epoch:  220 ; soft_mod:  0.498237 ; loss_cons:  0.037019 ; loss_clus:  0.212142\n",
      "Epoch:  230 ; soft_mod:  0.498237 ; loss_cons:  0.047354 ; loss_clus:  0.204402\n",
      "Epoch:  240 ; soft_mod:  0.498237 ; loss_cons:  0.03007 ; loss_clus:  0.200293\n"
     ]
    }
   ],
   "source": [
    "# Ours\n",
    "partition = MGCF.main(clusters_number=K, feature=X, multi_graph=[G], alpha_1=1, alpha_2=0.1, alpha_3=0.01, weight_list=[1], alpha=2, epoch_num=250)"
   ]
  },
  {
   "cell_type": "code",
   "execution_count": 54,
   "metadata": {},
   "outputs": [
    {
     "name": "stdout",
     "output_type": "stream",
     "text": [
      "0.498\n",
      "0.0\n"
     ]
    }
   ],
   "source": [
    "labels_pred = partition\n",
    "partition_2 = {}\n",
    "for i in range(len(labels_pred)):\n",
    "    if labels_pred[i] not in partition_2:\n",
    "        partition_2[labels_pred[i]] = [i]\n",
    "    else:\n",
    "        partition_2[labels_pred[i]].append(i)\n",
    "        \n",
    "cn = len(partition_2)\n",
    "U = np.zeros((cn, N))\n",
    "for k, v in partition.items():\n",
    "    U[v, k] = 1\n",
    "    \n",
    "print(round(community.modularity(partition, G, weight='weight'), 3))\n",
    "print(round(np.sqrt(np.sum(np.square(np.dot(np.dot(U, X), beta) / np.sum(np.dot(np.dot(U, X), beta))  - np.ones(cn)/cn))), 3))"
   ]
  }
 ],
 "metadata": {
  "kernelspec": {
   "display_name": "Python 3",
   "language": "python",
   "name": "python3"
  },
  "language_info": {
   "codemirror_mode": {
    "name": "ipython",
    "version": 3
   },
   "file_extension": ".py",
   "mimetype": "text/x-python",
   "name": "python",
   "nbconvert_exporter": "python",
   "pygments_lexer": "ipython3",
   "version": "3.7.7"
  }
 },
 "nbformat": 4,
 "nbformat_minor": 4
}
