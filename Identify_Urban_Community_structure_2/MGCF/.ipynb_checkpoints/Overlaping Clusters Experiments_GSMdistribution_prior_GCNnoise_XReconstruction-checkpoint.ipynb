{
 "cells": [
  {
   "cell_type": "code",
   "execution_count": 2,
   "metadata": {},
   "outputs": [
    {
     "name": "stderr",
     "output_type": "stream",
     "text": [
      "Using backend: pytorch\n"
     ]
    }
   ],
   "source": [
    "import dgl\n",
    "import dgl.function as fn\n",
    "import torch.nn.functional as F\n",
    "from dgl import DGLGraph\n",
    "import time\n",
    "from dgl.data import citation_graph as citegrh\n",
    "from scipy import sparse\n",
    "from sklearn import preprocessing \n",
    "from tqdm import tqdm\n",
    "import networkx as nx\n",
    "import geopandas as gpd\n",
    "import pandas as pd \n",
    "import numpy as np\n",
    "import matplotlib.pylab as plt\n",
    "%matplotlib inline\n",
    "import math\n",
    "import random\n",
    "import community\n",
    "import torch\n",
    "import torch.nn as nn\n",
    "import torch.nn.functional as F\n",
    "import torch.optim as optim\n",
    "from modularity_maximization import partition\n",
    "device = torch.device('cpu')"
   ]
  },
  {
   "cell_type": "code",
   "execution_count": 3,
   "metadata": {},
   "outputs": [],
   "source": [
    "sample_num = 2000"
   ]
  },
  {
   "cell_type": "markdown",
   "metadata": {},
   "source": [
    "### Graph Construction —— Population Flow"
   ]
  },
  {
   "cell_type": "code",
   "execution_count": 4,
   "metadata": {},
   "outputs": [
    {
     "name": "stderr",
     "output_type": "stream",
     "text": [
      "100%|██████████| 2000/2000 [00:03<00:00, 564.58it/s]\n"
     ]
    }
   ],
   "source": [
    "# 确认节点数量\n",
    "bs_gpd = gpd.read_file('../../data/basestation-gis/basestation_aggregation.shp')\n",
    "bs_gpd = bs_gpd.iloc[:sample_num:, ::]\n",
    "bs_num = bs_gpd.shape[0]\n",
    "\n",
    "# 构造图节点\n",
    "nodes_list = list(range(bs_num))\n",
    "G = nx.Graph()\n",
    "G.add_nodes_from(nodes_list)\n",
    "\n",
    "# 读取邻接矩阵adjacent\n",
    "# 以工作日(周一)的早高峰时段为例\n",
    "adj = pd.read_csv('../../data/adj/adj_20151109_0002.csv')\n",
    "adj = adj.iloc[:, 1:].values\n",
    "adj = adj[:sample_num:, :sample_num:]\n",
    "adj = adj + adj.T\n",
    "for i in range(sample_num): adj[i, i] = 0\n",
    "    \n",
    "# for i in range(bs_num):\n",
    "#     if (adj[i]==0).all():\n",
    "#         adj[i, :] = 0.0001\n",
    "#         adj[:, i] = 0.0001\n",
    "\n",
    "# D_12 = np.diag(np.power(np.sum(adj, axis=0)+0.00001, -1/2))\n",
    "# adj_norm = np.dot(np.dot(D_12, adj), D_12)\n",
    "\n",
    "for i in tqdm(range(bs_num)):\n",
    "    for j in range(bs_num):\n",
    "        tmp = adj[i, j]\n",
    "        if tmp>0: G.add_edge(i, j, weight=tmp)"
   ]
  },
  {
   "cell_type": "markdown",
   "metadata": {},
   "source": [
    "### Graph Construction —— Geographic Reachability"
   ]
  },
  {
   "cell_type": "code",
   "execution_count": null,
   "metadata": {},
   "outputs": [],
   "source": []
  },
  {
   "cell_type": "markdown",
   "metadata": {},
   "source": [
    "### Feature Construction —— Equality Contribution"
   ]
  },
  {
   "cell_type": "code",
   "execution_count": 5,
   "metadata": {},
   "outputs": [],
   "source": [
    "feature = pd.read_csv('../../data/features/features_wf_new.csv')\n",
    "feature = feature.iloc[:, 1::].values"
   ]
  },
  {
   "cell_type": "code",
   "execution_count": 6,
   "metadata": {},
   "outputs": [],
   "source": [
    "feature = feature[:sample_num:, :]"
   ]
  },
  {
   "cell_type": "markdown",
   "metadata": {},
   "source": [
    "### Prior Information"
   ]
  },
  {
   "cell_type": "code",
   "execution_count": 7,
   "metadata": {},
   "outputs": [],
   "source": [
    "partition = community.best_partition(G)\n",
    "partition_count = {}\n",
    "for key, value in partition.items():\n",
    "    if value not in partition_count:\n",
    "        partition_count[value] = 1\n",
    "    else:\n",
    "        partition_count[value] = partition_count[value] + 1"
   ]
  },
  {
   "cell_type": "code",
   "execution_count": 8,
   "metadata": {},
   "outputs": [
    {
     "name": "stdout",
     "output_type": "stream",
     "text": [
      "0.6013691867427065\n",
      "10\n"
     ]
    }
   ],
   "source": [
    "print(community.modularity(partition, G, weight='weight'))\n",
    "clusters_number = 0\n",
    "for key, value in partition_count.items():\n",
    "    if value > 1:\n",
    "        clusters_number = clusters_number + 1\n",
    "print(clusters_number)\n",
    "remapping = {}\n",
    "idx = 0\n",
    "for key, value in partition_count.items():\n",
    "    if value>1 and key not in remapping:\n",
    "        remapping[key] = idx\n",
    "        idx = idx + 1\n",
    "\n",
    "alpha = 0.01\n",
    "W_prior = np.zeros((bs_num, clusters_number))\n",
    "for key, value in partition.items():\n",
    "    try:\n",
    "        W_prior[key, remapping[value]] = alpha\n",
    "    except:\n",
    "        pass"
   ]
  },
  {
   "cell_type": "markdown",
   "metadata": {},
   "source": [
    "### Net Initial "
   ]
  },
  {
   "cell_type": "markdown",
   "metadata": {},
   "source": [
    "np.identity()只能创建方阵，np.eye()可以创建一般矩阵，主对角线为1，其余元素为0。"
   ]
  },
  {
   "cell_type": "code",
   "execution_count": 9,
   "metadata": {},
   "outputs": [],
   "source": [
    "gcn_msg = fn.copy_src(src='h', out='m')\n",
    "gcn_reduce = fn.sum(msg='m', out='h')\n",
    "\n",
    "A = torch.from_numpy(adj).float()\n",
    "d = torch.from_numpy(np.sum(adj, axis=1).reshape((-1, 1))).float()\n",
    "mm = np.sum(adj)\n",
    "B = A - torch.mm(d, d.T)/mm\n",
    "B_norm = B/mm\n",
    "DG1 = dgl.DGLGraph()\n",
    "DG1.from_networkx(G)\n",
    "features = torch.from_numpy(feature).float()\n",
    "\n",
    "# D_ = th.diag(th.pow(d.view(-1), -1/2))\n",
    "# A_norm = th.mm(th.mm(D_, A), D_)\n",
    "\n",
    "# k = 15\n",
    "in_dim = features.size()[1]\n",
    "out_dim = clusters_number"
   ]
  },
  {
   "cell_type": "code",
   "execution_count": 10,
   "metadata": {},
   "outputs": [],
   "source": [
    "class GCNLayer(nn.Module):\n",
    "    def __init__(self, in_feats, out_feats):\n",
    "        super(GCNLayer, self).__init__()\n",
    "        self.linear = nn.Linear(in_feats, out_feats)\n",
    "\n",
    "    def forward(self, g, feature):\n",
    "        # Creating a local scope so that all the stored ndata and edata\n",
    "        # (such as the `'h'` ndata below) are automatically popped out\n",
    "        # when the scope exits.\n",
    "        with g.local_scope():\n",
    "            g.ndata['h'] = feature\n",
    "            g.update_all(gcn_msg, gcn_reduce)\n",
    "            h = g.ndata['h']\n",
    "            return self.linear(h)"
   ]
  },
  {
   "cell_type": "code",
   "execution_count": 14,
   "metadata": {},
   "outputs": [],
   "source": [
    "class GCN_model(nn.Module):\n",
    "    def __init__(self, in_feats, out_feats):\n",
    "        super(GCN_model, self).__init__()\n",
    "        self.layer = GCNLayer(in_feats, out_feats)\n",
    "        # self.B = B\n",
    "\n",
    "    def forward(self, g, features, beta):\n",
    "        global gcn_output\n",
    "        n = nn.Softmax(dim=1)\n",
    "        \n",
    "        gcn_output = self.layer(g, features)\n",
    "        weight_feature = n(gcn_output)\n",
    "        W_noise = torch.div(torch.exp(weight_feature)-1, torch.exp(weight_feature)+1)*beta\n",
    "        return W_noise"
   ]
  },
  {
   "cell_type": "code",
   "execution_count": 15,
   "metadata": {},
   "outputs": [],
   "source": [
    "class GCN_decoder(nn.Module):\n",
    "    def __init__(self, in_feats, out_feats):\n",
    "        super(GCN_decoder, self).__init__()\n",
    "        self.layer = GCNLayer(in_feats, out_feats)\n",
    "\n",
    "    def forward(self, g, features):\n",
    "        gcn_output = self.layer(g, features)\n",
    "        return gcn_output"
   ]
  },
  {
   "cell_type": "code",
   "execution_count": 13,
   "metadata": {},
   "outputs": [],
   "source": [
    "# clusters_number = 15\n",
    "A_hat = torch.tensor(nx.adjacency_matrix(G).todense(), dtype=np.float) # a matrix: A\n",
    "X = np.identity(G.number_of_nodes(), dtype=np.float)\n",
    "\n",
    "class OURS(nn.Module):\n",
    "    def __init__(self, B_norm, num_feat, num_hidden):\n",
    "        super(OURS, self).__init__()\n",
    "        self.num_feat = num_feat # 特征数 f\n",
    "        self.num_hidden = num_hidden # 隐含数 h\n",
    "        self.B_norm = B_norm.float()\n",
    "        self.W_0 = nn.Parameter(torch.ones(num_feat, num_hidden)+W_prior) # [1][f*h]\n",
    "\n",
    "    def forward(self, X, A_hat,temp, epoch, W_noise): # X貌似暂时没有用到\n",
    "        global featureSelector # \n",
    "        global weight_feature # \n",
    "        f = nn.Softmax(dim=1)\n",
    "        featureSelector = f(self.W_0 + W_noise) # [1][f*h]\n",
    "        results = torch.zeros(self.W_0.size()) # [0][f*h]\n",
    "        x = 2*(epoch+1) # x次取平均,目测这个目的是为了稳定。\n",
    "        for i in range(x):\n",
    "            # logits --> self.W_0: [batch_size, num_features] 非规范化对数概率\n",
    "            # tau: 非负的对抗强度。\n",
    "            # hard: 如果 True, 返回的样本将会离散为 one-hot 向量\n",
    "            results += F.gumbel_softmax(self.W_0,tau=temp,hard=False)\n",
    "        weight_feature = results/x # [-][f*h]\n",
    "\n",
    "        # H = torch.mm(torch.mm(weight_feature.T, B), weight_feature) # weight_feature 就是我们要求的U\n",
    "        H = torch.mm(torch.mm(weight_feature.T, self.B_norm), weight_feature) # weight_feature 就是我们要求的U\n",
    "        Hh = torch.div(H, H.sum(axis=0)) # 按照每一列进行归一化，列为axis=0的方向。\n",
    "        m = nn.Softmax(dim=0)\n",
    "        return m(Hh)\n",
    "    \n",
    "def lossFn(output): \n",
    "    return torch.trace(-torch.log(output))"
   ]
  },
  {
   "cell_type": "markdown",
   "metadata": {},
   "source": [
    "### Partition Process"
   ]
  },
  {
   "cell_type": "markdown",
   "metadata": {},
   "source": [
    "<font color='red'>Experiment Set: $\\alpha = 0.01$</font>"
   ]
  },
  {
   "cell_type": "code",
   "execution_count": null,
   "metadata": {},
   "outputs": [],
   "source": [
    "gamma1 = 1\n",
    "gamma2 = 0"
   ]
  },
  {
   "cell_type": "code",
   "execution_count": null,
   "metadata": {
    "scrolled": false
   },
   "outputs": [
    {
     "name": "stdout",
     "output_type": "stream",
     "text": [
      "Epoch:  0 ; Loss:  23.0281 ; Modulariy:  -0.01\n",
      "Epoch:  10 ; Loss:  23.0258 ; Modulariy:  0.0063\n",
      "Epoch:  20 ; Loss:  23.0254 ; Modulariy:  0.0141\n",
      "Epoch:  30 ; Loss:  23.0244 ; Modulariy:  0.0511\n",
      "Epoch:  40 ; Loss:  23.0217 ; Modulariy:  0.1313\n",
      "Epoch:  50 ; Loss:  23.0154 ; Modulariy:  0.1783\n",
      "Epoch:  60 ; Loss:  23.0041 ; Modulariy:  0.2133\n",
      "Epoch:  70 ; Loss:  22.9849 ; Modulariy:  0.2664\n",
      "Epoch:  80 ; Loss:  22.9455 ; Modulariy:  0.2559\n",
      "Epoch:  90 ; Loss:  22.9006 ; Modulariy:  0.2658\n",
      "Epoch:  100 ; Loss:  22.8146 ; Modulariy:  0.2581\n",
      "Epoch:  110 ; Loss:  22.7358 ; Modulariy:  0.2727\n",
      "Epoch:  120 ; Loss:  22.6495 ; Modulariy:  0.3042\n",
      "Epoch:  130 ; Loss:  22.3903 ; Modulariy:  0.3322\n",
      "Epoch:  140 ; Loss:  22.2594 ; Modulariy:  0.3465\n",
      "Epoch:  150 ; Loss:  22.0269 ; Modulariy:  0.3679\n",
      "Epoch:  160 ; Loss:  21.8742 ; Modulariy:  0.3916\n",
      "Epoch:  170 ; Loss:  21.7068 ; Modulariy:  0.3965\n",
      "Epoch:  180 ; Loss:  21.118 ; Modulariy:  0.4175\n",
      "Epoch:  190 ; Loss:  20.7918 ; Modulariy:  0.4432\n",
      "Epoch:  200 ; Loss:  20.4097 ; Modulariy:  0.4509\n",
      "Epoch:  210 ; Loss:  20.0201 ; Modulariy:  0.4612\n",
      "Epoch:  220 ; Loss:  19.6585 ; Modulariy:  0.4742\n",
      "Epoch:  230 ; Loss:  19.3407 ; Modulariy:  0.4819\n",
      "Epoch:  240 ; Loss:  19.094 ; Modulariy:  0.4941\n",
      "Epoch:  250 ; Loss:  18.6685 ; Modulariy:  0.4978\n",
      "Epoch:  260 ; Loss:  18.5312 ; Modulariy:  0.5007\n",
      "Epoch:  270 ; Loss:  18.429 ; Modulariy:  0.5016\n"
     ]
    }
   ],
   "source": [
    "num_feat = len(G.nodes()) # f = 节点数\n",
    "num_hidden = clusters_number # h = 聚类数\n",
    "\n",
    "model_base = OURS(A_hat, num_feat, num_hidden).to(device)\n",
    "model_gcn = GCN_model(in_dim, out_dim)\n",
    "model_decoder = GCN_decoder(out_dim, in_dim)\n",
    "\n",
    "optimizer_base = optim.Adam(model_base.parameters(),lr=1.5e-2)\n",
    "optimizer_gcn = torch.optim.Adam(model_gcn.parameters(), lr=1e-2)\n",
    "optimizer_decoder = torch.optim.Adam(model_decoder.parameters(), lr=1e-2)\n",
    "# optimizer = optim.Adam(model.parameters(),lr=1e-2,weight_decay=0,betas=(0.5, 0.999), eps=1e-08)\n",
    "\n",
    "A_hat_tensor = torch.Tensor(A_hat.float()).to(device)\n",
    "X_tensor = torch.Tensor(X).to(device)\n",
    "\n",
    "loss_hist = []\n",
    "modularity_hist = []\n",
    "# acc_hist = []\n",
    "temp = 3\n",
    "beta = 1\n",
    "\n",
    "for epoch in range(500):\n",
    "    model_base.train()\n",
    "    model_base.zero_grad()\n",
    "    model_gcn.train()\n",
    "    model_gcn.zero_grad()\n",
    "    model_decoder.train()\n",
    "    model_decoder.zero_grad()\n",
    "    if(epoch == 75):\n",
    "        temp = 2.75\n",
    "    elif(epoch == 100):\n",
    "        temp = 2.5\n",
    "    elif(epoch == 125):\n",
    "        temp = 2\n",
    "    elif(epoch == 150):\n",
    "        temp = 1.8\n",
    "    elif(epoch == 175):\n",
    "        temp = 1.25\n",
    "    elif(epoch == 250):\n",
    "        temp = 1.00\n",
    "    elif(epoch == 300):\n",
    "        temp = 0.75\n",
    "    elif(epoch == 320):\n",
    "        temp = 0.50\n",
    "    elif(epoch == 400):\n",
    "        temp = 0.20\n",
    "    W_noise = model_gcn(DG1, features, beta)\n",
    "    output = model_base(X_tensor, A_hat_tensor, temp, epoch, W_noise)\n",
    "    features_rec = model_decoder(DG1, weight_feature)\n",
    "    ############################################\n",
    "    loss = gamma1*lossFn(output) + gamma2*torch.norm(features_rec - features, p='fro')/features.numel()\n",
    "    loss_hist.append(loss.item())\n",
    "    ############################################\n",
    "    gumbel_matrix = weight_feature.detach().max(dim=1)[1] # 每个节点的标签组成的tensor\n",
    "    labels_pred = gumbel_matrix.data.numpy()\n",
    "    modularity = community.modularity(dict(zip(list(range(len(labels_pred))), labels_pred)), G, weight='weight')\n",
    "    modularity_hist.append(modularity)\n",
    "    \n",
    "    if epoch%10==0: \n",
    "        print('Epoch: ', epoch, '; Loss: ', round(loss.item(), 4), '; Modulariy: ', round(modularity, 4))\n",
    "    loss.backward()\n",
    "    optimizer_base.step()\n",
    "    optimizer_gcn.step()"
   ]
  },
  {
   "cell_type": "code",
   "execution_count": 80,
   "metadata": {},
   "outputs": [
    {
     "name": "stdout",
     "output_type": "stream",
     "text": [
      "tensor(0.3305, grad_fn=<MinBackward1>) tensor(0.4976, grad_fn=<MaxBackward1>)\n"
     ]
    }
   ],
   "source": [
    "print(torch.min(W_noise), torch.max(W_noise))"
   ]
  },
  {
   "cell_type": "markdown",
   "metadata": {},
   "source": [
    "**GCN noise $\\beta = 1.0$**"
   ]
  },
  {
   "cell_type": "code",
   "execution_count": 73,
   "metadata": {
    "collapsed": true
   },
   "outputs": [
    {
     "data": {
      "image/png": "[encoded data removed]",
      "text/plain": [
       "<Figure size 1440x432 with 2 Axes>"
      ]
     },
     "metadata": {
      "needs_background": "light"
     },
     "output_type": "display_data"
    },
    {
     "name": "stdout",
     "output_type": "stream",
     "text": [
      "torch.Size([2000, 12])\n"
     ]
    },
    {
     "data": {
      "image/png": "[encoded data removed]",
      "text/plain": [
       "<Figure size 720x720 with 1 Axes>"
      ]
     },
     "metadata": {},
     "output_type": "display_data"
    },
    {
     "name": "stdout",
     "output_type": "stream",
     "text": [
      "0.5338417757719933\n"
     ]
    }
   ],
   "source": [
    "plt.figure(figsize=(20, 6))\n",
    "plt.subplot(1, 2, 1)\n",
    "plt.plot(loss_hist, color='red')\n",
    "plt.grid(True)\n",
    "plt.subplot(1, 2, 2)\n",
    "plt.plot(modularity_hist, color='blue')\n",
    "plt.grid(True)\n",
    "plt.show()\n",
    "\n",
    "print(weight_feature.detach().size())\n",
    "gumbel_matrix = weight_feature.detach().max(dim=1)[1] # 每个节点的标签组成的tensor\n",
    "labels_pred = gumbel_matrix.data.numpy()\n",
    "pos = nx.spring_layout(G)\n",
    "plt.figure(figsize=(10, 10))\n",
    "plt.axis('off')\n",
    "nx.draw_networkx(G, pos=pos, node_size=100, node_color=\"r\", with_labels=False)\n",
    "options = {\n",
    "    'node_color': 'red',\n",
    "    'node_size': 10,\n",
    "    'line_color': 'grey',\n",
    "    'linewidths': 0,\n",
    "    'width': 0.1,\n",
    "}\n",
    "plt.show()\n",
    "\n",
    "print(max(modularity_hist))"
   ]
  }
 ],
 "metadata": {
  "kernelspec": {
   "display_name": "Python 3",
   "language": "python",
   "name": "python3"
  },
  "language_info": {
   "codemirror_mode": {
    "name": "ipython",
    "version": 3
   },
   "file_extension": ".py",
   "mimetype": "text/x-python",
   "name": "python",
   "nbconvert_exporter": "python",
   "pygments_lexer": "ipython3",
   "version": "3.7.7"
  }
 },
 "nbformat": 4,
 "nbformat_minor": 2
}
