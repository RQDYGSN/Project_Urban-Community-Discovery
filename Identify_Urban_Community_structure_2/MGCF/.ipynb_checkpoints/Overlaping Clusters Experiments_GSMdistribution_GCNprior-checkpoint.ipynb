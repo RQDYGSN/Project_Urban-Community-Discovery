{
 "cells": [
  {
   "cell_type": "code",
   "execution_count": 1,
   "metadata": {},
   "outputs": [
    {
     "name": "stderr",
     "output_type": "stream",
     "text": [
      "Using backend: pytorch\n"
     ]
    }
   ],
   "source": [
    "import dgl\n",
    "import dgl.function as fn\n",
    "import torch.nn.functional as F\n",
    "from dgl import DGLGraph\n",
    "import time\n",
    "from dgl.data import citation_graph as citegrh\n",
    "from scipy import sparse\n",
    "from sklearn import preprocessing \n",
    "from tqdm import tqdm\n",
    "import networkx as nx\n",
    "import geopandas as gpd\n",
    "import pandas as pd \n",
    "import numpy as np\n",
    "import matplotlib.pylab as plt\n",
    "%matplotlib inline\n",
    "import math\n",
    "import random\n",
    "import community\n",
    "import torch\n",
    "import torch.nn as nn\n",
    "import torch.nn.functional as F\n",
    "import torch.optim as optim\n",
    "from modularity_maximization import partition\n",
    "device = torch.device('cpu')"
   ]
  },
  {
   "cell_type": "code",
   "execution_count": 2,
   "metadata": {},
   "outputs": [],
   "source": [
    "sample_num = 2000"
   ]
  },
  {
   "cell_type": "markdown",
   "metadata": {},
   "source": [
    "### Graph Construction —— Population Flow"
   ]
  },
  {
   "cell_type": "code",
   "execution_count": 3,
   "metadata": {},
   "outputs": [
    {
     "name": "stderr",
     "output_type": "stream",
     "text": [
      "100%|██████████| 2000/2000 [00:03<00:00, 575.15it/s]\n"
     ]
    }
   ],
   "source": [
    "# 确认节点数量\n",
    "bs_gpd = gpd.read_file('../../data/basestation-gis/basestation_aggregation.shp')\n",
    "bs_gpd = bs_gpd.iloc[:sample_num:, ::]\n",
    "bs_num = bs_gpd.shape[0]\n",
    "\n",
    "# 构造图节点\n",
    "nodes_list = list(range(bs_num))\n",
    "G = nx.Graph()\n",
    "G.add_nodes_from(nodes_list)\n",
    "\n",
    "# 读取邻接矩阵adjacent\n",
    "# 以工作日(周一)的早高峰时段为例\n",
    "adj = pd.read_csv('../../data/adj/adj_20151109_0002.csv')\n",
    "adj = adj.iloc[:, 1:].values\n",
    "adj = adj[:sample_num:, :sample_num:]\n",
    "adj = adj + adj.T\n",
    "for i in range(sample_num): adj[i, i] = 0\n",
    "    \n",
    "# for i in range(bs_num):\n",
    "#     if (adj[i]==0).all():\n",
    "#         adj[i, :] = 0.0001\n",
    "#         adj[:, i] = 0.0001\n",
    "\n",
    "# D_12 = np.diag(np.power(np.sum(adj, axis=0)+0.00001, -1/2))\n",
    "# adj_norm = np.dot(np.dot(D_12, adj), D_12)\n",
    "\n",
    "for i in tqdm(range(bs_num)):\n",
    "    for j in range(bs_num):\n",
    "        tmp = adj[i, j]\n",
    "        if tmp>0: G.add_edge(i, j, weight=tmp)"
   ]
  },
  {
   "cell_type": "markdown",
   "metadata": {},
   "source": [
    "### Graph Construction —— Geographic Reachability"
   ]
  },
  {
   "cell_type": "code",
   "execution_count": null,
   "metadata": {},
   "outputs": [],
   "source": []
  },
  {
   "cell_type": "markdown",
   "metadata": {},
   "source": [
    "### Feature Construction —— Equality Contribution"
   ]
  },
  {
   "cell_type": "code",
   "execution_count": 4,
   "metadata": {},
   "outputs": [],
   "source": [
    "feature = pd.read_csv('../../data/features/features_wf_new.csv')\n",
    "feature = feature.iloc[:, 1::].values"
   ]
  },
  {
   "cell_type": "code",
   "execution_count": 5,
   "metadata": {},
   "outputs": [],
   "source": [
    "feature = feature[:sample_num:, :]"
   ]
  },
  {
   "cell_type": "markdown",
   "metadata": {},
   "source": [
    "### Net Initial "
   ]
  },
  {
   "cell_type": "markdown",
   "metadata": {},
   "source": [
    "np.identity()只能创建方阵，np.eye()可以创建一般矩阵，主对角线为1，其余元素为0。"
   ]
  },
  {
   "cell_type": "code",
   "execution_count": 6,
   "metadata": {},
   "outputs": [],
   "source": [
    "clusters_number = 15"
   ]
  },
  {
   "cell_type": "code",
   "execution_count": 7,
   "metadata": {},
   "outputs": [],
   "source": [
    "gcn_msg = fn.copy_src(src='h', out='m')\n",
    "gcn_reduce = fn.sum(msg='m', out='h')\n",
    "\n",
    "A = torch.from_numpy(adj).float()\n",
    "\n",
    "DG1 = dgl.DGLGraph()\n",
    "DG1.from_networkx(G)\n",
    "features = torch.from_numpy(feature).float()\n",
    "\n",
    "# D_ = th.diag(th.pow(d.view(-1), -1/2))\n",
    "# A_norm = th.mm(th.mm(D_, A), D_)\n",
    "\n",
    "# k = 15\n",
    "in_dim = features.size()[1]\n",
    "out_dim = clusters_number"
   ]
  },
  {
   "cell_type": "code",
   "execution_count": 8,
   "metadata": {},
   "outputs": [],
   "source": [
    "class GCNLayer(nn.Module):\n",
    "    def __init__(self, in_feats, out_feats):\n",
    "        super(GCNLayer, self).__init__()\n",
    "        self.linear = nn.Linear(in_feats, out_feats)\n",
    "\n",
    "    def forward(self, g, feature):\n",
    "        # Creating a local scope so that all the stored ndata and edata\n",
    "        # (such as the `'h'` ndata below) are automatically popped out\n",
    "        # when the scope exits.\n",
    "        with g.local_scope():\n",
    "            g.ndata['h'] = feature\n",
    "            g.update_all(gcn_msg, gcn_reduce)\n",
    "            h = g.ndata['h']\n",
    "            return self.linear(h)"
   ]
  },
  {
   "cell_type": "code",
   "execution_count": 9,
   "metadata": {},
   "outputs": [],
   "source": [
    "class GCN_model(nn.Module):\n",
    "    def __init__(self, in_feats, out_feats):\n",
    "        super(GCN_model, self).__init__()\n",
    "        self.layer = GCNLayer(in_feats, out_feats)\n",
    "        # self.B = B\n",
    "\n",
    "    def forward(self, g, features, beta):\n",
    "        global gcn_output\n",
    "        n = nn.Softmax(dim=1)\n",
    "        \n",
    "        gcn_output = self.layer(g, features)\n",
    "        weight_feature = n(gcn_output)\n",
    "        W_noise = torch.div(torch.exp(weight_feature)-1, torch.exp(weight_feature)+1)*beta\n",
    "        return W_noise"
   ]
  },
  {
   "cell_type": "code",
   "execution_count": 46,
   "metadata": {},
   "outputs": [],
   "source": [
    "# clusters_number = 15\n",
    "\n",
    "class GCN_prior(nn.Module):\n",
    "    def __init__(self, A_hat, num_node, num_feat, num_cluster):\n",
    "        super(GCN_prior, self).__init__()\n",
    "        self.num_node = num_node # 特征数 f\n",
    "        self.num_feat = num_feat\n",
    "        self.num_cluster = num_cluster # 隐含数 h\n",
    "        self.A_hat = A_hat\n",
    "        self.d = torch.tensor(list(dict(G.degree()).values()), dtype=np.float).contiguous().view(-1, 1)\n",
    "        self.ddT = torch.mm(self.d, self.d.T)\n",
    "        self.B = (self.A_hat - torch.div(self.ddT, torch.norm(self.A_hat, p=1))).float()\n",
    "        self.B_norm = torch.div(self.B, torch.norm(self.A_hat, p=1))\n",
    "        self.W_0 = nn.Parameter(torch.ones(num_node, num_cluster)) # [1][f*h]\n",
    "        self.layer = GCNLayer(num_feat, num_cluster)\n",
    "\n",
    "    def forward(self, X, DG, temp, epoch): # X貌似暂时没有用到\n",
    "        global featureSelector # \n",
    "        global weight_feature # \n",
    "        # f = nn.Softmax(dim=1)\n",
    "        gcn_output = self.layer(DG, X)\n",
    "        featureSelector = self.W_0 + gcn_output # [1][f*h]\n",
    "        results = torch.zeros(self.W_0.size()) # [0][f*h]\n",
    "        x = 1*(epoch+1) # x次取平均,目测这个目的是为了稳定。\n",
    "        for i in range(x):\n",
    "            # logits --> self.W_0: [batch_size, num_features] 非规范化对数概率\n",
    "            # tau: 非负的对抗强度。\n",
    "            # hard: 如果 True, 返回的样本将会离散为 one-hot 向量\n",
    "            results += F.gumbel_softmax(featureSelector,tau=temp,hard=False)\n",
    "        weight_feature = results/x # [-][f*h]\n",
    "\n",
    "        # H = torch.mm(torch.mm(weight_feature.T, B), weight_feature) # weight_feature 就是我们要求的U\n",
    "        H = torch.mm(torch.mm(weight_feature.T, self.B_norm), weight_feature) # weight_feature 就是我们要求的U\n",
    "        Hh = torch.div(H, H.sum(axis=0)) # 按照每一列进行归一化，列为axis=0的方向。\n",
    "        m = nn.Softmax(dim=0)\n",
    "        return m(Hh)"
   ]
  },
  {
   "cell_type": "code",
   "execution_count": 50,
   "metadata": {},
   "outputs": [],
   "source": [
    "class Gumbel(nn.Module):\n",
    "    def __init__(self, A_hat, num_feat, num_hidden, W_prior):\n",
    "        super(Gumbel, self).__init__()\n",
    "        f = nn.Softmax(dim=1)\n",
    "        self.num_feat = num_feat # 特征数 f\n",
    "        self.num_hidden = num_hidden # 隐含数 h\n",
    "        self.A_hat = A_hat\n",
    "        self.d = torch.tensor(list(dict(G.degree()).values()), dtype=np.float).contiguous().view(-1, 1)\n",
    "        self.ddT = torch.mm(self.d, self.d.T)\n",
    "        self.B = (self.A_hat - torch.div(self.ddT, torch.norm(self.A_hat, p=1))).float()\n",
    "        self.B_norm = torch.div(self.B, torch.norm(self.A_hat, p=1))\n",
    "        self.W_0 = nn.Parameter(f(torch.ones(num_feat, num_hidden)+W_prior)) # [1][f*h]\n",
    "\n",
    "    def forward(self, temp, epoch): # X貌似暂时没有用到\n",
    "        global featureSelector # \n",
    "        global weight_feature # \n",
    "        featureSelector = self.W_0 # [1][f*h]\n",
    "        results = torch.zeros(self.W_0.size()) # [0][f*h]\n",
    "        x = 1*(epoch+1) # x次取平均,目测这个目的是为了稳定。\n",
    "        for i in range(x):\n",
    "            results += F.gumbel_softmax(self.W_0, tau=temp, hard=False)\n",
    "        weight_feature = results/x # [-][f*h]\n",
    "\n",
    "        H = torch.mm(torch.mm(weight_feature.T, self.B_norm), weight_feature) # weight_feature 就是我们要求的U\n",
    "        Hh = torch.div(H, H.sum(axis=0)) # 按照每一列进行归一化，列为axis=0的方向。\n",
    "        m = nn.Softmax(dim=0)\n",
    "        return m(Hh)"
   ]
  },
  {
   "cell_type": "code",
   "execution_count": 12,
   "metadata": {},
   "outputs": [],
   "source": [
    "def lossFn(output): \n",
    "    return torch.trace(-torch.log(output))"
   ]
  },
  {
   "cell_type": "markdown",
   "metadata": {},
   "source": [
    "### Prior Training"
   ]
  },
  {
   "cell_type": "code",
   "execution_count": 14,
   "metadata": {},
   "outputs": [
    {
     "name": "stderr",
     "output_type": "stream",
     "text": [
      "/opt/conda/lib/python3.7/site-packages/ipykernel_launcher.py:5: UserWarning: To copy construct from a tensor, it is recommended to use sourceTensor.clone().detach() or sourceTensor.clone().detach().requires_grad_(True), rather than torch.tensor(sourceTensor).\n",
      "  \"\"\"\n"
     ]
    }
   ],
   "source": [
    "num_node = len(G.nodes()) # f = 节点数\n",
    "num_feat = features.size()[1]\n",
    "num_cluster = clusters_number # h = 聚类数\n",
    "\n",
    "model_base = GCN_prior(torch.tensor(A).float().clone(), num_node, num_feat, num_cluster).to(device)\n",
    "\n",
    "optimizer_base = optim.Adam(model_base.parameters(),lr=1.5e-2)\n",
    "\n",
    "loss_hist = []\n",
    "modularity_hist = []\n",
    "temp = 3\n",
    "beta = 0.001\n",
    "epoch_prior_num = 500"
   ]
  },
  {
   "cell_type": "code",
   "execution_count": 15,
   "metadata": {
    "collapsed": true
   },
   "outputs": [
    {
     "name": "stderr",
     "output_type": "stream",
     "text": [
      "/opt/conda/lib/python3.7/site-packages/ipykernel_launcher.py:5: UserWarning: To copy construct from a tensor, it is recommended to use sourceTensor.clone().detach() or sourceTensor.clone().detach().requires_grad_(True), rather than torch.tensor(sourceTensor).\n",
      "  \"\"\"\n"
     ]
    },
    {
     "name": "stdout",
     "output_type": "stream",
     "text": [
      "Epoch:  0 ; Loss:  40.6209 ; Modulariy:  0.0072\n",
      "Epoch:  10 ; Loss:  40.6207 ; Modulariy:  -0.0118\n",
      "Epoch:  20 ; Loss:  40.62 ; Modulariy:  0.0121\n",
      "Epoch:  30 ; Loss:  40.6183 ; Modulariy:  0.0425\n",
      "Epoch:  40 ; Loss:  40.6137 ; Modulariy:  0.0974\n",
      "Epoch:  50 ; Loss:  40.6042 ; Modulariy:  0.175\n",
      "Epoch:  60 ; Loss:  40.5873 ; Modulariy:  0.216\n",
      "Epoch:  70 ; Loss:  40.5607 ; Modulariy:  0.2502\n",
      "Epoch:  80 ; Loss:  40.5078 ; Modulariy:  0.2693\n",
      "Epoch:  90 ; Loss:  40.4533 ; Modulariy:  0.3037\n",
      "Epoch:  100 ; Loss:  40.3468 ; Modulariy:  0.3124\n",
      "Epoch:  110 ; Loss:  40.2571 ; Modulariy:  0.3623\n",
      "Epoch:  120 ; Loss:  40.1571 ; Modulariy:  0.349\n",
      "Epoch:  130 ; Loss:  39.8511 ; Modulariy:  0.3766\n",
      "Epoch:  140 ; Loss:  39.6856 ; Modulariy:  0.4263\n",
      "Epoch:  150 ; Loss:  39.3689 ; Modulariy:  0.44\n",
      "Epoch:  160 ; Loss:  39.14 ; Modulariy:  0.4499\n",
      "Epoch:  170 ; Loss:  38.9002 ; Modulariy:  0.4574\n",
      "Epoch:  180 ; Loss:  38.1254 ; Modulariy:  0.4599\n",
      "Epoch:  190 ; Loss:  37.7417 ; Modulariy:  0.4704\n",
      "Epoch:  200 ; Loss:  37.2825 ; Modulariy:  0.4744\n",
      "Epoch:  210 ; Loss:  36.8204 ; Modulariy:  0.4814\n",
      "Epoch:  220 ; Loss:  36.3751 ; Modulariy:  0.4881\n",
      "Epoch:  230 ; Loss:  35.9395 ; Modulariy:  0.4893\n",
      "Epoch:  240 ; Loss:  35.5486 ; Modulariy:  0.4904\n",
      "Epoch:  250 ; Loss:  34.9076 ; Modulariy:  0.494\n",
      "Epoch:  260 ; Loss:  34.6976 ; Modulariy:  0.4942\n",
      "Epoch:  270 ; Loss:  34.5406 ; Modulariy:  0.4931\n",
      "Epoch:  280 ; Loss:  34.398 ; Modulariy:  0.4942\n",
      "Epoch:  290 ; Loss:  34.2768 ; Modulariy:  0.4958\n",
      "Epoch:  300 ; Loss:  34.0671 ; Modulariy:  0.4933\n",
      "Epoch:  310 ; Loss:  33.9989 ; Modulariy:  0.4934\n",
      "Epoch:  320 ; Loss:  33.876 ; Modulariy:  0.493\n",
      "Epoch:  330 ; Loss:  33.7578 ; Modulariy:  0.4946\n",
      "Epoch:  340 ; Loss:  33.6774 ; Modulariy:  0.4952\n",
      "Epoch:  350 ; Loss:  33.6072 ; Modulariy:  0.4951\n",
      "Epoch:  360 ; Loss:  33.5075 ; Modulariy:  0.4943\n",
      "Epoch:  370 ; Loss:  33.4325 ; Modulariy:  0.4947\n",
      "Epoch:  380 ; Loss:  33.379 ; Modulariy:  0.4964\n",
      "Epoch:  390 ; Loss:  33.3356 ; Modulariy:  0.497\n",
      "Epoch:  400 ; Loss:  33.2809 ; Modulariy:  0.4975\n",
      "Epoch:  410 ; Loss:  33.2587 ; Modulariy:  0.4978\n",
      "Epoch:  420 ; Loss:  33.2377 ; Modulariy:  0.4975\n",
      "Epoch:  430 ; Loss:  33.2196 ; Modulariy:  0.4978\n",
      "Epoch:  440 ; Loss:  33.2108 ; Modulariy:  0.4983\n",
      "Epoch:  450 ; Loss:  33.198 ; Modulariy:  0.4985\n",
      "Epoch:  460 ; Loss:  33.194 ; Modulariy:  0.4988\n",
      "Epoch:  470 ; Loss:  33.1804 ; Modulariy:  0.4988\n",
      "Epoch:  480 ; Loss:  33.17 ; Modulariy:  0.499\n",
      "Epoch:  490 ; Loss:  33.1613 ; Modulariy:  0.4989\n"
     ]
    }
   ],
   "source": [
    "for epoch in range(epoch_prior_num):\n",
    "    model_base.train()\n",
    "    model_base.zero_grad()\n",
    "    if(epoch == 75):\n",
    "        temp = 2.75\n",
    "    elif(epoch == 100):\n",
    "        temp = 2.5\n",
    "    elif(epoch == 125):\n",
    "        temp = 2\n",
    "    elif(epoch == 150):\n",
    "        temp = 1.8\n",
    "    elif(epoch == 175):\n",
    "        temp = 1.25\n",
    "    elif(epoch == 250):\n",
    "        temp = 1.00\n",
    "    elif(epoch == 300):\n",
    "        temp = 0.75\n",
    "    elif(epoch == 320):\n",
    "        temp = 0.50\n",
    "    elif(epoch == 400):\n",
    "        temp = 0.20\n",
    "    output = model_base(features, DG1, temp, epoch)\n",
    "    ###############################################\n",
    "    loss = lossFn(output)\n",
    "    loss_hist.append(loss.item())\n",
    "    ###############################################\n",
    "    if epoch%20==0: \n",
    "        gumbel_matrix = weight_feature.detach().max(dim=1)[1] # 每个节点的标签组成的tensor\n",
    "        labels_pred = gumbel_matrix.data.numpy()\n",
    "        modu = community.modularity(dict(zip(list(range(len(labels_pred))), labels_pred)), G, weight='weight')\n",
    "        modularity_hist.append(modu)\n",
    "        print('Epoch: ', epoch, '; Loss: ', round(loss.item(), 4), '; Modulariy: ', round(modu, 4))\n",
    "    loss.backward()\n",
    "    optimizer_base.step()\n",
    "    \n",
    "gumbel_matrix = weight_feature.detach().max(dim=1)[1] # 每个节点的标签组成的tensor\n",
    "labels_pred = gumbel_matrix.data.numpy()\n",
    "modu = community.modularity(dict(zip(list(range(len(labels_pred))), labels_pred)), G, weight='weight')\n",
    "modularity_hist.append(modu)\n",
    "print('Epoch: ', epoch, '; Loss: ', round(loss.item(), 4), '; Modulariy: ', round(modu, 4))"
   ]
  },
  {
   "cell_type": "code",
   "execution_count": 16,
   "metadata": {},
   "outputs": [],
   "source": [
    "partition = weight_feature.detach().max(dim=1)[1].data.numpy()\n",
    "partition = dict(zip(range(len(partition)), partition))\n",
    "\n",
    "alpha = 2\n",
    "W_prior = np.zeros((bs_num, clusters_number))\n",
    "for key, value in partition.items():\n",
    "    try:\n",
    "        W_prior[key, value] = alpha\n",
    "    except:\n",
    "        pass"
   ]
  },
  {
   "cell_type": "markdown",
   "metadata": {},
   "source": [
    "### Partition Process"
   ]
  },
  {
   "cell_type": "code",
   "execution_count": null,
   "metadata": {},
   "outputs": [],
   "source": [
    "model = Gumbel(torch.tensor(A).float().clone(), num_node, num_cluster, torch.tensor(W_prior).float().clone()).to(device)\n",
    "\n",
    "loss_hist = []\n",
    "modularity_hist = []\n",
    "temp = 3"
   ]
  },
  {
   "cell_type": "code",
   "execution_count": 59,
   "metadata": {
    "scrolled": true
   },
   "outputs": [
    {
     "name": "stdout",
     "output_type": "stream",
     "text": [
      "Epoch:  0 ; Loss:  31.9195 ; Modulariy:  0.5488\n",
      "Epoch:  10 ; Loss:  31.9195 ; Modulariy:  0.5488\n",
      "Epoch:  20 ; Loss:  31.9195 ; Modulariy:  0.5488\n",
      "Epoch:  30 ; Loss:  31.9195 ; Modulariy:  0.5488\n"
     ]
    },
    {
     "ename": "KeyboardInterrupt",
     "evalue": "",
     "output_type": "error",
     "traceback": [
      "\u001b[0;31m---------------------------------------------------------------------------\u001b[0m",
      "\u001b[0;31mKeyboardInterrupt\u001b[0m                         Traceback (most recent call last)",
      "\u001b[0;32m<ipython-input-59-583247f02e08>\u001b[0m in \u001b[0;36m<module>\u001b[0;34m\u001b[0m\n\u001b[1;32m     22\u001b[0m     \u001b[0;32melif\u001b[0m\u001b[0;34m(\u001b[0m\u001b[0mepoch\u001b[0m \u001b[0;34m==\u001b[0m \u001b[0;36m400\u001b[0m\u001b[0;34m)\u001b[0m\u001b[0;34m:\u001b[0m\u001b[0;34m\u001b[0m\u001b[0;34m\u001b[0m\u001b[0m\n\u001b[1;32m     23\u001b[0m         \u001b[0mtemp\u001b[0m \u001b[0;34m=\u001b[0m \u001b[0;36m0.20\u001b[0m\u001b[0;34m\u001b[0m\u001b[0;34m\u001b[0m\u001b[0m\n\u001b[0;32m---> 24\u001b[0;31m     \u001b[0moutput\u001b[0m \u001b[0;34m=\u001b[0m \u001b[0mmodel\u001b[0m\u001b[0;34m(\u001b[0m\u001b[0mtemp\u001b[0m\u001b[0;34m,\u001b[0m \u001b[0mepoch\u001b[0m\u001b[0;34m)\u001b[0m\u001b[0;34m\u001b[0m\u001b[0;34m\u001b[0m\u001b[0m\n\u001b[0m\u001b[1;32m     25\u001b[0m     \u001b[0;31m############################################\u001b[0m\u001b[0;34m\u001b[0m\u001b[0;34m\u001b[0m\u001b[0;34m\u001b[0m\u001b[0m\n\u001b[1;32m     26\u001b[0m     \u001b[0mloss\u001b[0m \u001b[0;34m=\u001b[0m \u001b[0mlossFn\u001b[0m\u001b[0;34m(\u001b[0m\u001b[0moutput\u001b[0m\u001b[0;34m)\u001b[0m\u001b[0;34m\u001b[0m\u001b[0;34m\u001b[0m\u001b[0m\n",
      "\u001b[0;32m/opt/conda/lib/python3.7/site-packages/torch/nn/modules/module.py\u001b[0m in \u001b[0;36m__call__\u001b[0;34m(self, *input, **kwargs)\u001b[0m\n\u001b[1;32m    548\u001b[0m             \u001b[0mresult\u001b[0m \u001b[0;34m=\u001b[0m \u001b[0mself\u001b[0m\u001b[0;34m.\u001b[0m\u001b[0m_slow_forward\u001b[0m\u001b[0;34m(\u001b[0m\u001b[0;34m*\u001b[0m\u001b[0minput\u001b[0m\u001b[0;34m,\u001b[0m \u001b[0;34m**\u001b[0m\u001b[0mkwargs\u001b[0m\u001b[0;34m)\u001b[0m\u001b[0;34m\u001b[0m\u001b[0;34m\u001b[0m\u001b[0m\n\u001b[1;32m    549\u001b[0m         \u001b[0;32melse\u001b[0m\u001b[0;34m:\u001b[0m\u001b[0;34m\u001b[0m\u001b[0;34m\u001b[0m\u001b[0m\n\u001b[0;32m--> 550\u001b[0;31m             \u001b[0mresult\u001b[0m \u001b[0;34m=\u001b[0m \u001b[0mself\u001b[0m\u001b[0;34m.\u001b[0m\u001b[0mforward\u001b[0m\u001b[0;34m(\u001b[0m\u001b[0;34m*\u001b[0m\u001b[0minput\u001b[0m\u001b[0;34m,\u001b[0m \u001b[0;34m**\u001b[0m\u001b[0mkwargs\u001b[0m\u001b[0;34m)\u001b[0m\u001b[0;34m\u001b[0m\u001b[0;34m\u001b[0m\u001b[0m\n\u001b[0m\u001b[1;32m    551\u001b[0m         \u001b[0;32mfor\u001b[0m \u001b[0mhook\u001b[0m \u001b[0;32min\u001b[0m \u001b[0mself\u001b[0m\u001b[0;34m.\u001b[0m\u001b[0m_forward_hooks\u001b[0m\u001b[0;34m.\u001b[0m\u001b[0mvalues\u001b[0m\u001b[0;34m(\u001b[0m\u001b[0;34m)\u001b[0m\u001b[0;34m:\u001b[0m\u001b[0;34m\u001b[0m\u001b[0;34m\u001b[0m\u001b[0m\n\u001b[1;32m    552\u001b[0m             \u001b[0mhook_result\u001b[0m \u001b[0;34m=\u001b[0m \u001b[0mhook\u001b[0m\u001b[0;34m(\u001b[0m\u001b[0mself\u001b[0m\u001b[0;34m,\u001b[0m \u001b[0minput\u001b[0m\u001b[0;34m,\u001b[0m \u001b[0mresult\u001b[0m\u001b[0;34m)\u001b[0m\u001b[0;34m\u001b[0m\u001b[0;34m\u001b[0m\u001b[0m\n",
      "\u001b[0;32m<ipython-input-41-10c2afc78ec4>\u001b[0m in \u001b[0;36mforward\u001b[0;34m(self, temp, epoch)\u001b[0m\n\u001b[1;32m     19\u001b[0m         \u001b[0mx\u001b[0m \u001b[0;34m=\u001b[0m \u001b[0;36m1\u001b[0m\u001b[0;34m*\u001b[0m\u001b[0;34m(\u001b[0m\u001b[0mepoch\u001b[0m\u001b[0;34m+\u001b[0m\u001b[0;36m1\u001b[0m\u001b[0;34m)\u001b[0m\u001b[0;34m+\u001b[0m\u001b[0;36m23\u001b[0m \u001b[0;31m# x次取平均,目测这个目的是为了稳定。\u001b[0m\u001b[0;34m\u001b[0m\u001b[0;34m\u001b[0m\u001b[0m\n\u001b[1;32m     20\u001b[0m         \u001b[0;32mfor\u001b[0m \u001b[0mi\u001b[0m \u001b[0;32min\u001b[0m \u001b[0mrange\u001b[0m\u001b[0;34m(\u001b[0m\u001b[0mx\u001b[0m\u001b[0;34m)\u001b[0m\u001b[0;34m:\u001b[0m\u001b[0;34m\u001b[0m\u001b[0;34m\u001b[0m\u001b[0m\n\u001b[0;32m---> 21\u001b[0;31m             \u001b[0mresults\u001b[0m \u001b[0;34m+=\u001b[0m \u001b[0mF\u001b[0m\u001b[0;34m.\u001b[0m\u001b[0mgumbel_softmax\u001b[0m\u001b[0;34m(\u001b[0m\u001b[0mself\u001b[0m\u001b[0;34m.\u001b[0m\u001b[0mW_0\u001b[0m\u001b[0;34m,\u001b[0m \u001b[0mtau\u001b[0m\u001b[0;34m=\u001b[0m\u001b[0mtemp\u001b[0m\u001b[0;34m,\u001b[0m \u001b[0mhard\u001b[0m\u001b[0;34m=\u001b[0m\u001b[0;32mTrue\u001b[0m\u001b[0;34m)\u001b[0m\u001b[0;34m\u001b[0m\u001b[0;34m\u001b[0m\u001b[0m\n\u001b[0m\u001b[1;32m     22\u001b[0m         \u001b[0mweight_feature\u001b[0m \u001b[0;34m=\u001b[0m \u001b[0mresults\u001b[0m\u001b[0;34m/\u001b[0m\u001b[0mx\u001b[0m \u001b[0;31m# [-][f*h]\u001b[0m\u001b[0;34m\u001b[0m\u001b[0;34m\u001b[0m\u001b[0m\n\u001b[1;32m     23\u001b[0m \u001b[0;34m\u001b[0m\u001b[0m\n",
      "\u001b[0;31mKeyboardInterrupt\u001b[0m: "
     ]
    }
   ],
   "source": [
    "optimizer = optim.Adam(model.parameters(),lr=1e-2)\n",
    "\n",
    "for epoch in range(350):\n",
    "    model.train()\n",
    "    model.zero_grad()\n",
    "    if(epoch == 75):\n",
    "        temp = 2.75\n",
    "    elif(epoch == 100):\n",
    "        temp = 2.5\n",
    "    elif(epoch == 125):\n",
    "        temp = 2\n",
    "    elif(epoch == 150):\n",
    "        temp = 1.8\n",
    "    elif(epoch == 175):\n",
    "        temp = 1.25\n",
    "    elif(epoch == 250):\n",
    "        temp = 1.00\n",
    "    elif(epoch == 300):\n",
    "        temp = 0.75\n",
    "    elif(epoch == 320):\n",
    "        temp = 0.50\n",
    "    elif(epoch == 400):\n",
    "        temp = 0.20\n",
    "    output = model(temp, epoch)\n",
    "    ############################################\n",
    "    loss = lossFn(output)\n",
    "    loss_hist.append(loss.item())\n",
    "    ############################################\n",
    "\n",
    "    \n",
    "    if epoch%10==0: \n",
    "        gumbel_matrix = weight_feature.detach().max(dim=1)[1] # 每个节点的标签组成的tensor\n",
    "        labels_pred = gumbel_matrix.data.numpy()\n",
    "        modu = community.modularity(dict(zip(list(range(len(labels_pred))), labels_pred)), G, weight='weight')\n",
    "        modularity_hist.append(modu)\n",
    "        print('Epoch: ', epoch, '; Loss: ', round(loss.item(), 4), '; Modulariy: ', round(modu, 4))\n",
    "    loss.backward()\n",
    "    optimizer.step()\n",
    "    \n",
    "gumbel_matrix = weight_feature.detach().max(dim=1)[1] # 每个节点的标签组成的tensor\n",
    "labels_pred = gumbel_matrix.data.numpy()\n",
    "modu = community.modularity(dict(zip(list(range(len(labels_pred))), labels_pred)), G, weight='weight')\n",
    "modularity_hist.append(modu)\n",
    "print('Epoch: ', epoch, '; Loss: ', round(loss.item(), 4), '; Modulariy: ', round(modu, 4))"
   ]
  },
  {
   "cell_type": "code",
   "execution_count": 33,
   "metadata": {},
   "outputs": [],
   "source": [
    "partition = weight_feature.detach().max(dim=1)[1].data.numpy()\n",
    "partition = dict(zip(range(len(partition)), partition))\n",
    "\n",
    "alpha = 2\n",
    "W_prior = np.zeros((bs_num, clusters_number))\n",
    "for key, value in partition.items():\n",
    "    try:\n",
    "        W_prior[key, value] = alpha\n",
    "    except:\n",
    "        pass"
   ]
  },
  {
   "cell_type": "code",
   "execution_count": 160,
   "metadata": {},
   "outputs": [
    {
     "data": {
      "image/png": "[encoded data removed]",
      "text/plain": [
       "<Figure size 1440x432 with 2 Axes>"
      ]
     },
     "metadata": {
      "needs_background": "light"
     },
     "output_type": "display_data"
    },
    {
     "name": "stdout",
     "output_type": "stream",
     "text": [
      "torch.Size([2000, 15])\n"
     ]
    },
    {
     "data": {
      "image/png": "[encoded data removed]",
      "text/plain": [
       "<Figure size 720x720 with 1 Axes>"
      ]
     },
     "metadata": {},
     "output_type": "display_data"
    },
    {
     "name": "stdout",
     "output_type": "stream",
     "text": [
      "0.5569713287950876\n"
     ]
    }
   ],
   "source": [
    "plt.figure(figsize=(20, 6))\n",
    "plt.subplot(1, 2, 1)\n",
    "plt.plot(loss_hist, color='red')\n",
    "plt.grid(True)\n",
    "plt.subplot(1, 2, 2)\n",
    "plt.plot(modularity_hist, color='blue')\n",
    "plt.grid(True)\n",
    "plt.show()\n",
    "\n",
    "print(weight_feature.detach().size())\n",
    "gumbel_matrix = weight_feature.detach().max(dim=1)[1] # 每个节点的标签组成的tensor\n",
    "labels_pred = gumbel_matrix.data.numpy()\n",
    "pos = nx.spring_layout(G)\n",
    "plt.figure(figsize=(10, 10))\n",
    "plt.axis('off')\n",
    "nx.draw_networkx(G, pos=pos, node_size=100, node_color=\"r\", with_labels=False)\n",
    "options = {\n",
    "    'node_color': 'red',\n",
    "    'node_size': 10,\n",
    "    'line_color': 'grey',\n",
    "    'linewidths': 0,\n",
    "    'width': 0.1,\n",
    "}\n",
    "plt.show()\n",
    "\n",
    "print(max(modularity_hist))"
   ]
  },
  {
   "cell_type": "code",
   "execution_count": null,
   "metadata": {},
   "outputs": [],
   "source": []
  }
 ],
 "metadata": {
  "kernelspec": {
   "display_name": "Python 3",
   "language": "python",
   "name": "python3"
  },
  "language_info": {
   "codemirror_mode": {
    "name": "ipython",
    "version": 3
   },
   "file_extension": ".py",
   "mimetype": "text/x-python",
   "name": "python",
   "nbconvert_exporter": "python",
   "pygments_lexer": "ipython3",
   "version": "3.7.7"
  }
 },
 "nbformat": 4,
 "nbformat_minor": 2
}
