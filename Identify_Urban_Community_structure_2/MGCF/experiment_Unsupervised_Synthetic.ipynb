{
 "cells": [
  {
   "cell_type": "code",
   "execution_count": 1,
   "metadata": {},
   "outputs": [],
   "source": [
    "import random\n",
    "import networkx as nx\n",
    "import numpy as np\n",
    "import karateclub\n",
    "from tkinter import _flatten\n",
    "import community\n",
    "import MGCF"
   ]
  },
  {
   "cell_type": "markdown",
   "metadata": {},
   "source": [
    "### 1. Generate $K$ and $M$"
   ]
  },
  {
   "cell_type": "code",
   "execution_count": 66,
   "metadata": {},
   "outputs": [
    {
     "name": "stdout",
     "output_type": "stream",
     "text": [
      "10\n"
     ]
    }
   ],
   "source": [
    "K = random.randint(5, 10)\n",
    "M = random.randint(1, 100)\n",
    "print(K)"
   ]
  },
  {
   "cell_type": "markdown",
   "metadata": {},
   "source": [
    "### 2. Gnerate Nodes"
   ]
  },
  {
   "cell_type": "code",
   "execution_count": 67,
   "metadata": {
    "scrolled": false
   },
   "outputs": [
    {
     "name": "stdout",
     "output_type": "stream",
     "text": [
      "节点总数 300\n"
     ]
    }
   ],
   "source": [
    "average_cluster_size = random.randint(20, 40)\n",
    "\n",
    "center_x_list = []\n",
    "center_y_list = []\n",
    "for i in range(K):\n",
    "    center_x_list.append(round(10*random.random(), 4))\n",
    "    center_y_list.append(round(10*random.random(), 4))\n",
    "node_groundtruth = {}\n",
    "node_location = {}\n",
    "idx = 0\n",
    "for i in range(K):\n",
    "    for j in range(average_cluster_size):\n",
    "        node_groundtruth[idx] = i\n",
    "        node_location[idx] = [center_x_list[i] + round(random.gauss(0, 1), 4), center_y_list[i] + round(random.gauss(0, 1), 4)]\n",
    "        idx = idx + 1\n",
    "N = len(node_groundtruth)\n",
    "print('节点总数', N)\n",
    "G = nx.Graph()\n",
    "G.add_nodes_from(list(range(N)))\n",
    "\n",
    "# ground_truth = {}\n",
    "# for k, v in node_groundtruth.items():\n",
    "#     if v not in ground_truth:\n",
    "#         ground_truth[v] = [k]\n",
    "#     else:\n",
    "#         ground_truth[v].append(k)"
   ]
  },
  {
   "cell_type": "markdown",
   "metadata": {},
   "source": [
    "### 3. k-nearest neighborhood"
   ]
  },
  {
   "cell_type": "code",
   "execution_count": 68,
   "metadata": {},
   "outputs": [
    {
     "data": {
      "text/plain": [
       "<networkx.classes.graph.Graph at 0x7ff1c5514050>"
      ]
     },
     "execution_count": 68,
     "metadata": {},
     "output_type": "execute_result"
    }
   ],
   "source": [
    "loc_np = np.array(list(node_location.values()))\n",
    "x_np = loc_np[:, 0].reshape((1, -1))\n",
    "y_np = loc_np[:, 1].reshape((1, -1))\n",
    "distance_np = np.square(x_np - x_np.T)+np.square(y_np - y_np.T)\n",
    "k_nearest = {}\n",
    "k = int(average_cluster_size/2)\n",
    "for i in range(N):\n",
    "    k_near_pre = list(np.argsort(distance_np[i])[:k+1:])\n",
    "    k_near_pre.remove(i)\n",
    "    k_nearest[i] = k_near_pre\n",
    "for i in range(N):\n",
    "    for j in k_nearest[i]:\n",
    "        G.add_edge(i, j, weight = np.exp(-1/2*distance_np[i, j]))\n",
    "        \n",
    "G.to_undirected()"
   ]
  },
  {
   "cell_type": "markdown",
   "metadata": {},
   "source": [
    "### 4. Generate $f_{k, m}$"
   ]
  },
  {
   "cell_type": "code",
   "execution_count": 69,
   "metadata": {},
   "outputs": [
    {
     "name": "stdout",
     "output_type": "stream",
     "text": [
      "30\n"
     ]
    }
   ],
   "source": [
    "omega = 1/K*np.ones(K)\n",
    "beta = 1/M*np.ones(M)\n",
    "F = omega.reshape((1, -1))*beta.reshape((-1, 1))\n",
    "F = F*K*M\n",
    "# F [M, K]\n",
    "print(average_cluster_size)"
   ]
  },
  {
   "cell_type": "markdown",
   "metadata": {},
   "source": [
    "### 5. Allocate for $X$"
   ]
  },
  {
   "cell_type": "code",
   "execution_count": 70,
   "metadata": {},
   "outputs": [],
   "source": [
    "X = np.zeros((N, M))\n",
    "for i in range(M):\n",
    "    for j in range(K):\n",
    "        tmp = np.random.dirichlet(np.ones(average_cluster_size), size=1)*F[i, j]\n",
    "        X[j*average_cluster_size:(j+1)*average_cluster_size:, i] = tmp"
   ]
  },
  {
   "cell_type": "markdown",
   "metadata": {},
   "source": [
    "### 6. for Algorithm Process & Evaluation"
   ]
  },
  {
   "cell_type": "code",
   "execution_count": 71,
   "metadata": {},
   "outputs": [
    {
     "name": "stdout",
     "output_type": "stream",
     "text": [
      "0.757\n",
      "0.092\n"
     ]
    }
   ],
   "source": [
    "# 1. DANMF\n",
    "\n",
    "model1 = karateclub.DANMF()\n",
    "model1.fit(G)\n",
    "cluster_membership = model1.get_memberships()\n",
    "clusters = cluster_membership\n",
    "labels_pred = list(_flatten(list(clusters.values())))\n",
    "partition = dict(zip(list(range(len(labels_pred))), labels_pred))\n",
    "partition_2 = {}\n",
    "for i in range(len(labels_pred)):\n",
    "    if labels_pred[i] not in partition_2:\n",
    "        partition_2[labels_pred[i]] = [i]\n",
    "    else:\n",
    "        partition_2[labels_pred[i]].append(i)\n",
    "        \n",
    "cn = len(partition_2)\n",
    "U = np.zeros((cn, N))\n",
    "for k, v in partition.items():\n",
    "    U[v, k] = 1\n",
    "    \n",
    "print(round(community.modularity(partition, G, weight='weight'), 3))\n",
    "print(round(np.sqrt(np.sum(np.square(np.dot(np.dot(U, X), beta) / np.sum(np.dot(np.dot(U, X), beta))  - np.ones(cn)/cn))), 3))"
   ]
  },
  {
   "cell_type": "code",
   "execution_count": 72,
   "metadata": {},
   "outputs": [
    {
     "name": "stdout",
     "output_type": "stream",
     "text": [
      "0.616\n",
      "0.197\n"
     ]
    }
   ],
   "source": [
    "# 2. NNSED\n",
    "\n",
    "model1 = karateclub.NNSED(dimensions=K)\n",
    "model1.fit(G)\n",
    "cluster_membership = model1.get_memberships()\n",
    "clusters = cluster_membership\n",
    "labels_pred = list(_flatten(list(clusters.values())))\n",
    "partition = dict(zip(list(range(len(labels_pred))), labels_pred))\n",
    "partition_2 = {}\n",
    "for i in range(len(labels_pred)):\n",
    "    if labels_pred[i] not in partition_2:\n",
    "        partition_2[labels_pred[i]] = [i]\n",
    "    else:\n",
    "        partition_2[labels_pred[i]].append(i)\n",
    "        \n",
    "cn = len(partition_2)\n",
    "U = np.zeros((cn, N))\n",
    "for k, v in partition.items():\n",
    "    U[v, k] = 1\n",
    "    \n",
    "print(round(community.modularity(partition, G, weight='weight'), 3))\n",
    "print(round(np.sqrt(np.sum(np.square(np.dot(np.dot(U, X), beta) / np.sum(np.dot(np.dot(U, X), beta))  - np.ones(cn)/cn))), 3))"
   ]
  },
  {
   "cell_type": "code",
   "execution_count": 73,
   "metadata": {},
   "outputs": [
    {
     "name": "stdout",
     "output_type": "stream",
     "text": [
      "0.748\n",
      "0.044\n"
     ]
    }
   ],
   "source": [
    "# 3. MNMF\n",
    "\n",
    "model1 = karateclub.MNMF(clusters=K)\n",
    "model1.fit(G)\n",
    "cluster_membership = model1.get_memberships()\n",
    "clusters = cluster_membership\n",
    "labels_pred = list(_flatten(list(clusters.values())))\n",
    "\n",
    "remap = list(set(labels_pred))\n",
    "for i in range(len(labels_pred)):\n",
    "    labels_pred[i] = remap.index(labels_pred[i])\n",
    "\n",
    "partition = dict(zip(list(range(len(labels_pred))), labels_pred))\n",
    "partition_2 = {}\n",
    "for i in range(len(labels_pred)):\n",
    "    if labels_pred[i] not in partition_2:\n",
    "        partition_2[labels_pred[i]] = [i]\n",
    "    else:\n",
    "        partition_2[labels_pred[i]].append(i)\n",
    "        \n",
    "cn = len(partition_2)\n",
    "U = np.zeros((cn, N))\n",
    "for k, v in partition.items():\n",
    "    U[v, k] = 1\n",
    "    \n",
    "print(round(community.modularity(partition, G, weight='weight'), 3))\n",
    "print(round(np.sqrt(np.sum(np.square(np.dot(np.dot(U, X), beta) / np.sum(np.dot(np.dot(U, X), beta))  - np.ones(cn)/cn))), 3))"
   ]
  },
  {
   "cell_type": "code",
   "execution_count": 80,
   "metadata": {},
   "outputs": [
    {
     "name": "stdout",
     "output_type": "stream",
     "text": [
      "0.427\n",
      "0.265\n"
     ]
    }
   ],
   "source": [
    "# 4. BigClam\n",
    "\n",
    "model1 = karateclub.BigClam(dimensions=K)\n",
    "model1.fit(G)\n",
    "cluster_membership = model1.get_memberships()\n",
    "clusters = cluster_membership\n",
    "labels_pred = list(_flatten(list(clusters.values())))\n",
    "\n",
    "remap = list(set(labels_pred))\n",
    "for i in range(len(labels_pred)):\n",
    "    labels_pred[i] = remap.index(labels_pred[i])\n",
    "\n",
    "partition = dict(zip(list(range(len(labels_pred))), labels_pred))\n",
    "partition_2 = {}\n",
    "for i in range(len(labels_pred)):\n",
    "    if labels_pred[i] not in partition_2:\n",
    "        partition_2[labels_pred[i]] = [i]\n",
    "    else:\n",
    "        partition_2[labels_pred[i]].append(i)\n",
    "        \n",
    "cn = len(partition_2)\n",
    "U = np.zeros((cn, N))\n",
    "for k, v in partition.items():\n",
    "    U[v, k] = 1\n",
    "    \n",
    "print(round(community.modularity(partition, G, weight='weight'), 3))\n",
    "print(round(np.sqrt(np.sum(np.square(np.dot(np.dot(U, X), beta) / np.sum(np.dot(np.dot(U, X), beta))  - np.ones(cn)/cn))), 3))"
   ]
  },
  {
   "cell_type": "code",
   "execution_count": 81,
   "metadata": {},
   "outputs": [
    {
     "name": "stdout",
     "output_type": "stream",
     "text": [
      "0.122\n",
      "0.071\n"
     ]
    }
   ],
   "source": [
    "# 5. SNMF\n",
    "\n",
    "model1 = karateclub.SymmNMF(dimensions=K)\n",
    "model1.fit(G)\n",
    "cluster_membership = model1.get_memberships()\n",
    "clusters = cluster_membership\n",
    "labels_pred = list(_flatten(list(clusters.values())))\n",
    "\n",
    "remap = list(set(labels_pred))\n",
    "for i in range(len(labels_pred)):\n",
    "    labels_pred[i] = remap.index(labels_pred[i])\n",
    "\n",
    "partition = dict(zip(list(range(len(labels_pred))), labels_pred))\n",
    "partition_2 = {}\n",
    "for i in range(len(labels_pred)):\n",
    "    if labels_pred[i] not in partition_2:\n",
    "        partition_2[labels_pred[i]] = [i]\n",
    "    else:\n",
    "        partition_2[labels_pred[i]].append(i)\n",
    "        \n",
    "cn = len(partition_2)\n",
    "U = np.zeros((cn, N))\n",
    "for k, v in partition.items():\n",
    "    U[v, k] = 1\n",
    "    \n",
    "print(round(community.modularity(partition, G, weight='weight'), 3))\n",
    "print(round(np.sqrt(np.sum(np.square(np.dot(np.dot(U, X), beta) / np.sum(np.dot(np.dot(U, X), beta))  - np.ones(cn)/cn))), 3))"
   ]
  },
  {
   "cell_type": "code",
   "execution_count": 82,
   "metadata": {},
   "outputs": [
    {
     "name": "stdout",
     "output_type": "stream",
     "text": [
      "0.713\n",
      "0.098\n"
     ]
    }
   ],
   "source": [
    "# 6. GEMSEC\n",
    "\n",
    "model1 = karateclub.GEMSEC(dimensions=K)\n",
    "model1.fit(G)\n",
    "cluster_membership = model1.get_memberships()\n",
    "clusters = cluster_membership\n",
    "labels_pred = list(_flatten(list(clusters.values())))\n",
    "\n",
    "remap = list(set(labels_pred))\n",
    "for i in range(len(labels_pred)):\n",
    "    labels_pred[i] = remap.index(labels_pred[i])\n",
    "\n",
    "partition = dict(zip(list(range(len(labels_pred))), labels_pred))\n",
    "partition_2 = {}\n",
    "for i in range(len(labels_pred)):\n",
    "    if labels_pred[i] not in partition_2:\n",
    "        partition_2[labels_pred[i]] = [i]\n",
    "    else:\n",
    "        partition_2[labels_pred[i]].append(i)\n",
    "        \n",
    "cn = len(partition_2)\n",
    "U = np.zeros((cn, N))\n",
    "for k, v in partition.items():\n",
    "    U[v, k] = 1\n",
    "    \n",
    "print(round(community.modularity(partition, G, weight='weight'), 3))\n",
    "print(round(np.sqrt(np.sum(np.square(np.dot(np.dot(U, X), beta) / np.sum(np.dot(np.dot(U, X), beta))  - np.ones(cn)/cn))), 3))"
   ]
  },
  {
   "cell_type": "code",
   "execution_count": 83,
   "metadata": {},
   "outputs": [
    {
     "name": "stdout",
     "output_type": "stream",
     "text": [
      "0.664\n",
      "0.075\n"
     ]
    }
   ],
   "source": [
    "# 7. SCD\n",
    "\n",
    "model1 = karateclub.SCD()\n",
    "model1.fit(G)\n",
    "cluster_membership = model1.get_memberships()\n",
    "clusters = cluster_membership\n",
    "labels_pred = list(_flatten(list(clusters.values())))\n",
    "\n",
    "remap = list(set(labels_pred))\n",
    "for i in range(len(labels_pred)):\n",
    "    labels_pred[i] = remap.index(labels_pred[i])\n",
    "\n",
    "partition = dict(zip(list(range(len(labels_pred))), labels_pred))\n",
    "partition_2 = {}\n",
    "for i in range(len(labels_pred)):\n",
    "    if labels_pred[i] not in partition_2:\n",
    "        partition_2[labels_pred[i]] = [i]\n",
    "    else:\n",
    "        partition_2[labels_pred[i]].append(i)\n",
    "        \n",
    "cn = len(partition_2)\n",
    "U = np.zeros((cn, N))\n",
    "for k, v in partition.items():\n",
    "    U[v, k] = 1\n",
    "    \n",
    "print(round(community.modularity(partition, G, weight='weight'), 3))\n",
    "print(round(np.sqrt(np.sum(np.square(np.dot(np.dot(U, X), beta) / np.sum(np.dot(np.dot(U, X), beta))  - np.ones(cn)/cn))), 3))"
   ]
  },
  {
   "cell_type": "code",
   "execution_count": 84,
   "metadata": {},
   "outputs": [
    {
     "name": "stdout",
     "output_type": "stream",
     "text": [
      "0.015\n",
      "0.121\n"
     ]
    }
   ],
   "source": [
    "# 8. LPA\n",
    "\n",
    "model1 = karateclub.LabelPropagation(seed=10, iterations=100)\n",
    "model1.fit(G)\n",
    "cluster_membership = model1.get_memberships()\n",
    "clusters = cluster_membership\n",
    "labels_pred = list(_flatten(list(clusters.values())))\n",
    "\n",
    "remap = list(set(labels_pred))\n",
    "for i in range(len(labels_pred)):\n",
    "    labels_pred[i] = remap.index(labels_pred[i])\n",
    "\n",
    "partition = dict(zip(list(range(len(labels_pred))), labels_pred))\n",
    "partition_2 = {}\n",
    "for i in range(len(labels_pred)):\n",
    "    if labels_pred[i] not in partition_2:\n",
    "        partition_2[labels_pred[i]] = [i]\n",
    "    else:\n",
    "        partition_2[labels_pred[i]].append(i)\n",
    "        \n",
    "cn = len(partition_2)\n",
    "U = np.zeros((cn, N))\n",
    "for k, v in partition.items():\n",
    "    U[v, k] = 1\n",
    "    \n",
    "print(round(community.modularity(partition, G, weight='weight'), 3))\n",
    "print(round(np.sqrt(np.sum(np.square(np.dot(np.dot(U, X), beta) / np.sum(np.dot(np.dot(U, X), beta))  - np.ones(cn)/cn))), 3))"
   ]
  },
  {
   "cell_type": "code",
   "execution_count": 85,
   "metadata": {},
   "outputs": [
    {
     "name": "stdout",
     "output_type": "stream",
     "text": [
      "0.771\n",
      "0.073\n"
     ]
    }
   ],
   "source": [
    "# 9. Louvain\n",
    "\n",
    "partition = community.best_partition(G, weight='weight')\n",
    "labels_pred = partition\n",
    "partition_2 = {}\n",
    "for i in range(len(labels_pred)):\n",
    "    if labels_pred[i] not in partition_2:\n",
    "        partition_2[labels_pred[i]] = [i]\n",
    "    else:\n",
    "        partition_2[labels_pred[i]].append(i)\n",
    "        \n",
    "cn = len(partition_2)\n",
    "U = np.zeros((cn, N))\n",
    "for k, v in partition.items():\n",
    "    U[v, k] = 1\n",
    "    \n",
    "print(round(community.modularity(partition, G, weight='weight'), 3))\n",
    "print(round(np.sqrt(np.sum(np.square(np.dot(np.dot(U, X), beta) / np.sum(np.dot(np.dot(U, X), beta))  - np.ones(cn)/cn))), 3))"
   ]
  },
  {
   "cell_type": "code",
   "execution_count": 87,
   "metadata": {},
   "outputs": [
    {
     "name": "stdout",
     "output_type": "stream",
     "text": [
      "Epoch:  0 ; soft_mod:  0.012083 ; loss_cons:  0.089696 ; loss_clus:  0.0\n",
      "Epoch:  10 ; soft_mod:  7.2e-05 ; loss_cons:  0.075869 ; loss_clus:  0.950196\n",
      "Epoch:  20 ; soft_mod:  0.03136 ; loss_cons:  0.046896 ; loss_clus:  1.106303\n",
      "Epoch:  30 ; soft_mod:  0.071691 ; loss_cons:  0.054064 ; loss_clus:  0.977592\n",
      "Epoch:  40 ; soft_mod:  0.091462 ; loss_cons:  0.035808 ; loss_clus:  0.929335\n",
      "Epoch:  50 ; soft_mod:  0.178104 ; loss_cons:  0.053095 ; loss_clus:  0.827193\n",
      "Epoch:  60 ; soft_mod:  0.245927 ; loss_cons:  0.041789 ; loss_clus:  0.790424\n",
      "Epoch:  70 ; soft_mod:  0.354728 ; loss_cons:  0.049912 ; loss_clus:  0.842123\n",
      "Epoch:  80 ; soft_mod:  0.500364 ; loss_cons:  0.042412 ; loss_clus:  0.85967\n",
      "Epoch:  90 ; soft_mod:  0.59725 ; loss_cons:  0.039496 ; loss_clus:  0.904253\n",
      "Epoch:  100 ; soft_mod:  0.708925 ; loss_cons:  0.040856 ; loss_clus:  1.069692\n",
      "Epoch:  110 ; soft_mod:  0.743065 ; loss_cons:  0.042174 ; loss_clus:  1.311101\n",
      "Epoch:  120 ; soft_mod:  0.764208 ; loss_cons:  0.038855 ; loss_clus:  1.429901\n",
      "Epoch:  130 ; soft_mod:  0.76918 ; loss_cons:  0.034035 ; loss_clus:  1.71554\n",
      "Epoch:  140 ; soft_mod:  0.771308 ; loss_cons:  0.030145 ; loss_clus:  2.149203\n",
      "Epoch:  150 ; soft_mod:  0.773219 ; loss_cons:  0.033936 ; loss_clus:  2.549911\n",
      "Epoch:  160 ; soft_mod:  0.772015 ; loss_cons:  0.040807 ; loss_clus:  3.03258\n",
      "Epoch:  170 ; soft_mod:  0.773091 ; loss_cons:  0.037646 ; loss_clus:  3.587985\n",
      "Epoch:  180 ; soft_mod:  0.774101 ; loss_cons:  0.032645 ; loss_clus:  4.044871\n",
      "Epoch:  190 ; soft_mod:  0.774101 ; loss_cons:  0.049127 ; loss_clus:  4.542159\n",
      "Epoch:  200 ; soft_mod:  0.772192 ; loss_cons:  0.046695 ; loss_clus:  4.903632\n",
      "Epoch:  210 ; soft_mod:  0.774101 ; loss_cons:  0.0457 ; loss_clus:  5.064561\n",
      "Epoch:  220 ; soft_mod:  0.773123 ; loss_cons:  0.055337 ; loss_clus:  5.103493\n",
      "Epoch:  230 ; soft_mod:  0.773123 ; loss_cons:  0.067388 ; loss_clus:  5.024099\n",
      "Epoch:  240 ; soft_mod:  0.773123 ; loss_cons:  0.073948 ; loss_clus:  4.832243\n"
     ]
    }
   ],
   "source": [
    "# Ours\n",
    "partition = MGCF.main(clusters_number=K, feature=X, multi_graph=[G], alpha_1=1, alpha_2=0.5, alpha_3=0.01, weight_list=[1], alpha=2, epoch_num=250)"
   ]
  },
  {
   "cell_type": "code",
   "execution_count": 88,
   "metadata": {},
   "outputs": [
    {
     "name": "stdout",
     "output_type": "stream",
     "text": [
      "0.774\n",
      "0.065\n"
     ]
    }
   ],
   "source": [
    "labels_pred = partition\n",
    "partition_2 = {}\n",
    "for i in range(len(labels_pred)):\n",
    "    if labels_pred[i] not in partition_2:\n",
    "        partition_2[labels_pred[i]] = [i]\n",
    "    else:\n",
    "        partition_2[labels_pred[i]].append(i)\n",
    "        \n",
    "cn = len(partition_2)\n",
    "U = np.zeros((cn, N))\n",
    "for k, v in partition.items():\n",
    "    U[v, k] = 1\n",
    "    \n",
    "print(round(community.modularity(partition, G, weight='weight'), 3))\n",
    "print(round(np.sqrt(np.sum(np.square(np.dot(np.dot(U, X), beta) / np.sum(np.dot(np.dot(U, X), beta))  - np.ones(cn)/cn))), 3))"
   ]
  },
  {
   "cell_type": "code",
   "execution_count": null,
   "metadata": {},
   "outputs": [],
   "source": []
  }
 ],
 "metadata": {
  "kernelspec": {
   "display_name": "Python 3",
   "language": "python",
   "name": "python3"
  },
  "language_info": {
   "codemirror_mode": {
    "name": "ipython",
    "version": 3
   },
   "file_extension": ".py",
   "mimetype": "text/x-python",
   "name": "python",
   "nbconvert_exporter": "python",
   "pygments_lexer": "ipython3",
   "version": "3.7.7"
  }
 },
 "nbformat": 4,
 "nbformat_minor": 4
}
