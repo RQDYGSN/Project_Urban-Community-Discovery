{
 "cells": [
  {
   "cell_type": "code",
   "execution_count": 1,
   "metadata": {},
   "outputs": [],
   "source": [
    "import geopandas as gpd\n",
    "import networkx as nx\n",
    "import pandas as pd\n",
    "import numpy as np\n",
    "from tqdm import tqdm\n",
    "from scipy import sparse"
   ]
  },
  {
   "cell_type": "code",
   "execution_count": 2,
   "metadata": {},
   "outputs": [],
   "source": [
    "sample_num = 2000"
   ]
  },
  {
   "cell_type": "markdown",
   "metadata": {},
   "source": [
    "### Graph Construction —— Population Flow"
   ]
  },
  {
   "cell_type": "code",
   "execution_count": 3,
   "metadata": {},
   "outputs": [
    {
     "name": "stderr",
     "output_type": "stream",
     "text": [
      "100%|██████████| 2000/2000 [00:03<00:00, 536.52it/s]\n"
     ]
    }
   ],
   "source": [
    "# 确认节点数量\n",
    "bs_gpd = gpd.read_file('../../data/basestation-gis/basestation_aggregation.shp')\n",
    "bs_gpd = bs_gpd.iloc[:sample_num:, ::]\n",
    "bs_num = bs_gpd.shape[0]\n",
    "\n",
    "# 构造图节点\n",
    "nodes_list = list(range(bs_num))\n",
    "G1 = nx.Graph()\n",
    "G1.add_nodes_from(nodes_list)\n",
    "\n",
    "# 读取邻接矩阵adjacent\n",
    "# 以工作日(周一)的早高峰时段为例\n",
    "adj = pd.read_csv('../../data/adj/adj_20151109_0002.csv')\n",
    "adj = adj.iloc[:, 1:].values\n",
    "adj = adj[:sample_num:, :sample_num:]\n",
    "adj = adj + adj.T\n",
    "for i in range(sample_num): adj[i, i] = 0\n",
    "    \n",
    "# for i in range(bs_num):\n",
    "#     if (adj[i]==0).all():\n",
    "#         adj[i, :] = 0.0001\n",
    "#         adj[:, i] = 0.0001\n",
    "        \n",
    "for i in tqdm(range(bs_num)):\n",
    "    for j in range(bs_num):\n",
    "        tmp = adj[i, j]\n",
    "        if tmp>0: G1.add_edge(i, j, weight=tmp)"
   ]
  },
  {
   "cell_type": "markdown",
   "metadata": {},
   "source": [
    "### Graph Construction —— Geographic Reachability"
   ]
  },
  {
   "cell_type": "code",
   "execution_count": null,
   "metadata": {},
   "outputs": [],
   "source": []
  },
  {
   "cell_type": "markdown",
   "metadata": {},
   "source": [
    "### Feature Construction —— Equality Contribution"
   ]
  },
  {
   "cell_type": "code",
   "execution_count": 4,
   "metadata": {},
   "outputs": [],
   "source": [
    "feature = pd.read_csv('../../data/features/features_wf_new.csv')\n",
    "feature = feature.iloc[:, 1::].values"
   ]
  },
  {
   "cell_type": "code",
   "execution_count": 5,
   "metadata": {},
   "outputs": [],
   "source": [
    "feature = feature[:sample_num:, :]"
   ]
  },
  {
   "cell_type": "markdown",
   "metadata": {},
   "source": [
    "### Node Embedding —— Karate Club"
   ]
  },
  {
   "cell_type": "code",
   "execution_count": 6,
   "metadata": {},
   "outputs": [],
   "source": [
    "import networkx as nx\n",
    "import karateclub\n",
    "from tkinter import _flatten"
   ]
  },
  {
   "cell_type": "code",
   "execution_count": 20,
   "metadata": {
    "scrolled": true
   },
   "outputs": [
    {
     "name": "stdout",
     "output_type": "stream",
     "text": [
      "(500, 30)\n"
     ]
    }
   ],
   "source": [
    "model = karateclub.AE(dimensions=15)\n",
    "model.fit(graph=G1, X=sparse.coo_matrix(feature))\n",
    "embeding = model.get_embedding()\n",
    "print(embeding.shape)"
   ]
  },
  {
   "cell_type": "code",
   "execution_count": 21,
   "metadata": {},
   "outputs": [
    {
     "name": "stdout",
     "output_type": "stream",
     "text": [
      "(500, 60)\n"
     ]
    }
   ],
   "source": [
    "model = karateclub.MUSAE(dimensions=15)\n",
    "model.fit(graph=G1, X=sparse.coo_matrix(feature))\n",
    "embeding = model.get_embedding()\n",
    "print(embeding.shape)"
   ]
  },
  {
   "cell_type": "code",
   "execution_count": 22,
   "metadata": {},
   "outputs": [
    {
     "name": "stdout",
     "output_type": "stream",
     "text": [
      "(500, 15)\n"
     ]
    }
   ],
   "source": [
    "model = karateclub.SINE(dimensions=15)\n",
    "model.fit(graph=G1, X=sparse.coo_matrix(feature))\n",
    "embeding = model.get_embedding()\n",
    "print(embeding.shape)"
   ]
  },
  {
   "cell_type": "code",
   "execution_count": 23,
   "metadata": {},
   "outputs": [
    {
     "name": "stdout",
     "output_type": "stream",
     "text": [
      "(500, 15)\n"
     ]
    }
   ],
   "source": [
    "model = karateclub.BANE(dimensions=15)\n",
    "model.fit(graph=G1, X=sparse.coo_matrix(feature))\n",
    "embeding = model.get_embedding()\n",
    "print(embeding.shape)"
   ]
  },
  {
   "cell_type": "code",
   "execution_count": 25,
   "metadata": {},
   "outputs": [
    {
     "name": "stdout",
     "output_type": "stream",
     "text": [
      "(500, 30)\n"
     ]
    }
   ],
   "source": [
    "model = karateclub.TENE(dimensions=15)\n",
    "model.fit(graph=G1, T=sparse.coo_matrix(feature))\n",
    "embeding = model.get_embedding()\n",
    "print(embeding.shape)"
   ]
  },
  {
   "cell_type": "code",
   "execution_count": 27,
   "metadata": {},
   "outputs": [
    {
     "name": "stdout",
     "output_type": "stream",
     "text": [
      "(500, 30)\n"
     ]
    }
   ],
   "source": [
    "model = karateclub.FSCNMF(dimensions=15)\n",
    "model.fit(graph=G1, X=sparse.coo_matrix(feature))\n",
    "embeding = model.get_embedding()\n",
    "print(embeding.shape)"
   ]
  },
  {
   "cell_type": "code",
   "execution_count": 28,
   "metadata": {},
   "outputs": [
    {
     "name": "stdout",
     "output_type": "stream",
     "text": [
      "(500, 15)\n"
     ]
    }
   ],
   "source": [
    "model = karateclub.ASNE(dimensions=15)\n",
    "model.fit(graph=G1, X=sparse.coo_matrix(feature))\n",
    "embeding = model.get_embedding()\n",
    "print(embeding.shape)"
   ]
  },
  {
   "cell_type": "markdown",
   "metadata": {},
   "source": [
    "### Node Embedding —— Graph Convolutional Network"
   ]
  },
  {
   "cell_type": "code",
   "execution_count": 6,
   "metadata": {},
   "outputs": [
    {
     "name": "stderr",
     "output_type": "stream",
     "text": [
      "Using backend: pytorch\n"
     ]
    }
   ],
   "source": [
    "import dgl\n",
    "import dgl.function as fn\n",
    "import torch as th\n",
    "import torch.nn as nn\n",
    "import torch.nn.functional as F\n",
    "from dgl import DGLGraph\n",
    "import time\n",
    "import numpy as np\n",
    "from dgl.data import citation_graph as citegrh\n",
    "import networkx as nx\n",
    "import community\n",
    "\n",
    "gcn_msg = fn.copy_src(src='h', out='m')\n",
    "gcn_reduce = fn.sum(msg='m', out='h')"
   ]
  },
  {
   "cell_type": "code",
   "execution_count": 7,
   "metadata": {},
   "outputs": [],
   "source": [
    "A = th.from_numpy(adj).float()\n",
    "d = th.from_numpy(np.sum(adj, axis=1).reshape((-1, 1))).float()\n",
    "mm = np.sum(adj)\n",
    "B = A - th.mm(d, d.T)/mm\n",
    "B_norm = B/mm\n",
    "DG1 = dgl.DGLGraph()\n",
    "DG1.from_networkx(G1)\n",
    "features = th.from_numpy(feature).float()\n",
    "\n",
    "# D_ = th.diag(th.pow(d.view(-1), -1/2))\n",
    "# A_norm = th.mm(th.mm(D_, A), D_)\n",
    "\n",
    "k = 15\n",
    "in_dim = features.size()[1]\n",
    "# hid_dim = int(np.sqrt(in_dim*k))"
   ]
  },
  {
   "cell_type": "code",
   "execution_count": 13,
   "metadata": {},
   "outputs": [
    {
     "name": "stdout",
     "output_type": "stream",
     "text": [
      "Net(\n",
      "  (layer1): GCNLayer(\n",
      "    (linear): Linear(in_features=20, out_features=15, bias=True)\n",
      "  )\n",
      ")\n"
     ]
    }
   ],
   "source": [
    "class GCNLayer(nn.Module):\n",
    "    def __init__(self, in_feats, out_feats):\n",
    "        super(GCNLayer, self).__init__()\n",
    "        self.linear = nn.Linear(in_feats, out_feats)\n",
    "\n",
    "    def forward(self, g, feature):\n",
    "        # Creating a local scope so that all the stored ndata and edata\n",
    "        # (such as the `'h'` ndata below) are automatically popped out\n",
    "        # when the scope exits.\n",
    "        with g.local_scope():\n",
    "            g.ndata['h'] = feature\n",
    "            g.update_all(gcn_msg, gcn_reduce)\n",
    "            h = g.ndata['h']\n",
    "            return self.linear(h)\n",
    "        \n",
    "class Net(nn.Module):\n",
    "    def __init__(self):\n",
    "        super(Net, self).__init__()\n",
    "        self.layer1 = GCNLayer(in_dim, k)\n",
    "        # self.layer2 = GCNLayer(hid_dim, hid_dim)\n",
    "        # self.layer3 = GCNLayer(hid_dim, k)\n",
    "\n",
    "    def forward(self, g, features):\n",
    "        # x = F.relu(self.layer1(g, features))\n",
    "        # x = F.relu(self.layer2(g, x))\n",
    "        x = self.layer1(g, features)\n",
    "        return x\n",
    "net = Net()\n",
    "print(net)"
   ]
  },
  {
   "cell_type": "code",
   "execution_count": 14,
   "metadata": {
    "scrolled": true
   },
   "outputs": [
    {
     "name": "stdout",
     "output_type": "stream",
     "text": [
      "Epoch 00000 | Loss -0.0000 | Modularity 0.0000 | Time(s) 0.0272\n",
      "Epoch 00020 | Loss -0.0267 | Modularity 0.0639 | Time(s) 0.0189\n",
      "Epoch 00040 | Loss -0.0577 | Modularity 0.0666 | Time(s) 0.0169\n",
      "Epoch 00060 | Loss -0.0618 | Modularity 0.0645 | Time(s) 0.0164\n",
      "Epoch 00080 | Loss -0.0636 | Modularity 0.0632 | Time(s) 0.0158\n",
      "Epoch 00100 | Loss -0.0653 | Modularity 0.0642 | Time(s) 0.0153\n",
      "Epoch 00120 | Loss -0.0671 | Modularity 0.0719 | Time(s) 0.0154\n",
      "Epoch 00140 | Loss -0.0695 | Modularity 0.0738 | Time(s) 0.0157\n",
      "Epoch 00160 | Loss -0.0730 | Modularity 0.0737 | Time(s) 0.0172\n",
      "Epoch 00180 | Loss -0.0781 | Modularity 0.0964 | Time(s) 0.0175\n",
      "Epoch 00200 | Loss -0.0840 | Modularity 0.1015 | Time(s) 0.0191\n",
      "Epoch 00220 | Loss -0.0900 | Modularity 0.1130 | Time(s) 0.0194\n",
      "Epoch 00240 | Loss -0.0958 | Modularity 0.1217 | Time(s) 0.0192\n",
      "Epoch 00260 | Loss -0.1017 | Modularity 0.1270 | Time(s) 0.0188\n",
      "Epoch 00280 | Loss -0.1076 | Modularity 0.1389 | Time(s) 0.0184\n",
      "Epoch 00300 | Loss -0.1138 | Modularity 0.1529 | Time(s) 0.0183\n",
      "Epoch 00320 | Loss -0.1208 | Modularity 0.1545 | Time(s) 0.0180\n",
      "Epoch 00340 | Loss -0.1283 | Modularity 0.1752 | Time(s) 0.0177\n",
      "Epoch 00360 | Loss -0.1355 | Modularity 0.1884 | Time(s) 0.0175\n",
      "Epoch 00380 | Loss -0.1418 | Modularity 0.2007 | Time(s) 0.0175\n",
      "Epoch 00400 | Loss -0.1470 | Modularity 0.2026 | Time(s) 0.0175\n",
      "Epoch 00420 | Loss -0.1514 | Modularity 0.2005 | Time(s) 0.0177\n",
      "Epoch 00440 | Loss -0.1552 | Modularity 0.2043 | Time(s) 0.0176\n",
      "Epoch 00460 | Loss -0.1585 | Modularity 0.2060 | Time(s) 0.0177\n",
      "Epoch 00480 | Loss -0.1616 | Modularity 0.2126 | Time(s) 0.0179\n",
      "Epoch 00500 | Loss -0.1645 | Modularity 0.2124 | Time(s) 0.0180\n",
      "Epoch 00520 | Loss -0.1672 | Modularity 0.2095 | Time(s) 0.0183\n",
      "Epoch 00540 | Loss -0.1698 | Modularity 0.2077 | Time(s) 0.0182\n",
      "Epoch 00560 | Loss -0.1723 | Modularity 0.2085 | Time(s) 0.0183\n",
      "Epoch 00580 | Loss -0.1747 | Modularity 0.2107 | Time(s) 0.0182\n",
      "Epoch 00600 | Loss -0.1770 | Modularity 0.2168 | Time(s) 0.0181\n",
      "Epoch 00620 | Loss -0.1792 | Modularity 0.2172 | Time(s) 0.0180\n",
      "Epoch 00640 | Loss -0.1813 | Modularity 0.2192 | Time(s) 0.0180\n",
      "Epoch 00660 | Loss -0.1832 | Modularity 0.2215 | Time(s) 0.0179\n",
      "Epoch 00680 | Loss -0.1850 | Modularity 0.2182 | Time(s) 0.0180\n",
      "Epoch 00700 | Loss -0.1868 | Modularity 0.2210 | Time(s) 0.0179\n",
      "Epoch 00720 | Loss -0.1884 | Modularity 0.2217 | Time(s) 0.0180\n",
      "Epoch 00740 | Loss -0.1900 | Modularity 0.2230 | Time(s) 0.0180\n",
      "Epoch 00760 | Loss -0.1914 | Modularity 0.2233 | Time(s) 0.0180\n",
      "Epoch 00780 | Loss -0.1928 | Modularity 0.2248 | Time(s) 0.0178\n",
      "Epoch 00800 | Loss -0.1941 | Modularity 0.2278 | Time(s) 0.0179\n",
      "Epoch 00820 | Loss -0.1954 | Modularity 0.2342 | Time(s) 0.0178\n",
      "Epoch 00840 | Loss -0.1966 | Modularity 0.2345 | Time(s) 0.0179\n",
      "Epoch 00860 | Loss -0.1978 | Modularity 0.2344 | Time(s) 0.0179\n",
      "Epoch 00880 | Loss -0.1989 | Modularity 0.2304 | Time(s) 0.0178\n",
      "Epoch 00900 | Loss -0.2000 | Modularity 0.2310 | Time(s) 0.0177\n",
      "Epoch 00920 | Loss -0.2010 | Modularity 0.2366 | Time(s) 0.0177\n",
      "Epoch 00940 | Loss -0.2020 | Modularity 0.2366 | Time(s) 0.0177\n",
      "Epoch 00960 | Loss -0.2030 | Modularity 0.2364 | Time(s) 0.0176\n",
      "Epoch 00980 | Loss -0.2039 | Modularity 0.2375 | Time(s) 0.0175\n",
      "Epoch 01000 | Loss -0.2049 | Modularity 0.2373 | Time(s) 0.0175\n",
      "Epoch 01020 | Loss -0.2057 | Modularity 0.2379 | Time(s) 0.0173\n",
      "Epoch 01040 | Loss -0.2066 | Modularity 0.2419 | Time(s) 0.0172\n",
      "Epoch 01060 | Loss -0.2074 | Modularity 0.2420 | Time(s) 0.0175\n",
      "Epoch 01080 | Loss -0.2082 | Modularity 0.2421 | Time(s) 0.0177\n",
      "Epoch 01100 | Loss -0.2090 | Modularity 0.2423 | Time(s) 0.0181\n",
      "Epoch 01120 | Loss -0.2098 | Modularity 0.2427 | Time(s) 0.0181\n",
      "Epoch 01140 | Loss -0.2105 | Modularity 0.2430 | Time(s) 0.0181\n",
      "Epoch 01160 | Loss -0.2112 | Modularity 0.2429 | Time(s) 0.0181\n",
      "Epoch 01180 | Loss -0.2119 | Modularity 0.2426 | Time(s) 0.0180\n",
      "Epoch 01200 | Loss -0.2126 | Modularity 0.2426 | Time(s) 0.0180\n",
      "Epoch 01220 | Loss -0.2132 | Modularity 0.2438 | Time(s) 0.0180\n",
      "Epoch 01240 | Loss -0.2139 | Modularity 0.2436 | Time(s) 0.0180\n",
      "Epoch 01260 | Loss -0.2145 | Modularity 0.2427 | Time(s) 0.0180\n",
      "Epoch 01280 | Loss -0.2151 | Modularity 0.2448 | Time(s) 0.0181\n",
      "Epoch 01300 | Loss -0.2157 | Modularity 0.2463 | Time(s) 0.0181\n",
      "Epoch 01320 | Loss -0.2163 | Modularity 0.2467 | Time(s) 0.0180\n",
      "Epoch 01340 | Loss -0.2168 | Modularity 0.2467 | Time(s) 0.0180\n",
      "Epoch 01360 | Loss -0.2174 | Modularity 0.2474 | Time(s) 0.0179\n",
      "Epoch 01380 | Loss -0.2179 | Modularity 0.2484 | Time(s) 0.0179\n",
      "Epoch 01400 | Loss -0.2184 | Modularity 0.2489 | Time(s) 0.0179\n",
      "Epoch 01420 | Loss -0.2189 | Modularity 0.2488 | Time(s) 0.0178\n",
      "Epoch 01440 | Loss -0.2194 | Modularity 0.2494 | Time(s) 0.0178\n",
      "Epoch 01460 | Loss -0.2199 | Modularity 0.2495 | Time(s) 0.0178\n",
      "Epoch 01480 | Loss -0.2204 | Modularity 0.2498 | Time(s) 0.0177\n",
      "Epoch 01500 | Loss -0.2208 | Modularity 0.2514 | Time(s) 0.0177\n",
      "Epoch 01520 | Loss -0.2213 | Modularity 0.2514 | Time(s) 0.0177\n",
      "Epoch 01540 | Loss -0.2217 | Modularity 0.2517 | Time(s) 0.0177\n",
      "Epoch 01560 | Loss -0.2221 | Modularity 0.2516 | Time(s) 0.0177\n",
      "Epoch 01580 | Loss -0.2225 | Modularity 0.2516 | Time(s) 0.0177\n",
      "Epoch 01600 | Loss -0.2229 | Modularity 0.2538 | Time(s) 0.0176\n",
      "Epoch 01620 | Loss -0.2233 | Modularity 0.2538 | Time(s) 0.0176\n",
      "Epoch 01640 | Loss -0.2237 | Modularity 0.2539 | Time(s) 0.0175\n",
      "Epoch 01660 | Loss -0.2241 | Modularity 0.2539 | Time(s) 0.0175\n",
      "Epoch 01680 | Loss -0.2245 | Modularity 0.2539 | Time(s) 0.0175\n",
      "Epoch 01700 | Loss -0.2248 | Modularity 0.2541 | Time(s) 0.0174\n",
      "Epoch 01720 | Loss -0.2252 | Modularity 0.2543 | Time(s) 0.0174\n",
      "Epoch 01740 | Loss -0.2255 | Modularity 0.2542 | Time(s) 0.0175\n",
      "Epoch 01760 | Loss -0.2259 | Modularity 0.2549 | Time(s) 0.0174\n",
      "Epoch 01780 | Loss -0.2262 | Modularity 0.2549 | Time(s) 0.0175\n",
      "Epoch 01800 | Loss -0.2265 | Modularity 0.2551 | Time(s) 0.0175\n",
      "Epoch 01820 | Loss -0.2268 | Modularity 0.2551 | Time(s) 0.0175\n",
      "Epoch 01840 | Loss -0.2272 | Modularity 0.2552 | Time(s) 0.0175\n",
      "Epoch 01860 | Loss -0.2275 | Modularity 0.2553 | Time(s) 0.0175\n",
      "Epoch 01880 | Loss -0.2278 | Modularity 0.2553 | Time(s) 0.0174\n",
      "Epoch 01900 | Loss -0.2281 | Modularity 0.2554 | Time(s) 0.0174\n",
      "Epoch 01920 | Loss -0.2284 | Modularity 0.2556 | Time(s) 0.0174\n",
      "Epoch 01940 | Loss -0.2287 | Modularity 0.2556 | Time(s) 0.0174\n",
      "Epoch 01960 | Loss -0.2289 | Modularity 0.2556 | Time(s) 0.0174\n",
      "Epoch 01980 | Loss -0.2292 | Modularity 0.2555 | Time(s) 0.0174\n"
     ]
    }
   ],
   "source": [
    "optimizer = th.optim.Adam(net.parameters(), lr=2e-1)\n",
    "# optimizer = th.optim.Adam(net.parameters(), lr=1e-2, weight_decay=0, betas=(0.5, 0.999), eps=1e-08)\n",
    "epoch_num = 2000\n",
    "dur_loss = []\n",
    "dur_modu = []\n",
    "dur = []\n",
    "\n",
    "net.train()\n",
    "\n",
    "for epoch in range(epoch_num):\n",
    "    if epoch >=0:\n",
    "        t0 = time.time()\n",
    "    \n",
    "    # net.train()\n",
    "    Z = net(DG1, features)\n",
    "    # Z_norm = th.div(Z, Z.sum(axis=1).view(-1, 1))\n",
    "    U = F.softmax(Z, dim=1).T\n",
    "    L = th.mm(th.mm(U, B_norm), U.T)\n",
    "    loss = -th.trace(L)\n",
    "    dur_loss.append(loss)\n",
    "\n",
    "    optimizer.zero_grad()\n",
    "    loss.backward()\n",
    "    optimizer.step()\n",
    "\n",
    "    if epoch >=0:\n",
    "        dur.append(time.time() - t0)\n",
    "\n",
    "    partition = dict(zip(list(G1.nodes()), th.argmax(U, axis=0).tolist())) \n",
    "    dur_modu.append(community.modularity(partition, G1, weight='weight'))\n",
    "    if epoch%20 == 0:\n",
    "        print(\"Epoch {:05d} | Loss {:.4f} | Modularity {:.4f} | Time(s) {:.4f}\".format(epoch, loss.item(), dur_modu[-1], np.mean(dur)))"
   ]
  },
  {
   "cell_type": "markdown",
   "metadata": {},
   "source": [
    "**1-layer Highest Record**"
   ]
  },
  {
   "cell_type": "code",
   "execution_count": 15,
   "metadata": {},
   "outputs": [
    {
     "data": {
      "image/png": "[encoded data removed]",
      "text/plain": [
       "<Figure size 1440x432 with 2 Axes>"
      ]
     },
     "metadata": {
      "needs_background": "light"
     },
     "output_type": "display_data"
    }
   ],
   "source": [
    "import matplotlib.pyplot as plt\n",
    "\n",
    "plt.figure(figsize=(20, 6))\n",
    "\n",
    "plt.subplot(1, 2, 1)\n",
    "plt.plot(list(range(epoch_num)), dur_loss, color='red', label='loss', alpha=0.8)\n",
    "plt.grid(True)\n",
    "\n",
    "plt.subplot(1, 2, 2)\n",
    "plt.plot(list(range(epoch_num)), dur_modu, color='blue', label='modularity', alpha=0.8)\n",
    "plt.grid(True)\n",
    "# plt.legend()\n",
    "\n",
    "plt.show()"
   ]
  },
  {
   "cell_type": "code",
   "execution_count": 16,
   "metadata": {},
   "outputs": [
    {
     "name": "stdout",
     "output_type": "stream",
     "text": [
      "0.25606056723442994\n"
     ]
    }
   ],
   "source": [
    "print(max(dur_modu))"
   ]
  },
  {
   "cell_type": "markdown",
   "metadata": {},
   "source": [
    "**2-layer Highest Record**"
   ]
  },
  {
   "cell_type": "code",
   "execution_count": 181,
   "metadata": {
    "scrolled": true
   },
   "outputs": [
    {
     "name": "stdout",
     "output_type": "stream",
     "text": [
      "0.33743910042380676\n"
     ]
    }
   ],
   "source": [
    "print(max(dur_modu))"
   ]
  }
 ],
 "metadata": {
  "kernelspec": {
   "display_name": "Python 3",
   "language": "python",
   "name": "python3"
  },
  "language_info": {
   "codemirror_mode": {
    "name": "ipython",
    "version": 3
   },
   "file_extension": ".py",
   "mimetype": "text/x-python",
   "name": "python",
   "nbconvert_exporter": "python",
   "pygments_lexer": "ipython3",
   "version": "3.7.7"
  }
 },
 "nbformat": 4,
 "nbformat_minor": 4
}
