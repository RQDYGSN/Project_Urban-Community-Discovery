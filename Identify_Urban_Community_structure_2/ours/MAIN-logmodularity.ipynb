{
 "cells": [
  {
   "cell_type": "code",
   "execution_count": 1,
   "metadata": {},
   "outputs": [],
   "source": [
    "import geopandas as gpd\n",
    "import networkx as nx\n",
    "import pandas as pd\n",
    "import numpy as np\n",
    "from tqdm import tqdm\n",
    "from scipy import sparse"
   ]
  },
  {
   "cell_type": "code",
   "execution_count": 2,
   "metadata": {},
   "outputs": [],
   "source": [
    "sample_num = 2000"
   ]
  },
  {
   "cell_type": "markdown",
   "metadata": {},
   "source": [
    "### Graph Construction —— Population Flow"
   ]
  },
  {
   "cell_type": "code",
   "execution_count": 3,
   "metadata": {},
   "outputs": [
    {
     "name": "stderr",
     "output_type": "stream",
     "text": [
      "100%|██████████| 2000/2000 [00:03<00:00, 564.20it/s]\n"
     ]
    }
   ],
   "source": [
    "# 确认节点数量\n",
    "bs_gpd = gpd.read_file('../../data/basestation-gis/basestation_aggregation.shp')\n",
    "bs_gpd = bs_gpd.iloc[:sample_num:, ::]\n",
    "bs_num = bs_gpd.shape[0]\n",
    "\n",
    "# 构造图节点\n",
    "nodes_list = list(range(bs_num))\n",
    "G1 = nx.Graph()\n",
    "G1.add_nodes_from(nodes_list)\n",
    "\n",
    "# 读取邻接矩阵adjacent\n",
    "# 以工作日(周一)的早高峰时段为例\n",
    "adj = pd.read_csv('../../data/adj/adj_20151109_0002.csv')\n",
    "adj = adj.iloc[:, 1:].values\n",
    "adj = adj[:sample_num:, :sample_num:]\n",
    "adj = adj + adj.T\n",
    "for i in range(sample_num): adj[i, i] = 0\n",
    "    \n",
    "# for i in range(bs_num):\n",
    "#     if (adj[i]==0).all():\n",
    "#         adj[i, :] = 0.0001\n",
    "#         adj[:, i] = 0.0001\n",
    "        \n",
    "for i in tqdm(range(bs_num)):\n",
    "    for j in range(bs_num):\n",
    "        tmp = adj[i, j]\n",
    "        if tmp>0: G1.add_edge(i, j, weight=tmp)"
   ]
  },
  {
   "cell_type": "markdown",
   "metadata": {},
   "source": [
    "### Graph Construction —— Geographic Reachability"
   ]
  },
  {
   "cell_type": "code",
   "execution_count": null,
   "metadata": {},
   "outputs": [],
   "source": []
  },
  {
   "cell_type": "markdown",
   "metadata": {},
   "source": [
    "### Feature Construction —— Equality Contribution"
   ]
  },
  {
   "cell_type": "code",
   "execution_count": 4,
   "metadata": {},
   "outputs": [],
   "source": [
    "feature = pd.read_csv('../../data/features/features_wf_new.csv')\n",
    "feature = feature.iloc[:, 1::].values"
   ]
  },
  {
   "cell_type": "code",
   "execution_count": 5,
   "metadata": {},
   "outputs": [],
   "source": [
    "feature = feature[:sample_num:, :]"
   ]
  },
  {
   "cell_type": "markdown",
   "metadata": {},
   "source": [
    "### Node Embedding —— Karate Club"
   ]
  },
  {
   "cell_type": "code",
   "execution_count": 6,
   "metadata": {},
   "outputs": [],
   "source": [
    "import networkx as nx\n",
    "import karateclub\n",
    "from tkinter import _flatten"
   ]
  },
  {
   "cell_type": "code",
   "execution_count": 20,
   "metadata": {
    "scrolled": true
   },
   "outputs": [
    {
     "name": "stdout",
     "output_type": "stream",
     "text": [
      "(500, 30)\n"
     ]
    }
   ],
   "source": [
    "model = karateclub.AE(dimensions=15)\n",
    "model.fit(graph=G1, X=sparse.coo_matrix(feature))\n",
    "embeding = model.get_embedding()\n",
    "print(embeding.shape)"
   ]
  },
  {
   "cell_type": "code",
   "execution_count": 21,
   "metadata": {},
   "outputs": [
    {
     "name": "stdout",
     "output_type": "stream",
     "text": [
      "(500, 60)\n"
     ]
    }
   ],
   "source": [
    "model = karateclub.MUSAE(dimensions=15)\n",
    "model.fit(graph=G1, X=sparse.coo_matrix(feature))\n",
    "embeding = model.get_embedding()\n",
    "print(embeding.shape)"
   ]
  },
  {
   "cell_type": "code",
   "execution_count": 22,
   "metadata": {},
   "outputs": [
    {
     "name": "stdout",
     "output_type": "stream",
     "text": [
      "(500, 15)\n"
     ]
    }
   ],
   "source": [
    "model = karateclub.SINE(dimensions=15)\n",
    "model.fit(graph=G1, X=sparse.coo_matrix(feature))\n",
    "embeding = model.get_embedding()\n",
    "print(embeding.shape)"
   ]
  },
  {
   "cell_type": "code",
   "execution_count": 23,
   "metadata": {},
   "outputs": [
    {
     "name": "stdout",
     "output_type": "stream",
     "text": [
      "(500, 15)\n"
     ]
    }
   ],
   "source": [
    "model = karateclub.BANE(dimensions=15)\n",
    "model.fit(graph=G1, X=sparse.coo_matrix(feature))\n",
    "embeding = model.get_embedding()\n",
    "print(embeding.shape)"
   ]
  },
  {
   "cell_type": "code",
   "execution_count": 25,
   "metadata": {},
   "outputs": [
    {
     "name": "stdout",
     "output_type": "stream",
     "text": [
      "(500, 30)\n"
     ]
    }
   ],
   "source": [
    "model = karateclub.TENE(dimensions=15)\n",
    "model.fit(graph=G1, T=sparse.coo_matrix(feature))\n",
    "embeding = model.get_embedding()\n",
    "print(embeding.shape)"
   ]
  },
  {
   "cell_type": "code",
   "execution_count": 27,
   "metadata": {},
   "outputs": [
    {
     "name": "stdout",
     "output_type": "stream",
     "text": [
      "(500, 30)\n"
     ]
    }
   ],
   "source": [
    "model = karateclub.FSCNMF(dimensions=15)\n",
    "model.fit(graph=G1, X=sparse.coo_matrix(feature))\n",
    "embeding = model.get_embedding()\n",
    "print(embeding.shape)"
   ]
  },
  {
   "cell_type": "code",
   "execution_count": 28,
   "metadata": {},
   "outputs": [
    {
     "name": "stdout",
     "output_type": "stream",
     "text": [
      "(500, 15)\n"
     ]
    }
   ],
   "source": [
    "model = karateclub.ASNE(dimensions=15)\n",
    "model.fit(graph=G1, X=sparse.coo_matrix(feature))\n",
    "embeding = model.get_embedding()\n",
    "print(embeding.shape)"
   ]
  },
  {
   "cell_type": "markdown",
   "metadata": {},
   "source": [
    "### Node Embedding —— Graph Convolutional Network"
   ]
  },
  {
   "cell_type": "code",
   "execution_count": 6,
   "metadata": {},
   "outputs": [
    {
     "name": "stderr",
     "output_type": "stream",
     "text": [
      "Using backend: pytorch\n"
     ]
    }
   ],
   "source": [
    "import dgl\n",
    "import dgl.function as fn\n",
    "import torch as th\n",
    "import torch.nn as nn\n",
    "import torch.nn.functional as F\n",
    "from dgl import DGLGraph\n",
    "import time\n",
    "import numpy as np\n",
    "from dgl.data import citation_graph as citegrh\n",
    "import networkx as nx\n",
    "import community\n",
    "\n",
    "gcn_msg = fn.copy_src(src='h', out='m')\n",
    "gcn_reduce = fn.sum(msg='m', out='h')"
   ]
  },
  {
   "cell_type": "code",
   "execution_count": 7,
   "metadata": {},
   "outputs": [],
   "source": [
    "A = th.from_numpy(adj).float()\n",
    "d = th.from_numpy(np.sum(adj, axis=1).reshape((-1, 1))).float()\n",
    "mm = np.sum(adj)\n",
    "B = A - th.mm(d, d.T)/mm\n",
    "B_norm = B/mm\n",
    "DG1 = dgl.DGLGraph()\n",
    "DG1.from_networkx(G1)\n",
    "features = th.from_numpy(feature).float()\n",
    "\n",
    "# D_ = th.diag(th.pow(d.view(-1), -1/2))\n",
    "# A_norm = th.mm(th.mm(D_, A), D_)\n",
    "\n",
    "k = 15\n",
    "in_dim = features.size()[1]\n",
    "hid_dim = int(np.sqrt(in_dim*k))"
   ]
  },
  {
   "cell_type": "markdown",
   "metadata": {},
   "source": [
    "**在GCN-output之后，添加了ReLU**"
   ]
  },
  {
   "cell_type": "code",
   "execution_count": 12,
   "metadata": {},
   "outputs": [
    {
     "name": "stdout",
     "output_type": "stream",
     "text": [
      "Net(\n",
      "  (layer1): GCNLayer(\n",
      "    (linear): Linear(in_features=20, out_features=17, bias=True)\n",
      "  )\n",
      "  (layer2): GCNLayer(\n",
      "    (linear): Linear(in_features=17, out_features=15, bias=True)\n",
      "  )\n",
      ")\n"
     ]
    }
   ],
   "source": [
    "class GCNLayer(nn.Module):\n",
    "    def __init__(self, in_feats, out_feats):\n",
    "        super(GCNLayer, self).__init__()\n",
    "        self.linear = nn.Linear(in_feats, out_feats)\n",
    "\n",
    "    def forward(self, g, feature):\n",
    "        # Creating a local scope so that all the stored ndata and edata\n",
    "        # (such as the `'h'` ndata below) are automatically popped out\n",
    "        # when the scope exits.\n",
    "        with g.local_scope():\n",
    "            g.ndata['h'] = feature\n",
    "            g.update_all(gcn_msg, gcn_reduce)\n",
    "            h = g.ndata['h']\n",
    "            return self.linear(h)\n",
    "        \n",
    "class Net(nn.Module):\n",
    "    def __init__(self):\n",
    "        super(Net, self).__init__()\n",
    "        self.layer1 = GCNLayer(in_dim, hid_dim)\n",
    "        self.layer2 = GCNLayer(hid_dim, k)\n",
    "\n",
    "    def forward(self, g, features):\n",
    "        x = F.relu(self.layer1(g, features))\n",
    "        x = F.relu(self.layer2(g, x))\n",
    "        return x\n",
    "net = Net()\n",
    "print(net)"
   ]
  },
  {
   "cell_type": "code",
   "execution_count": 13,
   "metadata": {
    "scrolled": true
   },
   "outputs": [
    {
     "name": "stdout",
     "output_type": "stream",
     "text": [
      "Epoch 00000 | Loss 40.6156 | Modularity 0.0001 | Time(s) 0.0361\n",
      "Epoch 00020 | Loss 40.6067 | Modularity 0.0094 | Time(s) 0.0312\n",
      "Epoch 00040 | Loss 40.6020 | Modularity 0.0219 | Time(s) 0.0307\n",
      "Epoch 00060 | Loss 40.5836 | Modularity 0.0601 | Time(s) 0.0327\n",
      "Epoch 00080 | Loss 40.5677 | Modularity 0.0786 | Time(s) 0.0319\n",
      "Epoch 00100 | Loss 40.5567 | Modularity 0.0844 | Time(s) 0.0322\n",
      "Epoch 00120 | Loss 40.5546 | Modularity 0.0720 | Time(s) 0.0315\n",
      "Epoch 00140 | Loss 40.5504 | Modularity 0.0702 | Time(s) 0.0314\n",
      "Epoch 00160 | Loss 40.5415 | Modularity 0.0970 | Time(s) 0.0305\n",
      "Epoch 00180 | Loss 40.5387 | Modularity 0.0953 | Time(s) 0.0303\n",
      "Epoch 00200 | Loss 40.5362 | Modularity 0.1017 | Time(s) 0.0300\n",
      "Epoch 00220 | Loss 40.5342 | Modularity 0.1017 | Time(s) 0.0299\n",
      "Epoch 00240 | Loss 40.5324 | Modularity 0.1016 | Time(s) 0.0304\n",
      "Epoch 00260 | Loss 40.5307 | Modularity 0.1016 | Time(s) 0.0306\n",
      "Epoch 00280 | Loss 40.5290 | Modularity 0.1026 | Time(s) 0.0312\n",
      "Epoch 00300 | Loss 40.5273 | Modularity 0.1058 | Time(s) 0.0312\n",
      "Epoch 00320 | Loss 40.5253 | Modularity 0.1063 | Time(s) 0.0307\n",
      "Epoch 00340 | Loss 40.5230 | Modularity 0.1075 | Time(s) 0.0308\n",
      "Epoch 00360 | Loss 40.5200 | Modularity 0.1164 | Time(s) 0.0309\n",
      "Epoch 00380 | Loss 40.5164 | Modularity 0.1099 | Time(s) 0.0306\n",
      "Epoch 00400 | Loss 40.5096 | Modularity 0.1120 | Time(s) 0.0304\n",
      "Epoch 00420 | Loss 40.5918 | Modularity 0.0308 | Time(s) 0.0302\n",
      "Epoch 00440 | Loss 40.6208 | Modularity 0.0000 | Time(s) 0.0305\n",
      "Epoch 00460 | Loss 40.6208 | Modularity 0.0000 | Time(s) 0.0307\n",
      "Epoch 00480 | Loss 40.6208 | Modularity 0.0000 | Time(s) 0.0309\n",
      "Epoch 00500 | Loss 40.6208 | Modularity 0.0000 | Time(s) 0.0308\n",
      "Epoch 00520 | Loss 40.6208 | Modularity 0.0000 | Time(s) 0.0309\n",
      "Epoch 00540 | Loss 40.6208 | Modularity 0.0000 | Time(s) 0.0312\n",
      "Epoch 00560 | Loss 40.6208 | Modularity 0.0000 | Time(s) 0.0311\n",
      "Epoch 00580 | Loss 40.6208 | Modularity 0.0000 | Time(s) 0.0310\n",
      "Epoch 00600 | Loss 40.6208 | Modularity 0.0000 | Time(s) 0.0313\n",
      "Epoch 00620 | Loss 40.6208 | Modularity 0.0000 | Time(s) 0.0313\n",
      "Epoch 00640 | Loss 40.6208 | Modularity 0.0000 | Time(s) 0.0313\n",
      "Epoch 00660 | Loss 40.6208 | Modularity 0.0000 | Time(s) 0.0315\n",
      "Epoch 00680 | Loss 40.6208 | Modularity 0.0000 | Time(s) 0.0315\n",
      "Epoch 00700 | Loss 40.6208 | Modularity 0.0000 | Time(s) 0.0314\n",
      "Epoch 00720 | Loss 40.6208 | Modularity 0.0000 | Time(s) 0.0313\n",
      "Epoch 00740 | Loss 40.6208 | Modularity 0.0000 | Time(s) 0.0313\n",
      "Epoch 00760 | Loss 40.6208 | Modularity 0.0000 | Time(s) 0.0315\n",
      "Epoch 00780 | Loss 40.6208 | Modularity 0.0000 | Time(s) 0.0315\n",
      "Epoch 00800 | Loss 40.6208 | Modularity 0.0000 | Time(s) 0.0316\n",
      "Epoch 00820 | Loss 40.6208 | Modularity 0.0000 | Time(s) 0.0316\n",
      "Epoch 00840 | Loss 40.6208 | Modularity 0.0000 | Time(s) 0.0315\n",
      "Epoch 00860 | Loss 40.6208 | Modularity 0.0000 | Time(s) 0.0316\n",
      "Epoch 00880 | Loss 40.6208 | Modularity 0.0000 | Time(s) 0.0315\n",
      "Epoch 00900 | Loss 40.6208 | Modularity 0.0000 | Time(s) 0.0316\n",
      "Epoch 00920 | Loss 40.6208 | Modularity 0.0000 | Time(s) 0.0316\n",
      "Epoch 00940 | Loss 40.6208 | Modularity 0.0000 | Time(s) 0.0315\n",
      "Epoch 00960 | Loss 40.6208 | Modularity 0.0000 | Time(s) 0.0316\n",
      "Epoch 00980 | Loss 40.6208 | Modularity 0.0000 | Time(s) 0.0317\n",
      "Epoch 01000 | Loss 40.6208 | Modularity 0.0000 | Time(s) 0.0318\n",
      "Epoch 01020 | Loss 40.6208 | Modularity 0.0000 | Time(s) 0.0317\n",
      "Epoch 01040 | Loss 40.6208 | Modularity 0.0000 | Time(s) 0.0317\n",
      "Epoch 01060 | Loss 40.6208 | Modularity 0.0000 | Time(s) 0.0318\n",
      "Epoch 01080 | Loss 40.6208 | Modularity 0.0000 | Time(s) 0.0317\n",
      "Epoch 01100 | Loss 40.6208 | Modularity 0.0000 | Time(s) 0.0319\n",
      "Epoch 01120 | Loss 40.6208 | Modularity 0.0000 | Time(s) 0.0319\n",
      "Epoch 01140 | Loss 40.6208 | Modularity 0.0000 | Time(s) 0.0320\n",
      "Epoch 01160 | Loss 40.6208 | Modularity 0.0000 | Time(s) 0.0323\n",
      "Epoch 01180 | Loss 40.6208 | Modularity 0.0000 | Time(s) 0.0322\n",
      "Epoch 01200 | Loss 40.6208 | Modularity 0.0000 | Time(s) 0.0322\n",
      "Epoch 01220 | Loss 40.6208 | Modularity 0.0000 | Time(s) 0.0323\n",
      "Epoch 01240 | Loss 40.6208 | Modularity 0.0000 | Time(s) 0.0322\n",
      "Epoch 01260 | Loss 40.6208 | Modularity 0.0000 | Time(s) 0.0321\n",
      "Epoch 01280 | Loss 40.6208 | Modularity 0.0000 | Time(s) 0.0321\n",
      "Epoch 01300 | Loss 40.6208 | Modularity 0.0000 | Time(s) 0.0321\n",
      "Epoch 01320 | Loss 40.6208 | Modularity 0.0000 | Time(s) 0.0321\n",
      "Epoch 01340 | Loss 40.6208 | Modularity 0.0000 | Time(s) 0.0321\n",
      "Epoch 01360 | Loss 40.6208 | Modularity 0.0000 | Time(s) 0.0322\n",
      "Epoch 01380 | Loss 40.6208 | Modularity 0.0000 | Time(s) 0.0322\n",
      "Epoch 01400 | Loss 40.6208 | Modularity 0.0000 | Time(s) 0.0321\n",
      "Epoch 01420 | Loss 40.6208 | Modularity 0.0000 | Time(s) 0.0322\n",
      "Epoch 01440 | Loss 40.6208 | Modularity 0.0000 | Time(s) 0.0321\n",
      "Epoch 01460 | Loss 40.6208 | Modularity 0.0000 | Time(s) 0.0320\n",
      "Epoch 01480 | Loss 40.6208 | Modularity 0.0000 | Time(s) 0.0320\n",
      "Epoch 01500 | Loss 40.6208 | Modularity 0.0000 | Time(s) 0.0324\n",
      "Epoch 01520 | Loss 40.6208 | Modularity 0.0000 | Time(s) 0.0329\n",
      "Epoch 01540 | Loss 40.6208 | Modularity 0.0000 | Time(s) 0.0334\n",
      "Epoch 01560 | Loss 40.6208 | Modularity 0.0000 | Time(s) 0.0338\n",
      "Epoch 01580 | Loss 40.6208 | Modularity 0.0000 | Time(s) 0.0339\n",
      "Epoch 01600 | Loss 40.6208 | Modularity 0.0000 | Time(s) 0.0346\n",
      "Epoch 01620 | Loss 40.6208 | Modularity 0.0000 | Time(s) 0.0346\n",
      "Epoch 01640 | Loss 40.6208 | Modularity 0.0000 | Time(s) 0.0345\n",
      "Epoch 01660 | Loss 40.6208 | Modularity 0.0000 | Time(s) 0.0345\n",
      "Epoch 01680 | Loss 40.6208 | Modularity 0.0000 | Time(s) 0.0344\n",
      "Epoch 01700 | Loss 40.6208 | Modularity 0.0000 | Time(s) 0.0343\n",
      "Epoch 01720 | Loss 40.6208 | Modularity 0.0000 | Time(s) 0.0342\n",
      "Epoch 01740 | Loss 40.6208 | Modularity 0.0000 | Time(s) 0.0342\n",
      "Epoch 01760 | Loss 40.6208 | Modularity 0.0000 | Time(s) 0.0342\n",
      "Epoch 01780 | Loss 40.6208 | Modularity 0.0000 | Time(s) 0.0342\n",
      "Epoch 01800 | Loss 40.6208 | Modularity 0.0000 | Time(s) 0.0342\n",
      "Epoch 01820 | Loss 40.6208 | Modularity 0.0000 | Time(s) 0.0342\n",
      "Epoch 01840 | Loss 40.6208 | Modularity 0.0000 | Time(s) 0.0341\n",
      "Epoch 01860 | Loss 40.6208 | Modularity 0.0000 | Time(s) 0.0342\n",
      "Epoch 01880 | Loss 40.6208 | Modularity 0.0000 | Time(s) 0.0341\n",
      "Epoch 01900 | Loss 40.6208 | Modularity 0.0000 | Time(s) 0.0340\n",
      "Epoch 01920 | Loss 40.6208 | Modularity 0.0000 | Time(s) 0.0340\n",
      "Epoch 01940 | Loss 40.6208 | Modularity 0.0000 | Time(s) 0.0339\n",
      "Epoch 01960 | Loss 40.6208 | Modularity 0.0000 | Time(s) 0.0339\n",
      "Epoch 01980 | Loss 40.6208 | Modularity 0.0000 | Time(s) 0.0338\n",
      "Epoch 02000 | Loss 40.6208 | Modularity 0.0000 | Time(s) 0.0337\n",
      "Epoch 02020 | Loss 40.6208 | Modularity 0.0000 | Time(s) 0.0338\n",
      "Epoch 02040 | Loss 40.6208 | Modularity 0.0000 | Time(s) 0.0337\n",
      "Epoch 02060 | Loss 40.6208 | Modularity 0.0000 | Time(s) 0.0337\n",
      "Epoch 02080 | Loss 40.6208 | Modularity 0.0000 | Time(s) 0.0337\n",
      "Epoch 02100 | Loss 40.6208 | Modularity 0.0000 | Time(s) 0.0337\n",
      "Epoch 02120 | Loss 40.6208 | Modularity 0.0000 | Time(s) 0.0337\n",
      "Epoch 02140 | Loss 40.6208 | Modularity 0.0000 | Time(s) 0.0336\n",
      "Epoch 02160 | Loss 40.6208 | Modularity 0.0000 | Time(s) 0.0338\n",
      "Epoch 02180 | Loss 40.6208 | Modularity 0.0000 | Time(s) 0.0338\n",
      "Epoch 02200 | Loss 40.6208 | Modularity 0.0000 | Time(s) 0.0337\n",
      "Epoch 02220 | Loss 40.6208 | Modularity 0.0000 | Time(s) 0.0338\n",
      "Epoch 02240 | Loss 40.6208 | Modularity 0.0000 | Time(s) 0.0337\n",
      "Epoch 02260 | Loss 40.6208 | Modularity 0.0000 | Time(s) 0.0337\n",
      "Epoch 02280 | Loss 40.6208 | Modularity 0.0000 | Time(s) 0.0336\n",
      "Epoch 02300 | Loss 40.6208 | Modularity 0.0000 | Time(s) 0.0336\n",
      "Epoch 02320 | Loss 40.6208 | Modularity 0.0000 | Time(s) 0.0336\n",
      "Epoch 02340 | Loss 40.6208 | Modularity 0.0000 | Time(s) 0.0336\n",
      "Epoch 02360 | Loss 40.6208 | Modularity 0.0000 | Time(s) 0.0336\n",
      "Epoch 02380 | Loss 40.6208 | Modularity 0.0000 | Time(s) 0.0336\n",
      "Epoch 02400 | Loss 40.6208 | Modularity 0.0000 | Time(s) 0.0336\n",
      "Epoch 02420 | Loss 40.6208 | Modularity 0.0000 | Time(s) 0.0335\n",
      "Epoch 02440 | Loss 40.6208 | Modularity 0.0000 | Time(s) 0.0335\n",
      "Epoch 02460 | Loss 40.6208 | Modularity 0.0000 | Time(s) 0.0334\n",
      "Epoch 02480 | Loss 40.6208 | Modularity 0.0000 | Time(s) 0.0333\n",
      "Epoch 02500 | Loss 40.6208 | Modularity 0.0000 | Time(s) 0.0334\n",
      "Epoch 02520 | Loss 40.6208 | Modularity 0.0000 | Time(s) 0.0333\n",
      "Epoch 02540 | Loss 40.6208 | Modularity 0.0000 | Time(s) 0.0333\n",
      "Epoch 02560 | Loss 40.6208 | Modularity 0.0000 | Time(s) 0.0333\n"
     ]
    },
    {
     "name": "stdout",
     "output_type": "stream",
     "text": [
      "Epoch 02580 | Loss 40.6208 | Modularity 0.0000 | Time(s) 0.0333\n",
      "Epoch 02600 | Loss 40.6208 | Modularity 0.0000 | Time(s) 0.0333\n",
      "Epoch 02620 | Loss 40.6208 | Modularity 0.0000 | Time(s) 0.0333\n",
      "Epoch 02640 | Loss 40.6208 | Modularity 0.0000 | Time(s) 0.0332\n",
      "Epoch 02660 | Loss 40.6208 | Modularity 0.0000 | Time(s) 0.0332\n",
      "Epoch 02680 | Loss 40.6208 | Modularity 0.0000 | Time(s) 0.0332\n",
      "Epoch 02700 | Loss 40.6208 | Modularity 0.0000 | Time(s) 0.0332\n",
      "Epoch 02720 | Loss 40.6208 | Modularity 0.0000 | Time(s) 0.0331\n",
      "Epoch 02740 | Loss 40.6208 | Modularity 0.0000 | Time(s) 0.0331\n",
      "Epoch 02760 | Loss 40.6208 | Modularity 0.0000 | Time(s) 0.0331\n",
      "Epoch 02780 | Loss 40.6208 | Modularity 0.0000 | Time(s) 0.0331\n",
      "Epoch 02800 | Loss 40.6208 | Modularity 0.0000 | Time(s) 0.0330\n",
      "Epoch 02820 | Loss 40.6208 | Modularity 0.0000 | Time(s) 0.0330\n",
      "Epoch 02840 | Loss 40.6208 | Modularity 0.0000 | Time(s) 0.0330\n",
      "Epoch 02860 | Loss 40.6208 | Modularity 0.0000 | Time(s) 0.0330\n",
      "Epoch 02880 | Loss 40.6208 | Modularity 0.0000 | Time(s) 0.0330\n",
      "Epoch 02900 | Loss 40.6208 | Modularity 0.0000 | Time(s) 0.0331\n",
      "Epoch 02920 | Loss 40.6208 | Modularity 0.0000 | Time(s) 0.0332\n",
      "Epoch 02940 | Loss 40.6208 | Modularity 0.0000 | Time(s) 0.0331\n",
      "Epoch 02960 | Loss 40.6208 | Modularity 0.0000 | Time(s) 0.0331\n",
      "Epoch 02980 | Loss 40.6208 | Modularity 0.0000 | Time(s) 0.0331\n"
     ]
    }
   ],
   "source": [
    "optimizer = th.optim.Adam(net.parameters(), lr=2e-2)\n",
    "# optimizer = th.optim.Adam(net.parameters(), lr=3e-2, weight_decay=0, betas=(0.5, 0.999), eps=1e-08)\n",
    "epoch_num = 3000\n",
    "dur_loss = []\n",
    "dur_modu = []\n",
    "dur = []\n",
    "\n",
    "net.train()\n",
    "\n",
    "for epoch in range(epoch_num):\n",
    "    if epoch >=0:\n",
    "        t0 = time.time()\n",
    "    \n",
    "    # net.train()\n",
    "    Z = net(DG1, features)\n",
    "    # Z_norm = th.div(Z, Z.sum(axis=1).view(-1, 1))\n",
    "    U = F.softmax(Z, dim=1).T\n",
    "    L = th.mm(th.mm(U, B_norm), U.T)\n",
    "    L = F.softmax(L, dim=0)\n",
    "    # L = F.softmax(th.div(L, L.sum(axis=0)), dim=0)\n",
    "    # loss = -1*th.trace(L)/mm\n",
    "    # loss = th.trace(-1*th.log_softmax(L, dim=0))\n",
    "    loss = th.trace(-th.log(L))\n",
    "    dur_loss.append(loss)\n",
    "    \n",
    "    optimizer.zero_grad()\n",
    "    loss.backward()\n",
    "    optimizer.step()\n",
    "    \n",
    "    if epoch >=0:\n",
    "        dur.append(time.time() - t0)\n",
    "\n",
    "    partition = dict(zip(list(G1.nodes()), th.argmax(U, axis=0).tolist())) \n",
    "    dur_modu.append(community.modularity(partition, G1, weight='weight'))\n",
    "    if epoch%20 == 0:\n",
    "        print(\"Epoch {:05d} | Loss {:.4f} | Modularity {:.4f} | Time(s) {:.4f}\".format(epoch, loss.item(), dur_modu[-1], np.mean(dur)))"
   ]
  },
  {
   "cell_type": "code",
   "execution_count": 16,
   "metadata": {},
   "outputs": [
    {
     "name": "stdout",
     "output_type": "stream",
     "text": [
      "tensor([[5.6967, 2.2068, 0.0000,  ..., 1.9392, 0.0000, 0.0000],\n",
      "        [2.4463, 3.8424, 0.0000,  ..., 2.6182, 0.0000, 0.0000],\n",
      "        [0.0000, 0.5441, 0.0000,  ..., 0.0000, 0.0000, 0.0000],\n",
      "        ...,\n",
      "        [0.0000, 0.9094, 0.0000,  ..., 0.0000, 0.0000, 0.0000],\n",
      "        [0.0000, 0.5964, 0.0000,  ..., 0.0000, 0.0000, 0.0000],\n",
      "        [0.0000, 1.1246, 0.0000,  ..., 0.0368, 0.0000, 0.0000]],\n",
      "       grad_fn=<ReluBackward0>)\n",
      "tensor(183.0241, grad_fn=<MaxBackward1>)\n"
     ]
    }
   ],
   "source": [
    "print(Z)\n",
    "print(th.max(Z))"
   ]
  },
  {
   "cell_type": "code",
   "execution_count": 18,
   "metadata": {},
   "outputs": [
    {
     "data": {
      "text/plain": [
       "tensor(1., grad_fn=<MaxBackward1>)"
      ]
     },
     "execution_count": 18,
     "metadata": {},
     "output_type": "execute_result"
    }
   ],
   "source": [
    "th.max(F.softmax(Z, dim=1).T)"
   ]
  },
  {
   "cell_type": "markdown",
   "metadata": {},
   "source": [
    "**GCN+logmodularity+ReLU**"
   ]
  },
  {
   "cell_type": "code",
   "execution_count": 14,
   "metadata": {},
   "outputs": [
    {
     "data": {
      "image/png": "[encoded data removed]",
      "text/plain": [
       "<Figure size 1440x432 with 2 Axes>"
      ]
     },
     "metadata": {
      "needs_background": "light"
     },
     "output_type": "display_data"
    }
   ],
   "source": [
    "import matplotlib.pyplot as plt\n",
    "\n",
    "plt.figure(figsize=(20, 6))\n",
    "\n",
    "plt.subplot(1, 2, 1)\n",
    "plt.plot(list(range(epoch_num)), dur_loss, color='red', label='loss', alpha=0.8)\n",
    "plt.grid(True)\n",
    "\n",
    "plt.subplot(1, 2, 2)\n",
    "plt.plot(list(range(epoch_num)), dur_modu, color='blue', label='modularity', alpha=0.8)\n",
    "plt.grid(True)\n",
    "# plt.legend()\n",
    "\n",
    "plt.show()"
   ]
  },
  {
   "cell_type": "markdown",
   "metadata": {},
   "source": [
    "**GCN+logmodularity**"
   ]
  },
  {
   "cell_type": "code",
   "execution_count": 15,
   "metadata": {},
   "outputs": [
    {
     "data": {
      "image/png": "[encoded data removed]",
      "text/plain": [
       "<Figure size 1440x432 with 2 Axes>"
      ]
     },
     "metadata": {
      "needs_background": "light"
     },
     "output_type": "display_data"
    }
   ],
   "source": [
    "import matplotlib.pyplot as plt\n",
    "\n",
    "plt.figure(figsize=(20, 6))\n",
    "\n",
    "plt.subplot(1, 2, 1)\n",
    "plt.plot(list(range(epoch_num)), dur_loss, color='red', label='loss', alpha=0.8)\n",
    "plt.grid(True)\n",
    "\n",
    "plt.subplot(1, 2, 2)\n",
    "plt.plot(list(range(epoch_num)), dur_modu, color='blue', label='modularity', alpha=0.8)\n",
    "plt.grid(True)\n",
    "# plt.legend()\n",
    "\n",
    "plt.show()"
   ]
  },
  {
   "cell_type": "code",
   "execution_count": 181,
   "metadata": {
    "scrolled": true
   },
   "outputs": [
    {
     "name": "stdout",
     "output_type": "stream",
     "text": [
      "0.33743910042380676\n"
     ]
    }
   ],
   "source": [
    "print(max(dur_modu))"
   ]
  },
  {
   "cell_type": "code",
   "execution_count": null,
   "metadata": {},
   "outputs": [],
   "source": []
  }
 ],
 "metadata": {
  "kernelspec": {
   "display_name": "Python 3",
   "language": "python",
   "name": "python3"
  },
  "language_info": {
   "codemirror_mode": {
    "name": "ipython",
    "version": 3
   },
   "file_extension": ".py",
   "mimetype": "text/x-python",
   "name": "python",
   "nbconvert_exporter": "python",
   "pygments_lexer": "ipython3",
   "version": "3.7.7"
  }
 },
 "nbformat": 4,
 "nbformat_minor": 4
}
